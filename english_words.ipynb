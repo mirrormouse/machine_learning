{
  "nbformat": 4,
  "nbformat_minor": 0,
  "metadata": {
    "colab": {
      "name": "english_words.ipynb",
      "provenance": [],
      "collapsed_sections": [],
      "authorship_tag": "ABX9TyMSLZT7EBGW65s8F+qKbs3V",
      "include_colab_link": true
    },
    "kernelspec": {
      "name": "python3",
      "display_name": "Python 3"
    },
    "language_info": {
      "name": "python"
    }
  },
  "cells": [
    {
      "cell_type": "markdown",
      "metadata": {
        "id": "view-in-github",
        "colab_type": "text"
      },
      "source": [
        "<a href=\"https://colab.research.google.com/github/mirrormouse/machine_learning/blob/main/english_words.ipynb\" target=\"_parent\"><img src=\"https://colab.research.google.com/assets/colab-badge.svg\" alt=\"Open In Colab\"/></a>"
      ]
    },
    {
      "cell_type": "markdown",
      "metadata": {
        "id": "ugazApsSPAwx"
      },
      "source": [
        "アルファベットと数字の変換準備（主観で母音->子音->あんまり使わないやつに並べた）"
      ]
    },
    {
      "cell_type": "code",
      "metadata": {
        "colab": {
          "base_uri": "https://localhost:8080/"
        },
        "id": "RlLgzl_htT7V",
        "outputId": "6917dcfc-5c8c-4f19-e078-2f0ddc818f6c"
      },
      "source": [
        "import random\n",
        "char=\"aiueomnhygrlbcdfkpstvwzxjq\"\n",
        "dic={}\n",
        "for i in range(len(char)):\n",
        "  dic[char[i]]=i\n",
        "print(dic['c'])\n"
      ],
      "execution_count": 29,
      "outputs": [
        {
          "output_type": "stream",
          "name": "stdout",
          "text": [
            "13\n"
          ]
        }
      ]
    },
    {
      "cell_type": "markdown",
      "metadata": {
        "id": "VM_FPnhRPCqh"
      },
      "source": [
        "ドライブをインポート"
      ]
    },
    {
      "cell_type": "code",
      "metadata": {
        "colab": {
          "base_uri": "https://localhost:8080/"
        },
        "id": "zPL4SZ9oxGWS",
        "outputId": "6e4c1808-fba8-49a4-d613-d10944f36d1d"
      },
      "source": [
        "from google.colab import drive\n",
        "drive.mount('/content/drive')"
      ],
      "execution_count": 6,
      "outputs": [
        {
          "output_type": "stream",
          "name": "stdout",
          "text": [
            "Mounted at /content/drive\n"
          ]
        }
      ]
    },
    {
      "cell_type": "markdown",
      "metadata": {
        "id": "jj6NOPBKO_Rt"
      },
      "source": [
        "でたらめな５文字からなる英単語もどきを生成。これを数値に変換\n",
        "例）[\"aiueq\",...]->[[0,1,2,3,25],...]"
      ]
    },
    {
      "cell_type": "code",
      "metadata": {
        "colab": {
          "base_uri": "https://localhost:8080/"
        },
        "id": "Y-y14Hz-uPu2",
        "outputId": "dbaafd1b-9927-48f9-ea87-022c5654bcaf"
      },
      "source": [
        "def generate(data_size=1814,length=5):\n",
        "  random_list=[]\n",
        "  random_words=[]\n",
        "  for i in range(data_size):\n",
        "    word=''\n",
        "    num=[]\n",
        "    for j in range(length):\n",
        "      a=random.randrange(26)\n",
        "      c=char[a]\n",
        "      word+=c\n",
        "      num.append(a)\n",
        "    random_list.append(num)\n",
        "    random_words.append(word)\n",
        "  return random_list,random_words\n",
        "\n",
        "lists,word=generate(data_size=1814)\n",
        "print(lists[:100])"
      ],
      "execution_count": 38,
      "outputs": [
        {
          "output_type": "stream",
          "name": "stdout",
          "text": [
            "[[19, 14, 23, 22, 4], [4, 20, 10, 16, 7], [13, 8, 13, 11, 12], [5, 25, 11, 23, 25], [1, 20, 0, 21, 10], [16, 20, 3, 20, 11], [0, 24, 20, 2, 22], [9, 2, 15, 3, 16], [10, 11, 4, 9, 5], [15, 8, 17, 7, 25], [2, 24, 10, 18, 22], [0, 14, 18, 21, 6], [2, 10, 20, 6, 22], [13, 4, 14, 10, 5], [25, 16, 10, 21, 12], [23, 1, 12, 2, 22], [5, 14, 4, 18, 5], [21, 18, 11, 4, 1], [9, 22, 4, 21, 22], [0, 10, 15, 24, 10], [20, 21, 6, 9, 21], [11, 22, 14, 7, 18], [14, 21, 18, 25, 18], [2, 25, 12, 19, 19], [17, 14, 5, 9, 14], [14, 6, 7, 13, 0], [7, 0, 8, 10, 13], [3, 19, 20, 24, 17], [4, 22, 5, 12, 20], [16, 19, 13, 1, 7], [20, 15, 5, 4, 23], [8, 20, 19, 14, 25], [5, 2, 5, 20, 2], [19, 4, 16, 8, 14], [4, 6, 9, 25, 6], [9, 0, 15, 6, 15], [15, 19, 1, 13, 21], [15, 22, 14, 12, 9], [24, 16, 25, 9, 12], [3, 16, 10, 19, 21], [7, 2, 10, 21, 17], [4, 16, 24, 17, 1], [10, 8, 1, 6, 19], [7, 5, 5, 23, 15], [0, 15, 21, 6, 10], [9, 25, 15, 12, 9], [7, 16, 23, 0, 14], [13, 4, 20, 8, 1], [13, 23, 3, 4, 9], [2, 13, 3, 2, 2], [18, 9, 20, 4, 7], [23, 21, 12, 13, 22], [19, 23, 13, 19, 10], [2, 10, 20, 19, 14], [17, 17, 22, 12, 16], [6, 4, 4, 20, 1], [11, 2, 7, 11, 13], [20, 5, 4, 13, 14], [12, 22, 0, 8, 9], [7, 4, 20, 7, 7], [22, 23, 17, 6, 23], [13, 3, 23, 6, 5], [6, 12, 22, 17, 7], [6, 15, 3, 8, 20], [9, 16, 3, 2, 24], [18, 19, 24, 13, 14], [16, 6, 24, 15, 5], [24, 9, 22, 20, 17], [8, 10, 7, 2, 21], [22, 19, 6, 5, 15], [7, 2, 10, 14, 2], [15, 0, 6, 16, 10], [5, 0, 7, 21, 7], [3, 19, 20, 14, 15], [24, 9, 3, 7, 17], [7, 22, 6, 24, 2], [8, 19, 11, 21, 23], [1, 18, 11, 8, 8], [7, 1, 3, 0, 15], [11, 7, 23, 13, 19], [10, 23, 3, 15, 16], [0, 15, 25, 22, 25], [6, 4, 4, 6, 6], [1, 16, 11, 18, 22], [25, 16, 13, 14, 19], [16, 24, 17, 0, 18], [22, 17, 12, 12, 18], [3, 0, 0, 14, 20], [21, 2, 9, 12, 6], [25, 3, 4, 20, 18], [20, 2, 10, 20, 1], [13, 7, 17, 17, 0], [22, 5, 24, 2, 2], [16, 16, 1, 18, 11], [16, 1, 5, 7, 24], [9, 7, 5, 6, 19], [4, 0, 23, 18, 20], [7, 4, 18, 1, 21], [1, 11, 13, 14, 0], [5, 22, 5, 14, 12]]\n"
          ]
        }
      ]
    },
    {
      "cell_type": "markdown",
      "metadata": {
        "id": "10LnnM3LPMa0"
      },
      "source": [
        "英文データの読み込み"
      ]
    },
    {
      "cell_type": "code",
      "metadata": {
        "colab": {
          "base_uri": "https://localhost:8080/"
        },
        "id": "TgTsxOv3xPeo",
        "outputId": "928f6880-829b-4fa1-fd23-4757680e56c1"
      },
      "source": [
        "base='drive/MyDrive/ML/train/'\n",
        "f = open(base+'train.txt', 'r')\n",
        "rawdata = f.read()\n",
        "data=rawdata.split()\n",
        "print(data)\n",
        "f.close()"
      ],
      "execution_count": 35,
      "outputs": [
        {
          "output_type": "stream",
          "name": "stdout",
          "text": [
            "['The', 'two', 'submarines', 'of', 'the', 'U-1', 'class,', 'U-1', 'and', 'U-2,', 'were', 'built', 'for', 'the', 'Austro-Hungarian', 'Navy.', 'Constructed', 'according', 'to', 'an', 'American', 'design,', 'they', 'were', 'launched', 'in', '1909.', 'A', 'diving', 'chamber,', 'wheels', 'for', 'traveling', 'along', 'the', 'seabed,', 'and', 'other', 'experimental', 'features', 'were', 'tested', 'extensively', 'in', 'sea', 'trials.', 'Their', 'gasoline', 'engines', 'were', 'replaced', 'around', 'the', 'start', 'of', 'World', 'War', 'I', 'over', 'safety', 'and', 'efficiency', 'concerns.', 'The', 'boats', 'have', 'been', 'described', 'by', 'naval', 'historians', 'as', 'obsolete', 'by', 'the', 'time', 'they', 'were', 'commissioned', 'in', '1911.', 'Both', 'submarines', 'were', 'mobilized', 'briefly', 'during', 'the', 'Balkan', 'Wars,', 'and', 'otherwise', 'served', 'as', 'training', 'boats', 'before', '1915.', 'From', '1915', 'to', '1918', 'they', 'conducted', 'reconnaissance', 'cruises', 'out', 'of', 'Trieste', 'and', 'Pola,', 'though', 'neither', 'sank', 'any', 'enemy', 'vessels', 'during', 'the', 'war.', 'Facing', 'defeat', 'in', 'October', '1918,', 'the', 'Austro-Hungarian', 'government', 'transferred', 'the', 'bulk', 'of', 'its', 'fleet,', 'including', 'these', 'submarines,', 'to', 'the', 'newly', 'formed', 'State', 'of', 'Slovenes,', 'Croats', 'and', 'Serbs', 'to', 'avoid', 'having', 'to', 'hand', 'its', 'ships', 'over', 'to', 'the', 'Allied', 'Powers.', '(Full', 'article...)', 'The', 'United', 'States', 'of', 'America', '(U.S.A.', 'or', 'USA),', 'commonly', 'known', 'as', 'the', 'United', 'States', '(U.S.', 'or', 'US)', 'or', 'America,', 'is', 'a', 'country', 'primarily', 'located', 'in', 'North', 'America.', 'It', 'consists', 'of', '50', 'states,', 'a', 'federal', 'district,', 'five', 'major', 'unincorporated', 'territories,', '326', 'Indian', 'reservations,', 'and', 'some', 'minor', 'possessions.[j]', 'At', '3.8', 'million', 'square', 'miles', '(9.8', 'million', 'square', 'kilometers),', 'it', 'is', 'the', \"world's\", 'third-', 'or', 'fourth-largest', 'country', 'by', 'total', 'area.[d]', 'The', 'United', 'States', 'shares', 'significant', 'land', 'borders', 'with', 'Canada', 'to', 'the', 'north', 'and', 'Mexico', 'to', 'the', 'south,', 'as', 'well', 'as', 'limited', 'maritime', 'borders', 'with', 'the', 'Bahamas,', 'Cuba,', 'and', 'Russia.[22]', 'With', 'a', 'population', 'of', 'more', 'than', '331', 'million', 'people,', 'it', 'is', 'the', 'third', 'most', 'populous', 'country', 'in', 'the', 'world.', 'The', 'national', 'capital', 'is', 'Washington,', 'D.C.,', 'and', 'the', 'most', 'populous', 'city', 'is', 'New', 'York', 'City.', 'Paleo-Indians', 'migrated', 'from', 'Siberia', 'to', 'the', 'North', 'American', 'mainland', 'at', 'least', '12,000', 'years', 'ago,', 'and', 'European', 'colonization', 'began', 'in', 'the', '16th', 'century.', 'The', 'United', 'States', 'emerged', 'from', 'the', 'thirteen', 'British', 'colonies', 'established', 'along', 'the', 'East', 'Coast.', 'Disputes', 'over', 'taxation', 'and', 'political', 'representation', 'with', 'Great', 'Britain', 'led', 'to', 'the', 'American', 'Revolutionary', 'War', '(1775–1783),', 'which', 'established', 'independence.', 'In', 'the', 'late', '18th', 'century,', 'the', 'U.S.', 'began', 'expanding', 'across', 'North', 'America,', 'gradually', 'obtaining', 'new', 'territories,', 'sometimes', 'through', 'war,', 'frequently', 'displacing', 'Native', 'Americans,', 'and', 'admitting', 'new', 'states;', 'by', '1848,', 'the', 'United', 'States', 'spanned', 'the', 'continent.', 'Slavery', 'was', 'legal', 'in', 'the', 'southern', 'United', 'States', 'until', 'the', 'second', 'half', 'of', 'the', '19th', 'century', 'when', 'the', 'American', 'Civil', 'War', 'led', 'to', 'its', 'abolition.', 'The', 'Spanish–American', 'War', 'and', 'World', 'War', 'I', 'established', 'the', 'U.S.', 'as', 'a', 'world', 'power,', 'a', 'status', 'confirmed', 'by', 'the', 'outcome', 'of', 'World', 'War', 'II.', 'During', 'the', 'Cold', 'War,', 'the', 'United', 'States', 'fought', 'the', 'Korean', 'War', 'and', 'the', 'Vietnam', 'War', 'but', 'avoided', 'direct', 'military', 'conflict', 'with', 'the', 'Soviet', 'Union.', 'The', 'two', 'superpowers', 'competed', 'in', 'the', 'Space', 'Race,', 'culminating', 'in', 'the', '1969', 'spaceflight', 'that', 'first', 'landed', 'humans', 'on', 'the', 'Moon.', 'The', 'Soviet', \"Union's\", 'dissolution', 'in', '1991', 'ended', 'the', 'Cold', 'War,', 'leaving', 'the', 'United', 'States', 'as', 'the', \"world's\", 'sole', 'superpower.', 'The', 'United', 'States', 'is', 'a', 'federal', 'republic', 'and', 'a', 'representative', 'democracy', 'with', 'three', 'separate', 'branches', 'of', 'government,', 'including', 'a', 'bicameral', 'legislature.', 'It', 'is', 'a', 'founding', 'member', 'of', 'the', 'United', 'Nations,', 'World', 'Bank,', 'International', 'Monetary', 'Fund,', 'Organization', 'of', 'American', 'States,', 'NATO,', 'and', 'other', 'international', 'organizations.', 'It', 'is', 'a', 'permanent', 'member', 'of', 'the', 'United', 'Nations', 'Security', 'Council.', 'Considered', 'a', 'melting', 'pot', 'of', 'cultures', 'and', 'ethnicities,', 'its', 'population', 'has', 'been', 'profoundly', 'shaped', 'by', 'centuries', 'of', 'immigration.', 'The', 'U.S.', 'ranks', 'high', 'in', 'international', 'measures', 'of', 'economic', 'freedom,', 'quality', 'of', 'life,', 'education,', 'and', 'human', 'rights,', 'and', 'has', 'low', 'levels', 'of', 'perceived', 'corruption.', 'However,', 'the', 'country', 'has', 'received', 'criticism', 'concerning', 'inequality', 'related', 'to', 'race,', 'wealth', 'and', 'income,', 'the', 'use', 'of', 'capital', 'punishment,', 'high', 'incarceration', 'rates,', 'and', 'lack', 'of', 'universal', 'health', 'care.', 'The', 'United', 'States', 'is', 'a', 'highly', 'developed', 'country,', 'accounts', 'for', 'approximately', 'a', 'quarter', 'of', 'global', 'GDP,', 'and', 'is', 'the', \"world's\", 'largest', 'economy', 'by', 'GDP', 'at', 'market', 'exchange', 'rates.', 'By', 'value,', 'the', 'United', 'States', 'is', 'the', \"world's\", 'largest', 'importer', 'and', 'the', 'second-largest', 'exporter', 'of', 'goods.', 'Although', 'its', 'population', 'is', 'only', '4.2%', 'of', 'the', \"world's\", 'total,', 'it', 'holds', '29.4%', 'of', 'the', 'total', 'wealth', 'in', 'the', 'world,', 'the', 'largest', 'share', 'held', 'by', 'any', 'country.', 'Making', 'up', 'more', 'than', 'a', 'third', 'of', 'global', 'military', 'spending,', 'it', 'is', 'the', 'foremost', 'military', 'power', 'in', 'the', 'world;', 'and', 'it', 'is', 'a', 'leading', 'political,', 'cultural,', 'and', 'scientific', 'force', 'internationally.[23]', 'Etymology', 'See', 'also:', 'Naming', 'of', 'the', 'Americas,', 'Names', 'of', 'the', 'United', 'States,', 'Names', 'for', 'United', 'States', 'citizens,', 'and', 'American', '(word)', 'The', 'first', 'known', 'use', 'of', 'the', 'name', '\"America\"', 'dates', 'back', 'to', '1507,', 'when', 'it', 'appeared', 'on', 'a', 'world', 'map', 'produced', 'by', 'the', 'German', 'cartographer', 'Martin', 'Waldseemüller.', 'On', 'his', 'map,', 'the', 'name', 'is', 'shown', 'in', 'large', 'letters', 'on', 'what', 'would', 'now', 'be', 'considered', 'South', 'America,', 'in', 'honor', 'of', 'Amerigo', 'Vespucci.', 'The', 'Italian', 'explorer', 'was', 'the', 'first', 'to', 'postulate', 'that', 'the', 'West', 'Indies', 'did', 'not', 'represent', \"Asia's\", 'eastern', 'limit', 'but', 'were', 'part', 'of', 'a', 'previously', 'unknown', 'landmass.[24][25]', 'In', '1538,', 'the', 'Flemish', 'cartographer', 'Gerardus', 'Mercator', 'used', 'the', 'name', '\"America\"', 'on', 'his', 'own', 'world', 'map,', 'applying', 'it', 'to', 'the', 'entire', 'Western', 'Hemisphere.[26]', 'The', 'first', 'documentary', 'evidence', 'of', 'the', 'phrase', '\"United', 'States', 'of', 'America\"', 'dates', 'from', 'a', 'January', '2,', '1776', 'letter', 'written', 'by', 'Stephen', 'Moylan', 'to', 'George', \"Washington's\", 'aide-de-camp', 'Joseph', 'Reed.', 'Moylan', 'expressed', 'his', 'wish', 'to', 'go', '\"with', 'full', 'and', 'ample', 'powers', 'from', 'the', 'United', 'States', 'of', 'America', 'to', 'Spain\"', 'to', 'seek', 'assistance', 'in', 'the', 'revolutionary', 'war', 'effort.[27][28][29]', 'The', 'first', 'known', 'publication', 'of', 'the', 'phrase', '\"United', 'States', 'of', 'America\"', 'was', 'in', 'an', 'anonymous', 'essay', 'in', 'The', 'Virginia', 'Gazette', 'newspaper', 'in', 'Williamsburg,', 'Virginia,', 'on', 'April', '6,', '1776.[30]', 'The', 'second', 'draft', 'of', 'the', 'Articles', 'of', 'Confederation,', 'prepared', 'by', 'John', 'Dickinson', 'and', 'completed', 'no', 'later', 'than', 'June', '17,', '1776,', 'declared', '\"The', 'name', 'of', 'this', 'Confederation', 'shall', 'be', 'the', \"'United\", 'States', 'of', 'America\\'.\"[31]', 'The', 'final', 'version', 'of', 'the', 'Articles,', 'sent', 'to', 'the', 'states', 'for', 'ratification', 'in', 'late', '1777,', 'stated', 'that', '\"The', 'Stile', 'of', 'this', 'Confederacy', 'shall', 'be', \"'The\", 'United', 'States', 'of', 'America\\'.\"[32]', 'In', 'June', '1776,', 'Thomas', 'Jefferson', 'wrote', 'the', 'phrase', '\"UNITED', 'STATES', 'OF', 'AMERICA\"', 'in', 'all', 'capitalized', 'letters', 'in', 'the', 'headline', 'of', 'his', '\"original', 'Rough', 'draught\"', 'of', 'the', 'Declaration', 'of', 'Independence.[31]', 'This', 'draft', 'of', 'the', 'document', 'did', 'not', 'surface', 'until', 'June', '21,', '1776,', 'and', 'it', 'is', 'unclear', 'whether', 'it', 'was', 'written', 'before', 'or', 'after', 'Dickinson', 'used', 'the', 'term', 'in', 'his', 'June', '17', 'draft', 'of', 'the', 'Articles', 'of', 'Confederation.[31]', 'The', 'short', 'form', '\"United', 'States\"', 'is', 'also', 'standard.', 'Other', 'common', 'forms', 'are', 'the', '\"U.S.\",', 'the', '\"USA\",', 'and', '\"America\".', 'Colloquial', 'names', 'are', 'the', '\"U.S.', 'of', 'A.\"', 'and,', 'internationally,', 'the', '\"States\".', '\"Columbia\",', 'a', 'name', 'popular', 'in', 'American', 'poetry', 'and', 'songs', 'of', 'the', 'late', '18th', 'century,', 'derives', 'its', 'origin', 'from', 'Christopher', 'Columbus;', 'both', '\"Columbus\"', 'and', '\"Columbia\"', 'appear', 'frequently', 'in', 'U.S.', 'place-names,', 'including', 'Columbus,', 'Ohio,', 'Columbia,', 'South', 'Carolina,', 'and', 'the', 'District', 'of', 'Columbia.', 'Places', 'and', 'institutions', 'throughout', 'the', 'Western', 'Hemisphere', 'bear', 'the', 'two', 'names,', 'including', 'Colón,', 'Panama,', 'the', 'country', 'of', 'Colombia,', 'the', 'Columbia', 'River,', 'and', 'Columbia', 'University.', 'The', 'phrase', '\"United', 'States\"', 'was', 'originally', 'plural', 'in', 'American', 'usage.', 'It', 'described', 'a', 'collection', 'of', 'states—e.g.,', '\"the', 'United', 'States', 'are.\"', 'The', 'singular', 'form', 'became', 'popular', 'after', 'the', 'end', 'of', 'the', 'Civil', 'War', 'and', 'is', 'now', 'standard', 'usage', 'in', 'the', 'U.S.', 'A', 'citizen', 'of', 'the', 'United', 'States', 'is', 'an', '\"American\".', '\"United', 'States\",', '\"American\"', 'and', '\"U.S.\"', 'refer', 'to', 'the', 'country', 'adjectivally', '(\"American', 'values\",', '\"U.S.', 'forces\").', 'In', 'English,', 'the', 'word', '\"American\"', 'rarely', 'refers', 'to', 'topics', 'or', 'subjects', 'not', 'directly', 'connected', 'with', 'the', 'United', 'States.[33]', 'History', 'Main', 'articles:', 'History', 'of', 'the', 'United', 'States', 'and', 'Outline', 'of', 'United', 'States', 'history', 'Indigenous', 'peoples', 'and', 'pre-Columbian', 'history', 'Further', 'information:', 'Native', 'Americans', 'in', 'the', 'United', 'States,', 'Prehistory', 'of', 'the', 'United', 'States,', 'and', 'Pre-Columbian', 'era', 'Aerial', 'view', 'of', 'the', 'Cliff', 'Palace', 'The', 'Cliff', 'Palace,', 'built', 'by', 'the', 'Native', 'American', 'Puebloans', 'between', 'AD', '1190', 'and', '1260', 'It', 'has', 'been', 'generally', 'accepted', 'that', 'the', 'first', 'inhabitants', 'of', 'North', 'America', 'migrated', 'from', 'Siberia', 'by', 'way', 'of', 'the', 'Bering', 'land', 'bridge', 'and', 'arrived', 'at', 'least', '12,000', 'years', 'ago;', 'however,', 'some', 'evidence', 'suggests', 'an', 'even', 'earlier', 'date', 'of', 'arrival.[34][35][36]', 'The', 'Clovis', 'culture,', 'which', 'appeared', 'around', '11,000', 'BC,', 'is', 'believed', 'to', 'represent', 'the', 'first', 'wave', 'of', 'human', 'settlement', 'of', 'the', 'Americas.[37][38]', 'This', 'was', 'likely', 'the', 'first', 'of', 'three', 'major', 'waves', 'of', 'migration', 'into', 'North', 'America;', 'later', 'waves', 'brought', 'the', 'ancestors', 'of', 'present-day', 'Athabaskans,', 'Aleuts,', 'and', 'Eskimos.[39]', 'Over', 'time,', 'indigenous', 'cultures', 'in', 'North', 'America', 'grew', 'increasingly', 'complex,', 'and', 'some,', 'such', 'as', 'the', 'pre-Columbian', 'Mississippian', 'culture', 'in', 'the', 'southeast,', 'developed', 'advanced', 'agriculture,', 'architecture,', 'and', 'complex', 'societies.[40]', 'The', 'city-state', 'of', 'Cahokia', 'is', 'the', 'largest,', 'most', 'complex', 'pre-Columbian', 'archaeological', 'site', 'in', 'the', 'modern-day', 'United', 'States.[41]', 'In', 'the', 'Four', 'Corners', 'region,', 'Ancestral', 'Puebloan', 'culture', 'developed', 'from', 'centuries', 'of', 'agricultural', 'experimentation.[42]', 'The', 'Haudenosaunee,', 'located', 'in', 'the', 'southern', 'Great', 'Lakes', 'region,', 'was', 'established', 'at', 'some', 'point', 'between', 'the', 'twelfth', 'and', 'fifteenth', 'centuries.[43]', 'Most', 'prominent', 'along', 'the', 'Atlantic', 'coast', 'were', 'the', 'Algonquian', 'tribes,', 'who', 'practiced', 'hunting', 'and', 'trapping,', 'along', 'with', 'limited', 'cultivation.', 'Estimating', 'the', 'native', 'population', 'of', 'North', 'America', 'at', 'the', 'time', 'of', 'European', 'contact', 'is', 'difficult.[44][45]', 'Douglas', 'H.', 'Ubelaker', 'of', 'the', 'Smithsonian', 'Institution', 'estimated', 'that', 'there', 'was', 'a', 'population', 'of', '92,916', 'in', 'the', 'south', 'Atlantic', 'states', 'and', 'a', 'population', 'of', '473,616', 'in', 'the', 'Gulf', 'states,[46]', 'but', 'most', 'academics', 'regard', 'this', 'figure', 'as', 'too', 'low.[44]', 'Anthropologist', 'Henry', 'F.', 'Dobyns', 'believed', 'the', 'populations', 'were', 'much', 'higher,', 'suggesting', 'around', '1.1', 'million', 'along', 'the', 'shores', 'of', 'the', 'Gulf', 'of', 'Mexico,', '2.2', 'million', 'people', 'living', 'between', 'Florida', 'and', 'Massachusetts,', '5.2', 'million', 'in', 'the', 'Mississippi', 'Valley', 'and', 'tributaries,', 'and', 'around', '700,000', 'people', 'in', 'the', 'Florida', 'peninsula.[44][45]', 'European', 'settlements', 'Further', 'information:', 'Colonial', 'history', 'of', 'the', 'United', 'States', 'and', 'Thirteen', 'Colonies', 'Claims', 'of', 'very', 'early', 'colonization', 'of', 'coastal', 'New', 'England', 'by', 'the', 'Norse', 'are', 'disputed', 'and', 'controversial.', 'The', 'first', 'documented', 'arrival', 'of', 'Europeans', 'in', 'the', 'continental', 'United', 'States', 'is', 'that', 'of', 'Spanish', 'conquistadors', 'such', 'as', 'Juan', 'Ponce', 'de', 'León,', 'who', 'made', 'his', 'first', 'expedition', 'to', 'Florida', 'in', '1513.', 'Even', 'earlier,', 'Christopher', 'Columbus', 'had', 'landed', 'in', 'Puerto', 'Rico', 'on', 'his', '1493', 'voyage,', 'and', 'San', 'Juan', 'was', 'settled', 'by', 'the', 'Spanish', 'a', 'decade', 'later.[47]', 'The', 'Spanish', 'set', 'up', 'the', 'first', 'settlements', 'in', 'Florida', 'and', 'New', 'Mexico,', 'such', 'as', 'Saint', 'Augustine,', 'often', 'considered', 'the', \"nation's\", 'oldest', 'city,[48]', 'and', 'Santa', 'Fe.', 'The', 'French', 'established', 'their', 'own', 'settlements', 'along', 'the', 'Mississippi', 'River,', 'notably', 'New', 'Orleans.[49]', 'Successful', 'English', 'settlement', 'of', 'the', 'eastern', 'coast', 'of', 'North', 'America', 'began', 'with', 'the', 'Virginia', 'Colony', 'in', '1607', 'at', 'Jamestown', 'and', 'with', 'the', \"Pilgrims'\", 'colony', 'at', 'Plymouth', 'in', '1620.[50][51]', 'The', \"continent's\", 'first', 'elected', 'legislative', 'assembly,', \"Virginia's\", 'House', 'of', 'Burgesses,', 'was', 'founded', 'in', '1619.', 'Documents', 'such', 'as', 'the', 'Mayflower', 'Compact', 'and', 'the', 'Fundamental', 'Orders', 'of', 'Connecticut', 'established', 'precedents', 'for', 'representative', 'self-government', 'and', 'constitutionalism', 'that', 'would', 'develop', 'throughout', 'the', 'American', 'colonies.[52][53]', 'Many', 'settlers', 'were', 'dissenting', 'Christians', 'who', 'came', 'seeking', 'religious', 'freedom.', 'In', '1784,', 'the', 'Russians', 'were', 'the', 'first', 'Europeans', 'to', 'establish', 'a', 'settlement', 'in', 'Alaska,', 'at', 'Three', 'Saints', 'Bay.', 'Russian', 'America', 'once', 'spanned', 'much', 'of', 'the', 'present-day', 'state', 'of', 'Alaska.[54]', 'In', 'the', 'early', 'days', 'of', 'colonization,', 'many', 'European', 'settlers', 'were', 'subject', 'to', 'food', 'shortages,', 'disease,', 'and', 'attacks', 'from', 'Native', 'Americans.', 'Native', 'Americans', 'were', 'also', 'often', 'at', 'war', 'with', 'neighboring', 'tribes', 'and', 'European', 'settlers.', 'In', 'many', 'cases,', 'however,', 'the', 'natives', 'and', 'settlers', 'came', 'to', 'depend', 'on', 'one', 'another.', 'Settlers', 'traded', 'for', 'food', 'and', 'animal', 'pelts;', 'natives', 'for', 'guns,', 'tools', 'and', 'other', 'European', 'goods.[55]', 'Natives', 'taught', 'many', 'settlers', 'to', 'cultivate', 'corn,', 'beans,', 'and', 'other', 'foodstuffs.', 'European', 'missionaries', 'and', 'others', 'felt', 'it', 'was', 'important', 'to', '\"civilize\"', 'the', 'Native', 'Americans', 'and', 'urged', 'them', 'to', 'adopt', 'European', 'agricultural', 'practices', 'and', 'lifestyles.[56][57]', 'However,', 'with', 'the', 'increased', 'European', 'colonization', 'of', 'North', 'America,', 'the', 'Native', 'Americans', 'were', 'displaced', 'and', 'often', 'killed.[58]', 'The', 'native', 'population', 'of', 'America', 'declined', 'after', 'European', 'arrival', 'for', 'various', 'reasons,[59][60][61]', 'primarily', 'diseases', 'such', 'as', 'smallpox', 'and', 'measles.[62][63]', 'A', 'vaccine', 'is', 'a', 'biological', 'preparation', 'that', 'provides', 'active', 'acquired', 'immunity', 'to', 'a', 'particular', 'infectious', 'disease.[1]', 'A', 'vaccine', 'typically', 'contains', 'an', 'agent', 'that', 'resembles', 'a', 'disease-causing', 'microorganism', 'and', 'is', 'often', 'made', 'from', 'weakened', 'or', 'killed', 'forms', 'of', 'the', 'microbe,', 'its', 'toxins,', 'or', 'one', 'of', 'its', 'surface', 'proteins.', 'The', 'agent', 'stimulates', 'the', \"body's\", 'immune', 'system', 'to', 'recognize', 'the', 'agent', 'as', 'a', 'threat,', 'destroy', 'it,', 'and', 'to', 'further', 'recognize', 'and', 'destroy', 'any', 'of', 'the', 'microorganisms', 'associated', 'with', 'that', 'agent', 'that', 'it', 'may', 'encounter', 'in', 'the', 'future.', 'Vaccines', 'can', 'be', 'prophylactic', '(to', 'prevent', 'or', 'ameliorate', 'the', 'effects', 'of', 'a', 'future', 'infection', 'by', 'a', 'natural', 'or', '\"wild\"', 'pathogen),', 'or', 'therapeutic', '(to', 'fight', 'a', 'disease', 'that', 'has', 'already', 'occurred,', 'such', 'as', 'cancer).[2][3][4][5]', 'Some', 'vaccines', 'offer', 'full', 'sterilizing', 'immunity,', 'in', 'which', 'infection', 'is', 'prevented', 'completely.[6]', 'The', 'administration', 'of', 'vaccines', 'is', 'called', 'vaccination.', 'Vaccination', 'is', 'the', 'most', 'effective', 'method', 'of', 'preventing', 'infectious', 'diseases;[7]', 'widespread', 'immunity', 'due', 'to', 'vaccination', 'is', 'largely', 'responsible', 'for', 'the', 'worldwide', 'eradication', 'of', 'smallpox', 'and', 'the', 'restriction', 'of', 'diseases', 'such', 'as', 'polio,', 'measles,', 'and', 'tetanus', 'from', 'much', 'of', 'the', 'world.', 'The', 'effectiveness', 'of', 'vaccination', 'has', 'been', 'widely', 'studied', 'and', 'verified;[8]', 'for', 'example,', 'vaccines', 'that', 'have', 'proven', 'effective', 'include', 'the', 'influenza', 'vaccine,[9]', 'the', 'HPV', 'vaccine,[10]', 'and', 'the', 'chickenpox', 'vaccine.[11]', 'The', 'World', 'Health', 'Organization', '(WHO)', 'reports', 'that', 'licensed', 'vaccines', 'are', 'currently', 'available', 'for', 'twenty-five', 'different', 'preventable', 'infections.[12]', 'The', 'terms', 'vaccine', 'and', 'vaccination', 'are', 'derived', 'from', 'Variolae', 'vaccinae', '(smallpox', 'of', 'the', 'cow),', 'the', 'term', 'devised', 'by', 'Edward', 'Jenner', '(who', 'both', 'developed', 'the', 'concept', 'of', 'vaccines', 'and', 'created', 'the', 'first', 'vaccine)', 'to', 'denote', 'cowpox.', 'He', 'used', 'the', 'phrase', 'in', '1798', 'for', 'the', 'long', 'title', 'of', 'his', 'Inquiry', 'into', 'the', 'Variolae', 'vaccinae', 'Known', 'as', 'the', 'Cow', 'Pox,', 'in', 'which', 'he', 'described', 'the', 'protective', 'effect', 'of', 'cowpox', 'against', 'smallpox.[13]', 'In', '1881,', 'to', 'honor', 'Jenner,', 'Louis', 'Pasteur', 'proposed', 'that', 'the', 'terms', 'should', 'be', 'extended', 'to', 'cover', 'the', 'new', 'protective', 'inoculations', 'then', 'being', 'developed.[14]', 'The', 'science', 'of', 'vaccine', 'development', 'and', 'production', 'is', 'termed', 'vaccinology.', 'Science', '(from', 'Latin', 'scientia', \"'knowledge')[1]\", 'is', 'a', 'systematic', 'enterprise', 'that', 'builds', 'and', 'organizes', 'knowledge', 'in', 'the', 'form', 'of', 'testable', 'explanations', 'and', 'predictions', 'about', 'the', 'world.[2][3][4]', 'The', 'earliest', 'roots', 'of', 'science', 'can', 'be', 'traced', 'to', 'Ancient', 'Egypt', 'and', 'Mesopotamia', 'in', 'around', '3000', 'to', '1200', 'BCE.[5][6]', 'Their', 'contributions', 'to', 'mathematics,', 'astronomy,', 'and', 'medicine', 'entered', 'and', 'shaped', 'Greek', 'natural', 'philosophy', 'of', 'classical', 'antiquity,', 'whereby', 'formal', 'attempts', 'were', 'made', 'to', 'provide', 'explanations', 'of', 'events', 'in', 'the', 'physical', 'world', 'based', 'on', 'natural', 'causes.[5][6]', 'After', 'the', 'fall', 'of', 'the', 'Western', 'Roman', 'Empire,', 'knowledge', 'of', 'Greek', 'conceptions', 'of', 'the', 'world', 'deteriorated', 'in', 'Western', 'Europe', 'during', 'the', 'early', 'centuries', '(400', 'to', '1000', 'CE)', 'of', 'the', 'Middle', 'Ages,[7]', 'but', 'was', 'preserved', 'in', 'the', 'Muslim', 'world', 'during', 'the', 'Islamic', 'Golden', 'Age.[8]', 'The', 'recovery', 'and', 'assimilation', 'of', 'Greek', 'works', 'and', 'Islamic', 'inquiries', 'into', 'Western', 'Europe', 'from', 'the', '10th', 'to', '13th', 'century', 'revived', '\"natural', 'philosophy\",[7][9]', 'which', 'was', 'later', 'transformed', 'by', 'the', 'Scientific', 'Revolution', 'that', 'began', 'in', 'the', '16th', 'century[10]', 'as', 'new', 'ideas', 'and', 'discoveries', 'departed', 'from', 'previous', 'Greek', 'conceptions', 'and', 'traditions.[11][12][13][14]', 'The', 'scientific', 'method', 'soon', 'played', 'a', 'greater', 'role', 'in', 'knowledge', 'creation', 'and', 'it', 'was', 'not', 'until', 'the', '19th', 'century', 'that', 'many', 'of', 'the', 'institutional', 'and', 'professional', 'features', 'of', 'science', 'began', 'to', 'take', 'shape;[15][16][17]', 'along', 'with', 'the', 'changing', 'of', '\"natural', 'philosophy\"', 'to', '\"natural', 'science.\"[18]', 'Modern', 'science', 'is', 'typically', 'divided', 'into', 'three', 'major', 'branches[19]', 'that', 'consist', 'of', 'the', 'natural', 'sciences', '(e.g.,', 'biology,', 'chemistry,', 'and', 'physics),', 'which', 'study', 'nature', 'in', 'the', 'broadest', 'sense;', 'the', 'social', 'sciences', '(e.g.,', 'economics,', 'psychology,', 'and', 'sociology),', 'which', 'study', 'individuals', 'and', 'societies;[20][21]', 'and', 'the', 'formal', 'sciences', '(e.g.,', 'logic,', 'mathematics,', 'and', 'theoretical', 'computer', 'science),', 'which', 'deal', 'with', 'symbols', 'governed', 'by', 'rules.[22][23]', 'There', 'is', 'disagreement,[24][25][26]', 'however,', 'on', 'whether', 'the', 'formal', 'sciences', 'actually', 'constitute', 'a', 'science', 'as', 'they', 'do', 'not', 'rely', 'on', 'empirical', 'evidence.[27][25]', 'Disciplines', 'that', 'use', 'existing', 'scientific', 'knowledge', 'for', 'practical', 'purposes,', 'such', 'as', 'engineering', 'and', 'medicine,', 'are', 'described', 'as', 'applied', 'sciences.[28][29][30][31][32]', 'New', 'knowledge', 'in', 'science', 'is', 'advanced', 'by', 'research', 'from', 'scientists', 'who', 'are', 'motivated', 'by', 'curiosity', 'about', 'the', 'world', 'and', 'a', 'desire', 'to', 'solve', 'problems.[33][34]', 'Contemporary', 'scientific', 'research', 'is', 'highly', 'collaborative', 'and', 'is', 'usually', 'done', 'by', 'teams', 'in', 'academic', 'and', 'research', 'institutions,[35]', 'government', 'agencies,', 'and', 'companies.[36][37]', 'The', 'practical', 'impact', 'of', 'their', 'work', 'has', 'led', 'to', 'the', 'emergence', 'of', 'science', 'policies', 'that', 'seek', 'to', 'influence', 'the', 'scientific', 'enterprise', 'by', 'prioritizing', 'the', 'development', 'of', 'commercial', 'products,', 'armaments,', 'health', 'care,', 'public', 'infrastructure,', 'and', 'environmental', 'protection.', 'Literature', 'written', 'in', 'the', 'English', 'language', 'includes', 'many', 'countries', 'such', 'as', 'the', 'United', 'Kingdom', 'and', 'its', 'crown', 'dependencies,', 'Republic', 'of', 'Ireland,', 'the', 'United', 'States,', 'and', 'the', 'countries', 'of', 'the', 'former', 'British', 'Empire.', 'The', 'English', 'language', 'has', 'developed', 'over', 'the', 'course', 'of', 'more', 'than', '1,400', 'years.[1]', 'The', 'earliest', 'forms', 'of', 'English,', 'a', 'set', 'of', 'Anglo-Frisian', 'dialects', 'brought', 'to', 'Great', 'Britain', 'by', 'Anglo-Saxon', 'invaders', 'in', 'the', 'fifth', 'century,', 'are', 'called', 'Old', 'English.', 'Beowulf', 'is', 'the', 'most', 'famous', 'work', 'in', 'Old', 'English,', 'and', 'has', 'achieved', 'national', 'epic', 'status', 'in', 'England,', 'despite', 'being', 'set', 'in', 'Scandinavia.', 'However,', 'following', 'the', 'Norman', 'conquest', 'of', 'England', 'in', '1066,', 'the', 'written', 'form', 'of', 'the', 'Anglo-Saxon', 'language', 'became', 'less', 'common.', 'Under', 'the', 'influence', 'of', 'the', 'new', 'aristocracy,', 'French', 'became', 'the', 'standard', 'language', 'of', 'courts,', 'parliament,', 'and', 'polite', 'society.[2]', 'The', 'English', 'spoken', 'after', 'the', 'Normans', 'came', 'is', 'known', 'as', 'Middle', 'English.', 'This', 'form', 'of', 'English', 'lasted', 'until', 'the', '1470s,', 'when', 'the', 'Chancery', 'Standard', '(late', 'Middle', 'English),', 'a', 'London-based', 'form', 'of', 'English,', 'became', 'widespread.', 'Geoffrey', 'Chaucer', '(1343', '–', '1400),', 'author', 'of', 'The', 'Canterbury', 'Tales,', 'was', 'a', 'significant', 'figure', 'in', 'the', 'development', 'of', 'the', 'legitimacy', 'of', 'vernacular', 'Middle', 'English', 'at', 'a', 'time', 'when', 'the', 'dominant', 'literary', 'languages', 'in', 'England', 'were', 'still', 'French', 'and', 'Latin.', 'The', 'invention', 'of', 'the', 'printing', 'press', 'by', 'Johannes', 'Gutenberg', 'in', '1439', 'also', 'helped', 'to', 'standardise', 'the', 'language,', 'as', 'did', 'the', 'King', 'James', 'Bible', '(1611),[3]', 'and', 'the', 'Great', 'Vowel', 'Shift.[4]', 'Poet', 'and', 'playwright', 'William', 'Shakespeare', '(1564', '–', '1616)', 'is', 'widely', 'regarded', 'as', 'the', 'greatest', 'writer', 'in', 'the', 'English', 'language', 'and', 'one', 'of', 'the', \"world's\", 'greatest', 'dramatists.[5][6][7]', 'His', 'plays', 'have', 'been', 'translated', 'into', 'every', 'major', 'living', 'language', 'and', 'are', 'performed', 'more', 'often', 'than', 'those', 'of', 'any', 'other', 'playwright.[8]', 'In', 'the', 'nineteenth', 'century', 'Sir', 'Walter', \"Scott's\", 'historical', 'romances', 'inspired', 'a', 'generation', 'of', 'painters,', 'composers,', 'and', 'writers', 'throughout', 'Europe.[9]', 'The', 'English', 'language', 'spread', 'throughout', 'the', 'world', 'with', 'the', 'development', 'of', 'the', 'British', 'Empire', 'between', 'the', 'late', '16th', 'and', 'early', '18th', 'centuries.', 'At', 'its', 'height,', 'it', 'was', 'the', 'largest', 'empire', 'in', 'history.[10]', 'By', '1913,', 'the', 'British', 'Empire', 'held', 'sway', 'over', '412', 'million', 'people,', '23%', 'of', 'the', 'world', 'population', 'at', 'the', 'time,[11]', 'During', 'the', 'nineteenth', 'and', 'twentieth', 'centuries', 'these', 'colonies', 'and', 'the', 'USA', 'started', 'to', 'produce', 'their', 'own', 'significant', 'literary', 'traditions', 'in', 'English.', 'Cumulatively,', 'over', 'the', 'period', 'of', '1907', 'to', 'the', 'present,', 'numerous', 'writers', 'from', 'Great', 'Britain,', 'both', 'the', 'Republic', 'of', 'Ireland', 'and', 'Northern', 'Ireland,', 'the', 'US,', 'and', 'former', 'British', 'colonies', 'have', 'received', 'the', 'Nobel', 'Prize', 'for', 'works', 'in', 'the', 'English', 'language,', 'more', 'than', 'in', 'any', 'other', 'language.', 'Alice', 'in', 'Wonderland', 'is', 'a', 'film', 'adaptation', 'of', \"Alice's\", 'Adventures', 'in', 'Wonderland', 'by', 'Tim', 'Burton', 'that', 'was', 'released', 'on', 'March', '5th', '2010,', 'and', 'was', 'released', 'on', 'DVD', 'and', 'Blu-ray', 'on', 'June', '1st', '2010.', 'The', 'story', 'begins', 'with', 'Charles', 'Kingsleigh', 'trying', 'to', 'sell', 'his', 'project', 'to', 'some', 'men.', 'His', 'talk', 'is', 'interrupted', 'by', '6-year-old', 'Alice', 'who', 'had', 'that', 'nightmare', 'again.', 'She', 'tells', 'her', 'father', 'she', 'saw', 'many', 'strange', 'creatures', 'including', 'a', 'dodo', 'bird,', 'a', 'white', 'rabbit', 'wearing', 'a', 'waistcoat,', 'a', 'smiling', 'cat,', 'and', 'a', 'blue', 'caterpillar.', 'Alice', 'wonders', 'if', 'she', 'has', 'gone', 'mad,', 'which', 'Charles', 'responds', 'she', 'is.', 'He', 'tells', 'her', 'that', 'all', 'the', 'best', 'people', 'are', 'mad.', 'Thirteen', 'years', 'later,', 'after', 'her', \"father's\", 'death,', 'Alice', 'attends', 'a', 'party', 'with', 'her', 'mother', 'at', 'the', 'Victorian', 'State.', 'The', 'United', 'States', 'is', 'heading', 'for', 'a', 'cliff', 'over', 'the', 'need', 'for', 'Congress', 'to', 'lift', 'the', 'ceiling', 'on', 'how', 'much', 'the', 'US', 'government', 'can', 'borrow.', 'If', 'things', 'go', 'wrong,', 'the', 'reverberations', 'will', 'be', 'felt', 'far', 'beyond', 'US', 'shores.', 'Since', 'the', 'US', 'government', 'spends', 'more', 'than', 'it', 'takes', 'in', 'through', 'revenues,', 'a', 'debt', 'default', 'would', 'force', 'it', 'to', 'stop', 'paying', 'out', '—', 'so', 'military', 'salaries,', 'government', 'retirement', 'payments', 'and', 'other', 'benefits', 'would', 'dry', 'up.', 'And', 'if', 'the', 'US', \"can't\", 'pay', 'interest', 'on', 'its', 'debts,', 'the', 'rates', 'it', 'pays', 'to', 'borrow', 'money', 'will', 'probably', 'rise', '—', 'meaning', 'that', 'mortgages,', 'car', 'loans', 'and', 'credit', 'card', 'bills', 'would', 'also', 'go', 'up.', 'Millions', 'of', 'Americans', 'would', 'probably', 'lose', 'their', 'jobs', 'and', 'the', 'slowing', 'pandemic', 'recovery', 'would', 'crash.', 'Since', 'the', 'stability', 'of', 'US', 'debt', 'is', 'the', 'bedrock', 'of', 'the', 'global', 'economy,', 'a', 'default', 'by', 'Washington', 'could', 'plunge', 'the', 'rest', 'of', 'the', 'world', 'into', 'crisis.', 'The', 'unthinkable', 'nature', 'of', 'these', 'consequences', 'is', 'why', \"Washington's\", 'warring', 'politicians,', 'generally', 'after', 'a', 'period', 'of', 'brinkmanship', 'and', 'concession', 'wringing,', 'generally', 'bite', 'the', 'bullet', 'and', 'vote', 'in', 'the', 'dead', 'of', 'night', 'to', 'raise', 'the', 'debt', 'ceiling.', 'But', 'this', 'time', 'is', 'different.', 'Republicans', 'are', 'refusing', 'to', 'play', 'ball', 'because', 'they', 'say', 'President', 'Joe', \"Biden's\", 'Democrats', 'are', 'on', 'an-out-of-control', 'spending', 'spree', 'that', 'will', 'balloon', 'the', 'national', 'debt', '—', 'currently', 'standing', 'at', 'nearly', '$29', 'trillion.', 'Their', 'position', 'is', 'deeply', 'hypocritical.', 'For', 'a', 'start,', 'Democrats', 'voted', 'with', 'the', 'GOP', 'multiple', 'times', 'to', 'raise', 'the', 'debt', 'limit', 'under', 'Republican', 'presidents.', 'But', 'more', 'than', 'that,', 'the', 'debt', 'limit', 'must', 'be', 'raised', 'to', 'pay', 'for', 'obligations', 'that', 'the', 'Republicans', 'themselves', 'incurred', 'by', 'voting', 'for', 'massive', 'tax', 'cuts', 'that', 'favored', 'the', 'rich', 'under', 'then-President', 'Donald', 'Trump.', \"It's\", 'as', 'if', 'the', 'country', 'went', 'on', 'a', 'tear', 'in', 'Las', 'Vegas', 'for', 'a', 'week', 'and', 'refused', 'to', 'pay', 'the', 'credit', 'card', 'bill.', 'But', 'Republicans', 'want', 'to', 'wash', 'their', 'hands', 'of', 'the', 'responsibility', 'and', 'accuse', 'Democrats', 'of', 'bankrupting', 'the', 'country,', 'as', 'Biden', 'pushes', 'a', '$4', 'trillion', 'bid', 'to', 'reshape', 'the', 'economy', 'to', 'help', 'less', 'well-off', 'Americans.', 'Because', 'so', 'much', 'is', 'at', 'stake,', 'they', 'know', 'that', 'the', 'Democrats', 'will', 'have', 'no', 'choice', 'in', 'the', 'end', 'but', 'to', 'pass', 'the', 'debt', 'limit', 'increase', 'on', 'their', 'own', '--', 'and', 'pay', 'the', 'political', 'price.', \"'We\", 'have,', 'frankly,', 'nowhere', 'else', 'to', \"go'\", '\"Governments', 'acting', 'alone', 'cannot', 'overcome', 'the', 'problems', 'facing', 'our', 'world,\"', 'Canadian', 'Foreign', 'Minister', 'Marc', 'Garneau', 'told', 'the', 'UN', 'General', 'Assembly', 'on', 'Monday,', 'drawing', 'on', 'his', 'own', 'bona', 'fides', 'as', 'former', 'astronaut', 'to', 'make', 'his', 'point.', '\"I', 'have', 'realized...', 'that', 'we', 'all', 'come', 'from', 'the', 'same', 'place', 'and', 'that', 'we', 'have,', 'frankly,', 'nowhere', 'else', 'to', 'go,', 'and', 'that', 'we', 'must', 'find', 'a', 'way', 'to', 'get', 'along', 'with', 'each', 'other,\"', 'he', 'said.', '\"Space', 'offers', 'the', 'unique', 'perspective', 'of', 'seeing', 'beyond', \"one's\", 'own', 'national', 'borders.\"', 'English', 'is', 'a', 'West', 'Germanic', 'language', 'of', 'the', 'Indo-European', 'language', 'family,', 'originally', 'spoken', 'by', 'the', 'inhabitants', 'of', 'early', 'medieval', 'England.[3][4][5]', 'It', 'is', 'named', 'after', 'the', 'Angles,', 'one', 'of', 'the', 'ancient', 'Germanic', 'peoples', 'that', 'migrated', 'to', 'the', 'area', 'of', 'Great', 'Britain', 'that', 'later', 'took', 'their', 'name,', 'England.', 'Both', 'names', 'derive', 'from', 'Anglia,', 'a', 'peninsula', 'on', 'the', 'Baltic', 'Sea', 'which', 'is', 'not', 'to', 'be', 'confused', 'with', 'East', 'Anglia,', 'the', 'Eastern', 'part', 'of', 'England', 'which', 'comprises', 'the', 'counties', 'of', 'Norfolk,', 'Suffolk', 'and', 'Essex.', 'English', 'is', 'most', 'closely', 'related', 'to', 'Frisian', 'and', 'Low', 'Saxon,', 'while', 'its', 'vocabulary', 'has', 'been', 'significantly', 'influenced', 'by', 'other', 'Germanic', 'languages,', 'particularly', 'Old', 'Norse', '(a', 'North', 'Germanic', 'language),', 'as', 'well', 'as', 'Latin', 'and', 'French.[6][7][8]', 'English', 'has', 'developed', 'over', 'the', 'course', 'of', 'more', 'than', '1,400', 'years.', 'The', 'earliest', 'forms', 'of', 'English,', 'a', 'group', 'of', 'West', 'Germanic', '(Ingvaeonic)', 'dialects', 'brought', 'to', 'Great', 'Britain', 'by', 'Anglo-Saxon', 'settlers', 'in', 'the', '5th', 'century,', 'are', 'collectively', 'called', 'Old', 'English.', 'Middle', 'English', 'began', 'in', 'the', 'late', '11th', 'century', 'with', 'the', 'Norman', 'conquest', 'of', 'England;', 'this', 'was', 'a', 'period', 'in', 'which', 'English', 'was', 'influenced', 'by', 'Old', 'French,', 'in', 'particular', 'through', 'its', 'Old', 'Norman', 'dialect.[9][10]', 'Early', 'Modern', 'English', 'began', 'in', 'the', 'late', '15th', 'century', 'with', 'the', 'introduction', 'of', 'the', 'printing', 'press', 'to', 'London,', 'the', 'printing', 'of', 'the', 'King', 'James', 'Bible', 'and', 'the', 'start', 'of', 'the', 'Great', 'Vowel', 'Shift.[11]', 'Modern', 'English', 'has', 'been', 'spreading', 'around', 'the', 'world', 'since', 'the', '17th', 'century', 'by', 'the', 'worldwide', 'influence', 'of', 'the', 'British', 'Empire', 'and', 'the', 'United', 'States.', 'Through', 'all', 'types', 'of', 'printed', 'and', 'electronic', 'media', 'of', 'these', 'countries,', 'English', 'has', 'become', 'the', 'leading', 'language', 'of', 'international', 'discourse', 'and', 'the', 'lingua', 'franca', 'in', 'many', 'regions', 'and', 'professional', 'contexts', 'such', 'as', 'science,', 'navigation', 'and', 'law.[3]', 'Modern', 'English', 'grammar', 'is', 'the', 'result', 'of', 'a', 'gradual', 'change', 'from', 'a', 'typical', 'Indo-European', 'dependent-marking', 'pattern,', 'with', 'a', 'rich', 'inflectional', 'morphology', 'and', 'relatively', 'free', 'word', 'order,', 'to', 'a', 'mostly', 'analytic', 'pattern', 'with', 'little', 'inflection,', 'a', 'fairly', 'fixed', 'subject–verb–object', 'word', 'order', 'and', 'a', 'complex', 'syntax.[12]', 'Modern', 'English', 'relies', 'more', 'on', 'auxiliary', 'verbs', 'and', 'word', 'order', 'for', 'the', 'expression', 'of', 'complex', 'tenses,', 'aspect', 'and', 'mood,', 'as', 'well', 'as', 'passive', 'constructions,', 'interrogatives', 'and', 'some', 'negation.', 'English', 'is', 'the', 'most', 'spoken', 'language', 'in', 'the', 'world[13]', 'and', 'the', 'third-most', 'spoken', 'native', 'language', 'in', 'the', 'world,', 'after', 'Standard', 'Chinese', 'and', 'Spanish.[14]', 'It', 'is', 'the', 'most', 'widely', 'learned', 'second', 'language', 'and', 'is', 'either', 'the', 'official', 'language', 'or', 'one', 'of', 'the', 'official', 'languages', 'in', 'almost', '60', 'sovereign', 'states.', 'There', 'are', 'more', 'people', 'who', 'have', 'learned', 'English', 'as', 'a', 'second', 'language', 'than', 'there', 'are', 'native', 'speakers.', 'As', 'of', '2005,', 'it', 'was', 'estimated', 'that', 'there', 'were', 'over', '2', 'billion', 'speakers', 'of', 'English.[15]', 'English', 'is', 'the', 'majority', 'native', 'language', 'in', 'the', 'United', 'States,', 'the', 'United', 'Kingdom,', 'Canada,', 'Australia,', 'New', 'Zealand', 'and', 'Ireland,', 'an', 'official', 'language', 'and', 'the', 'main', 'language', 'of', 'Singapore,', 'and', 'it', 'is', 'widely', 'spoken', 'in', 'some', 'areas', 'of', 'the', 'Caribbean,', 'Africa,', 'South', 'Asia,', 'Southeast', 'Asia', 'and', 'Oceania.[16]', 'It', 'is', 'a', 'co-official', 'language', 'of', 'the', 'United', 'Nations,', 'the', 'European', 'Union', 'and', 'many', 'other', 'world', 'and', 'regional', 'international', 'organisations.', 'It', 'is', 'the', 'most', 'widely', 'spoken', 'Germanic', 'language,', 'accounting', 'for', 'at', 'least', '70%', 'of', 'speakers', 'of', 'this', 'Indo-European', 'branch.', 'English', 'speakers', 'are', 'called', '\"Anglophones\".', 'There', 'is', 'much', 'variability', 'among', 'the', 'many', 'accents', 'and', 'dialects', 'of', 'English', 'used', 'in', 'different', 'countries', 'and', 'regions', 'in', 'terms', 'of', 'phonetics', 'and', 'phonology,', 'and', 'sometimes', 'also', 'vocabulary,', 'idioms,', 'grammar,', 'and', 'spelling,', 'but', 'it', 'does', 'not', 'typically', 'prevent', 'understanding', 'by', 'speakers', 'of', 'other', 'dialects', 'and', 'accents,', 'although', 'mutual', 'unintelligibility', 'can', 'occur', 'at', 'extreme', 'ends', 'of', 'the', 'dialect', 'continuum.', 'English', 'is', 'an', 'Indo-European', 'language', 'and', 'belongs', 'to', 'the', 'West', 'Germanic', 'group', 'of', 'the', 'Germanic', 'languages.[17]', 'Old', 'English', 'originated', 'from', 'a', 'Germanic', 'tribal', 'and', 'linguistic', 'continuum', 'along', 'the', 'Frisian', 'North', 'Sea', 'coast,', 'whose', 'languages', 'gradually', 'evolved', 'into', 'the', 'Anglic', 'languages', 'in', 'the', 'British', 'Isles,', 'and', 'into', 'the', 'Frisian', 'languages', 'and', 'Low', 'German/Low', 'Saxon', 'on', 'the', 'continent.', 'The', 'Frisian', 'languages,', 'which', 'together', 'with', 'the', 'Anglic', 'languages', 'form', 'the', 'Anglo-Frisian', 'languages,', 'are', 'the', 'closest', 'living', 'relatives', 'of', 'English.', 'Low', 'German/Low', 'Saxon', 'is', 'also', 'closely', 'related,', 'and', 'sometimes', 'English,', 'the', 'Frisian', 'languages,', 'and', 'Low', 'German', 'are', 'grouped', 'together', 'as', 'the', 'Ingvaeonic', '(North', 'Sea', 'Germanic)', 'languages,', 'though', 'this', 'grouping', 'remains', 'debated.[7]', 'Old', 'English', 'evolved', 'into', 'Middle', 'English,', 'which', 'in', 'turn', 'evolved', 'into', 'Modern', 'English.[18]', 'Particular', 'dialects', 'of', 'Old', 'and', 'Middle', 'English', 'also', 'developed', 'into', 'a', 'number', 'of', 'other', 'Anglic', 'languages,', 'including', 'Scots[19]', 'and', 'the', 'extinct', 'Fingallian', 'and', 'Forth', 'and', 'Bargy', '(Yola)', 'dialects', 'of', 'Ireland.[20]', 'Like', 'Icelandic', 'and', 'Faroese,', 'the', 'development', 'of', 'English', 'in', 'the', 'British', 'Isles', 'isolated', 'it', 'from', 'the', 'continental', 'Germanic', 'languages', 'and', 'influences,', 'and', 'it', 'has', 'since', 'diverged', 'considerably.', 'English', 'is', 'not', 'mutually', 'intelligible', 'with', 'any', 'continental', 'Germanic', 'language,', 'differing', 'in', 'vocabulary,', 'syntax,', 'and', 'phonology,', 'although', 'some', 'of', 'these,', 'such', 'as', 'Dutch', 'or', 'Frisian,', 'do', 'show', 'strong', 'affinities', 'with', 'English,', 'especially', 'with', 'its', 'earlier', 'stages.[21]', 'Unlike', 'Icelandic', 'and', 'Faroese,', 'which', 'were', 'isolated,', 'the', 'development', 'of', 'English', 'was', 'influenced', 'by', 'a', 'long', 'series', 'of', 'invasions', 'of', 'the', 'British', 'Isles', 'by', 'other', 'peoples', 'and', 'languages,', 'particularly', 'Old', 'Norse', 'and', 'Norman', 'French.', 'These', 'left', 'a', 'profound', 'mark', 'of', 'their', 'own', 'on', 'the', 'language,', 'so', 'that', 'English', 'shows', 'some', 'similarities', 'in', 'vocabulary', 'and', 'grammar', 'with', 'many', 'languages', 'outside', 'its', 'linguistic', 'clades—but', 'it', 'is', 'not', 'mutually', 'intelligible', 'with', 'any', 'of', 'those', 'languages', 'either.', 'Some', 'scholars', 'have', 'argued', 'that', 'English', 'can', 'be', 'considered', 'a', 'mixed', 'language', 'or', 'a', 'creole—a', 'theory', 'called', 'the', 'Middle', 'English', 'creole', 'hypothesis.', 'Although', 'the', 'great', 'influence', 'of', 'these', 'languages', 'on', 'the', 'vocabulary', 'and', 'grammar', 'of', 'Modern', 'English', 'is', 'widely', 'acknowledged,', 'most', 'specialists', 'in', 'language', 'contact', 'do', 'not', 'consider', 'English', 'to', 'be', 'a', 'true', 'mixed', 'language.[22][23]', 'English', 'is', 'classified', 'as', 'a', 'Germanic', 'language', 'because', 'it', 'shares', 'innovations', 'with', 'other', 'Germanic', 'languages', 'such', 'as', 'Dutch,', 'German,', 'and', 'Swedish.[24]', 'These', 'shared', 'innovations', 'show', 'that', 'the', 'languages', 'have', 'descended', 'from', 'a', 'single', 'common', 'ancestor', 'called', 'Proto-Germanic.', 'Some', 'shared', 'features', 'of', 'Germanic', 'languages', 'include', 'the', 'division', 'of', 'verbs', 'into', 'strong', 'and', 'weak', 'classes,', 'the', 'use', 'of', 'modal', 'verbs,', 'and', 'the', 'sound', 'changes', 'affecting', 'Proto-Indo-European', 'consonants,', 'known', 'as', \"Grimm's\", 'and', \"Verner's\", 'laws.', 'English', 'is', 'classified', 'as', 'an', 'Anglo-Frisian', 'language', 'because', 'Frisian', 'and', 'English', 'share', 'other', 'features,', 'such', 'as', 'the', 'palatalisation', 'of', 'consonants', 'that', 'were', 'velar', 'consonants', 'in', 'Proto-Germanic', '(see', 'Phonological', 'history', 'of', 'Old', 'English', '§', 'Palatalization).[25]', 'History', 'Proto-Germanic', 'to', 'Old', 'English', 'Main', 'article:', 'Old', 'English', 'The', 'opening', 'to', 'the', 'Old', 'English', 'epic', 'poem', 'Beowulf,', 'handwritten', 'in', 'half-uncial', 'script:', 'Hƿæt', 'ƿē', 'Gārde/na', 'ingēar', 'dagum', 'þēod', 'cyninga', '/', 'þrym', 'ge', 'frunon...', '\"Listen!', 'We', 'of', 'the', 'Spear-Danes', 'from', 'days', 'of', 'yore', 'have', 'heard', 'of', 'the', 'glory', 'of', 'the', 'folk-kings...\"', 'The', 'earliest', 'form', 'of', 'English', 'is', 'called', 'Old', 'English', 'or', 'Anglo-Saxon', '(c.', 'year', '550–1066).', 'Old', 'English', 'developed', 'from', 'a', 'set', 'of', 'West', 'Germanic', 'dialects,', 'often', 'grouped', 'as', 'Anglo-Frisian', 'or', 'North', 'Sea', 'Germanic,', 'and', 'originally', 'spoken', 'along', 'the', 'coasts', 'of', 'Frisia,', 'Lower', 'Saxony', 'and', 'southern', 'Jutland', 'by', 'Germanic', 'peoples', 'known', 'to', 'the', 'historical', 'record', 'as', 'the', 'Angles,', 'Saxons,', 'and', 'Jutes.[26][27]', 'From', 'the', '5th', 'century,', 'the', 'Anglo-Saxons', 'settled', 'Britain', 'as', 'the', 'Roman', 'economy', 'and', 'administration', 'collapsed.', 'By', 'the', '7th', 'century,', 'the', 'Germanic', 'language', 'of', 'the', 'Anglo-Saxons', 'became', 'dominant', 'in', 'Britain,', 'replacing', 'the', 'languages', 'of', 'Roman', 'Britain', '(43–409):', 'Common', 'Brittonic,', 'a', 'Celtic', 'language,', 'and', 'Latin,', 'brought', 'to', 'Britain', 'by', 'the', 'Roman', 'occupation.[28][29][30]', 'England', 'and', 'English', '(originally', 'Ænglaland', 'and', 'Ænglisc)', 'are', 'named', 'after', 'the', 'Angles.[31]', 'Old', 'English', 'was', 'divided', 'into', 'four', 'dialects:', 'the', 'Anglian', 'dialects', '(Mercian', 'and', 'Northumbrian)', 'and', 'the', 'Saxon', 'dialects,', 'Kentish', 'and', 'West', 'Saxon.[32]', 'Through', 'the', 'educational', 'reforms', 'of', 'King', 'Alfred', 'in', 'the', '9th', 'century', 'and', 'the', 'influence', 'of', 'the', 'kingdom', 'of', 'Wessex,', 'the', 'West', 'Saxon', 'dialect', 'became', 'the', 'standard', 'written', 'variety.[33]', 'The', 'epic', 'poem', 'Beowulf', 'is', 'written', 'in', 'West', 'Saxon,', 'and', 'the', 'earliest', 'English', 'poem,', \"Cædmon's\", 'Hymn,', 'is', 'written', 'in', 'Northumbrian.[34]', 'Modern', 'English', 'developed', 'mainly', 'from', 'Mercian,', 'but', 'the', 'Scots', 'language', 'developed', 'from', 'Northumbrian.', 'A', 'few', 'short', 'inscriptions', 'from', 'the', 'early', 'period', 'of', 'Old', 'English', 'were', 'written', 'using', 'a', 'runic', 'script.[35]', 'By', 'the', '6th', 'century,', 'a', 'Latin', 'alphabet', 'was', 'adopted,', 'written', 'with', 'half-uncial', 'letterforms.', 'It', 'included', 'the', 'runic', 'letters', 'wynn', '⟨ƿ⟩', 'and', 'thorn', '⟨þ⟩,', 'and', 'the', 'modified', 'Latin', 'letters', 'eth', '⟨ð⟩,', 'and', 'ash', '⟨æ⟩.[35][36]', 'Old', 'English', 'is', 'essentially', 'a', 'distinct', 'language', 'from', 'Modern', 'English', 'and', 'is', 'virtually', 'impossible', 'for', '21st-century', 'unstudied', 'English-speakers', 'to', 'understand.', 'Its', 'grammar', 'was', 'similar', 'to', 'that', 'of', 'modern', 'German,', 'and', 'its', 'closest', 'relative', 'is', 'Old', 'Frisian.', 'Nouns,', 'adjectives,', 'pronouns,', 'and', 'verbs', 'had', 'many', 'more', 'inflectional', 'endings', 'and', 'forms,', 'and', 'word', 'order', 'was', 'much', 'freer', 'than', 'in', 'Modern', 'English.', 'Modern', 'English', 'has', 'case', 'forms', 'in', 'pronouns', '(he,', 'him,', 'his)', 'and', 'has', 'a', 'few', 'verb', 'inflections', '(speak,', 'speaks,', 'speaking,', 'spoke,', 'spoken),', 'but', 'Old', 'English', 'had', 'case', 'endings', 'in', 'nouns', 'as', 'well,', 'and', 'verbs', 'had', 'more', 'person', 'and', 'number', 'endings.[37][38][39]', 'The', 'translation', 'of', 'Matthew', '8:20', 'from', '1000', 'shows', 'examples', 'of', 'case', 'endings', '(nominative', 'plural,', 'accusative', 'plural,', 'genitive', 'singular)', 'and', 'a', 'verb', 'ending', '(present', 'plural):', 'Foxas', 'habbað', 'holu', 'and', 'heofonan', 'fuglas', 'nest', 'Fox-as', 'habb-að', 'hol-u', 'and', 'heofon-an', 'fugl-as', 'nest-∅', 'fox-nom.pl', 'have-prs.pl', 'hole-acc.pl', 'and', 'heaven-gen.sg', 'bird-nom.pl', 'nest-acc.pl', '\"Foxes', 'have', 'holes', 'and', 'the', 'birds', 'of', 'heaven', 'nests\"[40]', 'The', 'word', 'algebra', 'comes', 'from', 'the', 'Arabic:', 'الجبر\\u200e,', 'romanized:', 'al-jabr,', 'lit.', \"'reunion\", 'of', 'broken', 'parts,[1]', \"bonesetting[2]'\", 'from', 'the', 'title', 'of', 'the', 'early', '9th', 'century', 'book', 'cIlm', 'al-jabr', 'wa', 'l-muqābala', '\"The', 'Science', 'of', 'Restoring', 'and', 'Balancing\"', 'by', 'the', 'Persian', 'mathematician', 'and', 'astronomer', 'al-Khwarizmi.', 'In', 'his', 'work,', 'the', 'term', 'al-jabr', 'referred', 'to', 'the', 'operation', 'of', 'moving', 'a', 'term', 'from', 'one', 'side', 'of', 'an', 'equation', 'to', 'the', 'other,', 'المقابلة', 'al-muqābala', '\"balancing\"', 'referred', 'to', 'adding', 'equal', 'terms', 'to', 'both', 'sides.', 'Shortened', 'to', 'just', 'algeber', 'or', 'algebra', 'in', 'Latin,', 'the', 'word', 'eventually', 'entered', 'the', 'English', 'language', 'during', 'the', '15th', 'century,', 'from', 'either', 'Spanish,', 'Italian,', 'or', 'Medieval', 'Latin.', 'It', 'originally', 'referred', 'to', 'the', 'surgical', 'procedure', 'of', 'setting', 'broken', 'or', 'dislocated', 'bones.', 'The', 'mathematical', 'meaning', 'was', 'first', 'recorded', '(in', 'English)', 'in', 'the', '16th', 'century.[7]', 'All', 'in', 'the', 'golden', 'afternoon', 'Full', 'leisurely', 'we', 'glide;', 'For', 'both', 'our', 'oars,', 'with', 'little', 'skill,', 'By', 'little', 'arms', 'are', 'plied,', 'While', 'little', 'hands', 'make', 'vain', 'pretence', 'Our', 'wanderings', 'to', 'guide.', 'Ah,', 'cruel', 'Three!', 'In', 'such', 'an', 'hour.', 'Beneath', 'such', 'dreamy', 'weather.', 'To', 'beg', 'a', 'tale', 'of', 'breath', 'too', 'weak', 'To', 'stir', 'the', 'tiniest', 'feather!', 'Yet', 'what', 'can', 'one', 'poor', 'voice', 'avail', 'Against', 'three', 'tongues', 'together?', 'Imperious', 'Prima', 'flashes', 'forth', 'Her', 'edict', '\"to', 'begin', 'it\"—', 'In', 'gentler', 'tone', 'Secunda', 'hopes', '\"There', 'will', 'he', 'nonsense', 'in', 'it!\"—', 'While', 'Tertia', 'interrupts', 'the', 'tale', 'Not', 'more', 'than', 'once', 'a', 'minute.', 'The', 'Crime', 'Syndicate', 'traditionally', 'originated', 'from', 'Earth-3,', 'however,', 'as', 'the', 'concept', 'of', 'a', 'multiverse', 'was', 'eliminated', 'in', 'Crisis', 'on', 'Infinite', 'Earths,', 'so', 'was', 'the', 'pre-crisis', 'Earth-3.', 'At', 'the', 'time', 'JLA:', 'Earth', '2', 'was', 'published,', 'generally', 'only', 'two', 'universes', 'existed:', 'a', 'primary', 'universe', 'made', 'of', 'ordinary', 'matter', 'where', 'the', 'mainstream', 'stories', 'took', 'place,', 'and', 'an', 'antimatter', 'universe', 'where', 'the', 'Crime', 'Syndicate', 'originated.', 'Alexander', 'Luthor', 'in', 'this', 'story', 'was', 'from', 'the', 'antimatter', 'universe', 'and', 'he', 'designated', 'the', 'primary', 'universe', 'as', 'Earth', '2', 'upon', 'discovering', 'it,', 'hence', 'the', 'book', 'title.', 'DC', 'Comics', 'later', 'revived', 'the', 'concept', 'of', 'multiverse', 'in', 'Infinite', 'Crisis', 'and', '52.', 'As', 'a', 'result,', 'the', 'Earth', '2', 'concept', 'introduced', 'in', 'this', 'book', 'no', 'longer', 'exists', 'and', 'the', 'term', 'Earth', '2', 'has', 'a', 'different', 'meaning', 'in', 'the', 'current', 'continuity.', 'Plot', 'summary', 'Alexander', 'Luthor,', 'the', 'lone', 'hero', 'from', 'the', 'antimatter', 'universe,', 'breaks', 'the', 'barrier', 'between', 'Earths', '1', 'and', '2,', 'seeking', 'the', \"JLA's\", 'help.', 'He', 'imprisons', 'and', 'takes', 'the', 'place', 'of', 'his', 'evil', 'positive', 'matter', 'counterpart.', 'Meanwhile,', 'the', 'JLA', 'investigate', 'a', 'plane', 'crash', 'where', 'all', 'the', 'dead', 'passengers', 'have', 'hearts', 'on', 'the', 'right', 'side', 'of', 'their', 'bodies,', 'and', 'money', 'bearing', 'the', 'slogan', '\"In', 'Mammon', 'We', 'Trust\"', 'and', 'the', 'face', 'of', 'Benedict', 'Arnold.', 'This', 'leads', 'them', 'to', 'Alexander', 'Luthor,', 'who', 'informs', 'them', 'of', 'the', 'other', 'Earth', 'and', 'asks', 'for', '48', 'hours', 'of', 'their', 'time', 'to', 'help', 'the', 'oppressed', 'world.', 'The', 'JLA,', 'except', 'for', 'Aquaman', 'and', 'the', 'Martian', 'Manhunter,', 'follow', 'Luthor', 'to', 'the', 'alternate', 'Earth.', 'The', 'Crime', 'Syndicate', 'are', 'introduced.', 'Each', 'is', 'an', 'evil', 'counterpart', 'of', 'a', 'JLA', 'member.', 'Ultraman', 'calls', 'a', 'meeting,', 'discovers', \"Luthor's\", 'absence,', 'and', 'begins', 'plotting', 'to', 'take', 'over', 'the', 'positive', 'matter', 'universe,', 'while', 'Power', 'Ring', 'and', 'Johnny', 'Quick', 'discuss', 'the', 'possibility', 'of', 'counterparts', 'to', 'themselves.', 'Green', 'Lantern', 'forms', 'a', 'force', 'field', 'around', 'the', 'moon,', 'trapping', 'the', 'CSA', 'in', 'their', 'lunar', 'base.', 'The', 'JLA', 'and', 'Luthor', 'begin', 'to', 'set', 'the', 'world', 'right.', 'Batman', 'works', 'to', 'clear', 'Gotham', 'City', 'of', 'crime', 'with', 'the', 'antimatter-universe', 'version', 'of', 'his', 'father,', 'police', 'Chief', 'Thomas', 'Wayne,', 'who', 'survived', 'the', 'famous', 'shooting', 'that', 'spawned', 'Batman', 'while', 'Bruce', 'and', 'his', 'mother', 'were', 'killed.', 'In', 'this', 'universe,', 'Bruce', 'had', 'a', 'brother,', 'Thomas', 'Jr.,', 'who', 'blamed', 'his', 'father', 'for', 'the', 'deaths', 'and', 'became', 'Owlman', 'out', 'of', 'revenge.', 'The', 'ruthless', 'crime', 'lord', 'Boss', 'Gordon', 'is', 'also', 'brought', 'to', 'justice.', 'Owlman', 'correctly', 'concludes', 'that', '24', 'hours', 'after', 'the', 'JLA', 'appeared', 'on', 'the', 'antimatter', 'Earth,', 'the', 'CSA', 'will', 'be', 'transported', 'to', 'the', 'positive-matter', 'Earth', 'in', 'order', 'to', 'correct', 'a', 'dimensional', 'equilibrium.', 'When', 'this', 'occurs,', 'the', 'CSA', 'attack', 'the', 'White', 'House', 'and', 'destroy', 'much', 'of', 'Washington', 'DC,', 'then', 'are', 'easily', 'subdued', 'by', 'Aquaman', 'and', 'the', 'Martian', 'Manhunter,', 'who', 'take', 'down', 'the', 'most', 'powerful', 'CSA', 'members', 'with', 'startling', 'ease.', 'Meanwhile,', 'the', \"JLA's\", 'attempts', 'to', 'reform', 'the', 'antimatter', 'Earth', 'unravel', 'quickly;', 'the', '\"opposite\"', 'nature', 'of', 'this', 'world', 'means', 'that', 'evil', 'and', 'corruption', 'are', 'the', 'natural', 'order', 'of', 'things', 'and', 'any', 'attempt', 'to', 'improve', 'the', 'society', 'is', 'doomed', 'to', 'failure.', 'This', 'is', 'also', 'why', 'the', 'CSA', 'fell', 'so', 'easily', 'to', 'Aquaman', 'and', 'Martian', 'Manhunter;', 'justice', 'is', 'destined', 'to', 'prevail', 'on', 'the', 'positive-matter', 'Earth.', 'It', 'is', 'revealed', 'that', 'Luthor', 'has', 'been', 'manipulated', 'by', \"Ultraman's\", 'servant,', 'the', 'antimatter', 'Brainiac.', \"Luthor's\", 'actions', 'in', 'bringing', 'the', 'two', 'Earths', 'into', 'contact', 'will', 'unintentionally', 'result', 'in', 'the', 'two', 'Earths', 'merging', 'into', 'the', 'same', 'space', 'and', 'destroying', 'each', 'other,', 'with', 'the', 'JLA', 'and', 'CSA', 'being', 'powerless', 'to', 'stop', 'it', 'due', 'to', 'their', 'being', 'on', 'Earths', 'where', 'they,', 'by', 'the', 'nature', 'of', 'the', 'respective', 'universes,', 'cannot', 'win.', 'Brainiac', 'anticipated', 'this', 'and', 'has', 'prepared', 'himself', 'to', 'collect', 'the', 'energy', 'released', 'by', 'the', 'destroyed', 'Earths,', 'evolving', 'into', 'an', '\"Nth', 'Level', 'Intelligence\"', 'and', 'essentially', 'becoming', 'a', 'god.', 'Attempting', 'to', 'stop', 'the', 'collision,', 'Superman', 'discovers', 'that', 'this', 'Brainiac', 'is', 'a', 'biological', 'organism;', \"Superman's\", 'code', 'against', 'killing', 'prevents', 'him', 'from', 'harming', 'Brainiac.', 'Convinced', 'now', 'that', 'only', 'evil', 'could', 'win', 'on', 'the', 'antimatter', 'Earth,', 'Superman', 'and', 'Wonder', 'Woman', 'refrain', 'from', 'trying', 'to', 'defeat', 'Brainiac', 'themselves.', 'Flash', 'switches', 'the', 'teams', 'back', 'to', 'their', 'respective', 'Earths.', 'Upon', 'arrival,', 'a', 'vengeful', 'Ultraman', 'gives', 'Brainiac', 'a', 'laser-vision', 'lobotomy', 'to', 'ensure', 'that', 'he', 'never', 'poses', 'a', 'threat', 'again.', 'The', 'two', 'Earths', 'return', 'to', 'their', 'own', 'spaces,', 'and', 'each', 'team', 'ponders', 'their', 'counterparts', 'on', 'the', 'other', 'side', 'of', 'the', 'dimensional', 'barrier.[1]', 'Television', 'In', 'the', 'Justice', 'League', 'two-parter', 'episode', '\"A', 'Better', 'World\"', 'featured', 'an', 'alternative', 'world', 'ruled', 'by', 'a', 'villainous', 'Justice', 'League', 'counterparts', 'called', 'the', 'Justice', 'Lords.', 'In', 'the', 'episode,', 'the', 'Justice', 'League', 'are', 'carried', 'to', 'another', 'earth', 'in', 'which', 'the', 'Lords', 'lobotomize', 'the', 'villains', 'and', 'lock', 'them', 'in', 'Arkham', 'Asylum.', 'They', 'fought', 'against', 'the', 'Justice', 'League,', 'but', 'at', 'the', 'final,', 'they', 'were', 'defeated', 'by', 'the', 'League', 'with', 'the', 'special', 'help', 'of', 'Batman', 'and', 'Lex', 'Luthor.', 'According', 'to', 'the', 'production', 'team,', 'they', 'originally', 'wanted', 'to', 'make', 'an', 'adaptation', 'of', 'JLA:', 'Earth', '2', 'featuring', 'the', 'Crime', 'Syndicate', 'of', 'America,', 'but', 'the', 'idea', 'was', 'finally', 'scrapped', 'in', 'favor', 'of', 'the', 'Justice', 'Lords.[2]', 'Film', 'Circa', '2004,', 'the', 'production', 'team', 'of', 'Justice', 'League', 'developed', 'a', 'direct-to-video', 'feature', 'film', 'entitled', 'Justice', 'League:', 'Worlds', 'Collide,', 'which', 'was', 'planned', 'to', 'be', 'an', 'adaptation', 'of', 'JLA:', 'Earth', '2', 'and', 'also', 'would', 'have', 'shown', 'the', 'Crime', 'Syndicate', 'of', 'America', 'as', 'the', 'main', 'antagonists.', 'However,', 'the', 'project', 'was', 'finally', 'cancelled', 'because', 'the', 'production', 'team', 'could', 'not', 'work', 'concurrently', 'in', 'the', 'film', 'and', 'in', 'the', 'first', 'season', 'of', 'Justice', 'League', 'Unlimited,', 'as', 'Bruce', 'Timm', 'planned.[3]', 'The', '2010', 'film', 'Justice', 'League:', 'Crisis', 'on', 'Two', 'Earths,', 'is', 'an', 'animated', 'adaptation', 'of', 'JLA:', 'Earth', '2,', 'although', 'it', 'is', 'also', 'based', 'on', 'the', 'cancelled', 'Worlds', 'Collide', 'project,', 'because', 'the', 'script', 'of', 'this', 'project', 'ended', 'up', 'being', 'used', 'for', 'this', 'film,', 'but', 'all', 'references', 'to', 'the', 'DC', 'animated', 'universe', 'were', 'removed.', 'Early', 'development', 'Colson,', 'the', 'son', 'of', 'a', 'former', 'Rhode', 'Island', 'player', 'who', 'went', 'into', 'college', 'coaching,', 'played', 'high', 'school', 'basketball', 'in', 'that', 'state', 'at', 'St.', \"Andrew's\", 'School', 'in', 'Barrington,', 'as', 'well', 'as', 'AAU', 'basketball', 'with', 'Boston', 'Area', 'Basketball', 'Club.', 'He', 'developed', 'as', 'a', 'pure', 'post', 'player,', 'but', 'was', 'abnormally', 'short', 'for', 'the', 'position—during', 'a', 'basketball', 'camp', 'in', 'summer', '2013,', 'he', 'measured', 'at', '6\\'4.5\"', '(1.93', 'm)', 'in', 'shoes.', 'Despite', 'his', 'physical', 'stature,', 'advanced', 'statistics', 'showed', 'him', 'to', 'be', 'unusually', 'effective', 'in', 'the', 'frontcourt;', 'in', 'July', '2013,', 'Colson', 'had', 'the', 'top', 'player', 'efficiency', 'rating', '(PER)', 'among', 'frontcourt', 'players', 'in', \"Nike's\", 'Elite', 'Youth', 'Basketball', 'League.[1]', 'While', 'Colson', 'was', 'largely', 'ignored', 'by', 'major', 'programs', 'as', 'a', 'frontcourt', 'prospect,', 'Notre', 'Dame', 'assistant', 'Martin', 'Ingelsby,', 'who', 'went', 'on', 'to', 'become', 'head', 'coach', 'at', 'Delaware,', 'had', 'a', 'very', 'different', 'view,', 'based', 'on', \"Colson's\", 'production', 'in', 'both', 'high', 'school', 'and', 'AAU', 'play,', 'as', 'well', 'as', 'a', 'disproportionate', 'wingspan', 'of', '6\\'11.5\"', '(2.12', 'm).', 'When', 'Colson', 'visited', 'Notre', 'Dame', 'in', 'September', '2013,', 'the', 'coaching', 'staff', 'made', \"Nike's\", 'PER', 'study', 'a', 'major', 'part', 'of', 'its', 'pitch,', 'convincing', 'him', 'that', 'the', 'Fighting', 'Irish', 'program,', 'devoted', 'to', 'offensive', 'efficiency,', 'would', 'be', 'the', 'best', 'fit', 'for', 'a', 'player', 'of', 'his', 'type.', 'He', 'would', 'commit', 'to', 'Notre', 'Dame', 'that', 'October.[1]', 'College', 'career', 'In', \"Colson's\", 'freshman', 'season', 'at', 'Notre', 'Dame,', 'he', 'came', 'off', 'the', 'bench', 'for', '31', 'of', 'his', '32', 'appearances.', 'He', 'recorded', 'a', '17-point', 'performance', 'in', 'a', 'win', 'over', 'Duke', 'in', 'the', 'semi-final', 'game', 'of', 'the', 'ACC', 'Tournament.', 'At', 'the', 'end', 'of', 'the', 'season,', 'he', 'was', 'named', 'Notre', 'Dame', 'Newcomer', 'of', 'the', 'Year.', 'Colson', 'appeared', 'in', '36', 'games', 'in', 'his', 'sophomore', 'season,', 'starting', 'in', '24.', 'He', 'recorded', 'the', 'first', '30-point', 'game', 'of', 'his', 'career', 'on', 'January', '16,', '2016', 'leading', 'Notre', 'Dame', 'to', 'its', 'first', 'victory', 'over', 'Duke', 'at', 'Cameron', 'Indoor', 'Stadium.', 'In', 'his', 'junior', 'season,', 'Colson', 'became', 'Notre', \"Dame's\", 'leading', 'scorer,', 'led', 'the', 'ACC', 'in', 'rebounding,[2]', 'and', 'was', 'named', 'to', 'the', 'All-ACC', 'first', 'team.[3]', 'He', 'was', 'also', 'the', 'first', 'player', 'shorter', 'than', '6\\'7\"', 'to', 'lead', 'the', 'ACC', 'in', 'rebounding', 'since', '1958.[2]', 'Prior', 'to', 'the', '2017–18', 'season,', 'Colson', 'was', 'named', 'the', 'preseason', 'ACC', 'Player', 'of', 'the', 'Year', 'and', 'a', 'first-team', 'preseason', 'All-American', 'by', 'the', 'Associated', 'Press.[4]', 'After', 'missing', '15', 'games', 'during', 'the', 'regular', 'season', 'with', 'a', 'broken', 'foot,', 'Colson', 'broke', 'his', 'left', 'foot', 'again', 'in', 'Notre', \"Dame's\", 'NIT', 'tournament', 'game', 'against', 'Penn', 'State.[5]', 'Professional', 'career', 'Canton', 'Charge', '(2018–2019)', 'On', 'September', '18,', '2018,', 'Colson', 'signed', 'with', 'the', 'Cleveland', 'Cavaliers.[6]', 'On', 'October', '13,', 'he', 'was', 'waived', 'by', 'the', 'Cavaliers,[7]', 'but', 'was', 'added', 'to', 'the', 'roster', 'of', 'the', 'Cavs’', 'NBA', 'G', 'League', 'affiliate,', 'the', 'Canton', 'Charge.[8]', 'In', 'his', 'first', 'G', 'League', 'game,', 'a', '101–89', 'loss', 'to', 'the', 'Wisconsin', 'Herd,', 'Colson', 'led', 'the', 'team', 'with', '23', 'points', 'and', '15', 'rebounds,', 'shooting', '10-of-18', 'from', 'the', 'floor.[9]', 'Milwaukee', 'Bucks/Wisconsin', 'Herd', '(2019)', 'On', 'January', '15,', '2019,', 'Colson', 'was', 'signed', 'to', 'a', 'two-way', 'contract', 'by', 'the', 'Milwaukee', 'Bucks.', 'Under', 'the', 'terms', 'of', 'the', 'deal,', 'he', 'will', 'split', 'time', 'with', 'the', 'Bucks’', 'G', 'League', 'affiliate,', 'the', 'Wisconsin', 'Herd.[10]', 'Colson', 'made', 'his', 'NBA', 'debut', 'on', 'February', '25,', '2019', 'against', 'the', 'Chicago', 'Bulls,', 'playing', 'three', 'minutes', 'in', 'the', 'Bucks', '117–106', 'win.[11]', 'On', 'March', '31,', 'Colson', 'started', 'his', 'first', 'NBA', 'game', 'against', 'the', 'Atlanta', 'Hawks', 'and', 'in', 'that', 'game,', 'he', 'managed', 'to', 'score', '15', 'points', 'and', 'grabbed', '16', 'rebounds', 'in', '41', 'minutes', 'of', 'playing', 'time.[12]', 'On', 'July', '21,', '2019,', 'Colson', 'was', 'waived', 'by', 'the', 'Bucks.[13]', 'Darüşşafaka', '(2019–2020)', 'On', 'July', '30,', '2019,', 'Colson', 'signed', 'with', 'Darüşşafaka.[14]', 'Colson', 'and', 'the', 'team', 'mutually', 'parted', 'ways', 'on', 'April', '24,', '2020.', 'Colson', 'averaged', '12.2', 'points', 'and', '5.1', 'rebounds', 'per', 'game', 'in', 'the', 'Turkish', 'League', 'and', '10.8', 'points', 'and', '5.0', 'rebounds', 'in', 'EuroCup', 'play.[15]', 'SIG', 'Strasbourg', '(2020–2021)', 'On', 'August', '31,', '2020,', 'Colson', 'signed', 'with', 'SIG', 'Strasbourg.[16][17]', 'He', 'was', 'named', 'player', 'of', 'the', 'week', 'on', 'October', '14,', 'after', 'posting', '24', 'points,', 'nine', 'rebounds', 'and', 'two', 'assists', 'in', 'a', 'win', 'against', 'Orléans', 'Loiret', 'Basket.[18]', 'Pınar', 'Karşıyaka', '(2021–present)', 'On', 'July', '10,', '2021,', 'he', 'has', 'signed', 'with', 'Pınar', 'Karşıyaka', 'of', 'the', 'Turkish', 'Super', 'League.', '[19]', 'Playing', 'style', 'In', 'a', '2016', 'story,', 'Sports', 'Illustrated', 'writer', 'Luke', 'Winn', 'called', 'Colson', '\"one', 'of', 'college', 'basketball’s', 'greatest', 'anomalies.\"', 'While', 'Colson', 'was', 'not', 'much', 'larger', 'than', 'in', 'high', 'school—by', 'then,', 'he', 'claimed', 'to', 'be', '6\\'5\"', '(1.96', 'm)', 'tall', 'with', 'a', \"7'\", '(2.13', 'm)', 'wingspan—Notre', 'Dame', 'was', 'frequently', 'playing', 'him', 'as', 'a', 'center', 'alongside', 'four', 'guards,', 'three', 'of', 'them', 'taller', 'than', 'Colson.', 'As', 'early', 'as', 'his', 'high', 'school', 'and', 'AAU', 'days,', 'according', 'to', 'Winn,', '\"he', 'knew', 'how', 'to', 'work', 'angles', 'to', 'get', 'off', 'all', 'kinds', 'of', 'funky', 'shots\"', 'and', '\"played', 'with', 'a', 'chip', 'on', 'his', 'shoulder', 'due', 'to', 'being', 'ignored', 'by', 'many', 'big-time', 'schools\".', 'In', 'his', 'final', 'two', 'seasons', 'at', 'Notre', 'Dame,', 'Colson', 'began', 'to', 'include', 'three-pointers', 'in', 'his', 'skill', 'set,', 'enabling', 'him', 'to', 'also', 'play', 'as', 'a', 'stretch', 'four', 'in', 'some', 'Notre', 'Dame', 'lineups.', 'He', 'began', 'this', 'process', 'in', 'summer', '2016,', 'when', 'he', 'spent', 'five', 'days', 'in', 'California', 'with', 'NBA', 'player', 'Jared', 'Dudley,', 'whom', 'Colson', 'had', 'known', 'as', 'a', 'young', 'boy', 'while', 'his', 'father', 'was', 'coaching', 'Dudley', 'at', 'Boston', 'College.[1]', 'abate', 'abbey', 'abhor', 'abide', 'abort', 'abuse', 'abyss', 'acorn', 'actor', 'acute', 'adage', 'adapt', 'adept', 'admit', 'adopt', 'adore', 'adorn', 'affix', 'again', 'agile', 'aging', 'agony', 'agree', 'aisle', 'alarm', 'alert', 'alert', 'alias', 'alibi', 'alien', 'align', 'alike', 'alive', 'allay', 'alley', 'allot', 'allow', 'alloy', 'aloft', 'aloud', 'altar', 'alter', 'alter', 'amass', 'amaze', 'amber', 'amend', 'ample', 'amuse', 'anger', 'angry', 'ankle', 'annex', 'annoy', 'anvil', 'apart', 'apply', 'apply', 'apply', 'April', 'argue', 'arise', 'armed', 'armor', 'array', 'arson', 'aside', 'aspen', 'asset', 'atlas', 'attic', 'aural', 'avail', 'avert', 'avoid', 'await', 'awake', 'award', 'award', 'aware', 'awash', 'awful', 'basic', 'basis', 'bathe', 'beach', 'beard', 'beard', 'begin', 'below', 'berth', 'beset', 'binge', 'birth', 'birth', 'black', 'blame', 'blame', 'blank', 'blaze', 'blaze', 'bleak', 'blend', 'blend', 'bless', 'blind', 'blink', 'blink', 'bliss', 'blood', 'blood', 'bloom', 'bloom', 'blunt', 'blunt', 'blush', 'board', 'boast', 'boast', 'boost', 'boost', 'booze', 'bored', 'bosom', 'bosom', 'bough', 'bound', 'bound', 'bound', 'bowel', 'brace', 'brain', 'brain', 'brake', 'brand', 'brand', 'brash', 'brass', 'brave', 'brave', 'brave', 'brawn', 'bread', 'break', 'breed', 'breed', 'bribe', 'bribe', 'brick', 'brick', 'bride', 'brief', 'brief', 'brief', 'bring', 'brisk', 'brisk', 'broad', 'broad', 'brook', 'brook', 'brunt', 'brush', 'brute', 'brute', 'build', 'build', 'bully', 'bully', 'bunch', 'bunch', 'burst', 'burst', 'cabin', 'camel', 'canal', 'carry', 'catch', 'cause', 'cause', 'cease', 'chair', 'chant', 'chaos', 'charm', 'chart', 'chase', 'chasm', 'cheap', 'cheat', 'cheek', 'cheer', 'chest', 'chief', 'chief', 'child', 'chill', 'choke', 'chore', 'civic', 'civil', 'claim', 'clash', 'class', 'class', 'clean', 'clear', 'clear', 'clerk', 'click', 'cliff', 'climb', 'cling', 'cloak', 'close', 'close', 'cloth', 'cloud', 'coach', 'coast', 'coast', 'color', 'comet', 'cough', 'count', 'court', 'crack', 'crack', 'craft', 'crash', 'crash', 'crawl', 'craze', 'crazy', 'creed', 'creek', 'creep', 'crest', 'crime', 'crisp', 'crock', 'crone', 'crony', 'cross', 'crowd', 'crown', 'crude', 'cruel', 'crumb', 'crush', 'civil', 'claim', 'clash', 'class', 'class', 'clean', 'clear', 'clear', 'clerk', 'click', 'cliff', 'climb', 'cling', 'cloak', 'close', 'close', 'cloth', 'cloud', 'coach', 'coast', 'coast', 'color', 'comet', 'cough', 'count', 'court', 'crack', 'crack', 'craft', 'crash', 'crash', 'crawl', 'craze', 'crazy', 'creed', 'creek', 'creep', 'crest', 'crime', 'crisp', 'crock', 'crone', 'crony', 'cross', 'crowd', 'crown', 'crude', 'cruel', 'crumb', 'crush', 'civil', 'claim', 'clash', 'class', 'class', 'clean', 'clear', 'clear', 'clerk', 'click', 'cliff', 'climb', 'cling', 'cloak', 'close', 'close', 'cloth', 'cloud', 'coach', 'coast', 'coast', 'color', 'comet', 'cough', 'count', 'court', 'crack', 'crack', 'craft', 'crash', 'crash', 'crawl', 'craze', 'crazy', 'creed', 'creek', 'creep', 'crest', 'crime', 'crisp', 'crock', 'crone', 'crony', 'cross', 'crowd', 'crown', 'crude', 'cruel', 'crumb', 'crush', 'crust', 'cubic', 'curio', 'curly', 'curse', 'curse', 'cycle', 'daily', 'dairy', 'daunt', 'death', 'debit', 'decay', 'decay', 'decoy', 'defer', 'deity', 'delay', 'delay', 'delve', 'dense', 'depot', 'depth', 'detox', 'devil', 'digit', 'dirty', 'ditch', 'dizzy', 'doing', 'doubt', 'doubt', 'dozen', 'dozen', 'draft', 'drain', 'drain', 'dread', 'dream', 'drift', 'drift', 'drill', 'drill', 'drink', 'drive', 'drive', 'droop', 'droop', 'drown', 'drunk', 'dummy', 'dwell', 'eager', 'early', 'early', 'earth', 'edict', 'elder', 'elder', 'elect', 'elect', 'elite', 'elude', 'empty', 'empty', 'enact', 'endow', 'enemy', 'enjoy', 'enter', 'epoch', 'equal', 'equip', 'erase', 'erect', 'erect', 'erode', 'error', 'erupt', 'ethic', 'ethos', 'event', 'every', 'evoke', 'exact', 'exact', 'exalt', 'excel', 'exert', 'exile', 'exile', 'exist', 'expel', 'extra', 'extra', 'extra', 'faint', 'faint', 'faint', 'faith', 'FALSE', 'famed', 'fatal', 'fatty', 'fault', 'fault', 'favor', 'favor', 'feast', 'feast', 'fetch', 'fever', 'fiber', 'fiend', 'fight', 'filth', 'final', 'final', 'first', 'fixed', 'flame', 'flame', 'flare', 'flare', 'flesh', 'flick', 'flick', 'fling', 'fling', 'flirt', 'flirt', 'float', 'float', 'flock', 'flock', 'flood', 'flood', 'flora', 'flour', 'fluid', 'fluid', 'fluke', 'fluke', 'fluke', 'flunk', 'flunk', 'flush', 'flush', 'focus', 'focus', 'hover', 'human', 'human', 'humid', 'hunch', 'hunch', 'hurry', 'hurry', 'ideal', 'ideal', 'idiot', 'imply', 'incur', 'index', 'index', 'inert', 'infer', 'inlet', 'inlet', 'inner', 'inner', 'irony', 'issue', 'issue', 'ivory', 'jewel', 'joint', 'joint', 'joint', 'jolly', 'jolly', 'jolly', 'jolly', 'judge', 'judge', 'kneel', 'labor', 'labor', 'lance', 'lapse', 'lapse', 'large', 'large', 'larva', 'later', 'laugh', 'laugh', 'layer', 'layer', 'learn', 'folly', 'foray', 'foray', 'force', 'force', 'found', 'frail', 'frame', 'frame', 'frank', 'fresh', 'fresh', 'front', 'front', 'front', 'front', 'frown', 'frown', 'funny', 'funny', 'fussy', 'fuzzy', 'gamut', 'gauge', 'gauge', 'glare', 'glare', 'gleam', 'gleam', 'globe', 'globe', 'glory', 'glory', 'goods', 'goody', 'goose', 'gourd', 'grace', 'grace', 'grade', 'grade', 'graft', 'graft', 'graft', 'grain', 'grain', 'grant', 'grant', 'grasp', 'grasp', 'grass', 'grave', 'grave', 'grave', 'great', 'greed', 'greet', 'grief', 'grind', 'gripe', 'gripe', 'groan', 'groan', 'grope', 'gross', 'gross', 'grove', 'growl', 'growl', 'grown', 'guess', 'guess', 'guilt', 'gusto', 'habit', 'happy', 'harsh', 'haste', 'hasty', 'hatch', 'hatch', 'hatch', 'haunt', 'haunt', 'heave', 'heave', 'heavy', 'hence', 'hinge', 'hinge', 'hoard', 'hoard', 'hoist', 'hoist', 'honor', 'honor', 'horse', 'hotly', 'house', 'hover', 'least', 'leave', 'leech', 'lefty', 'legal', 'legal', 'level', 'level', 'lever', 'light', 'light', 'light', 'light', 'light', 'linen', 'liver', 'local', 'local', 'lofty', 'logic', 'loose', 'loose', 'loose', 'lousy', 'lower', 'lower', 'loyal', 'loyal', 'lunar', 'lunch', 'lyric', 'major', 'major', 'maple', 'marry', 'match', 'maxim', 'maybe', 'mayor', 'means', 'means', 'mercy', 'merge', 'merry', 'mimic', 'mimic', 'minor', 'moist', 'money', 'month', 'mount', 'mouth', 'muddy', 'mummy', 'music', 'naked', 'nasty', 'nerve', 'never', 'niece', 'night', 'noble', 'noble', 'noise', 'novel', 'novel', 'nudge', 'occur', 'ocean', 'offer', 'often', 'opium', 'orbit', 'order', 'order', 'organ', 'organ', 'other', 'outer', 'overt', 'oxide', 'patch', 'peace', 'peril', 'petal', 'petty', 'phase', 'piece', 'piety', 'pilot', 'pinch', 'pious', 'pique', 'place', 'place', 'plain', 'plane', 'plane', 'plane', 'plant', 'plate', 'plead', 'pluck', 'pluck', 'plumb', 'plumb', 'plump', 'point', 'pound', 'power', 'prawn', 'press', 'prick', 'prick', 'prime', 'prior', 'prize', 'probe', 'probe', 'prone', 'proof', 'prose', 'proud', 'prove', 'pulse', 'pupil', 'puppy', 'quail', 'quake', 'queer', 'quell', 'quest', 'quick', 'quiet', 'quite', 'quota', 'quote', 'rainy', 'raise', 'range', 'range', 'rapid', 'ratio', 'reach', 'reach', 'react', 'ready', 'realm', 'rebel', 'rebel', 'recur', 'refer', 'reign', 'relax', 'relay', 'relay', 'relic', 'remit', 'renew', 'repel', 'reply', 'rhyme', 'right', 'rigid', 'rigor', 'risky', 'rival', 'river', 'rough', 'round', 'rouse', 'royal', 'ruler', 'rumor', 'rural', 'rusty', 'sadly', 'saint', 'scale', 'scare', 'scary', 'scene', 'scent', 'scent', 'scope', 'score', 'score', 'scorn', 'scorn', 'screw', 'scrub', 'seize', 'sense', 'serve', 'sever', 'sewer', 'shade', 'shade', 'shaft', 'shake', 'shame', 'shape', 'shape', 'share', 'shark', 'sharp', 'shear', 'sheer', 'sheer', 'shelf', 'shell', 'shift', 'shine', 'shiny', 'shore', 'short', 'shout', 'shove', 'sight', 'silly', 'silly', 'skill', 'slack', 'slack', 'slant', 'slave', 'sleep', 'slide', 'smack', 'small', 'smart', 'smart', 'smart', 'smear', 'smell', 'smell', 'smile', 'snare', 'sneak', 'sneer', 'sober', 'solar', 'solid', 'solve', 'sorry', 'sound', 'sound', 'sound', 'space', 'spare', 'spare', 'speak', 'speck', 'spell', 'spell', 'spell', 'spend', 'spice', 'spill', 'spine', 'spite', 'split', 'spoil', 'spook', 'sport', 'spurt', 'stain', 'stair', 'stake', 'stale', 'stand', 'stare', 'start', 'start', 'state', 'state', 'steal', 'steam', 'steel', 'steep', 'steer', 'stern', 'stick', 'stick', 'stiff', 'still', 'still', 'sting', 'sting', 'stink', 'stock', 'stock', 'stoop', 'store', 'store', 'storm', 'stout', 'straw', 'strip', 'strip', 'stuff', 'stump', 'stump', 'suave', 'suite', 'sunny', 'swarm', 'swear', 'sweat', 'sweep', 'swell', 'swift', 'swing', 'swirl', 'swish', 'table', 'tacit', 'tacky', 'taste', 'tasty', 'taunt', 'tease', 'tempt', 'tense', 'terms', 'thank', 'thick', 'thief', 'thing', 'think', 'third', 'throb', 'throw', 'thumb', 'tight', 'timid', 'tired', 'token', 'token', 'tooth', 'total', 'total', 'tough', 'toxic', 'trace', 'trace', 'track', 'trade', 'trade', 'train', 'train', 'trait', 'tramp', 'tramp', 'trash', 'tread', 'treat', 'trend', 'trial', 'tribe', 'troop', 'truly', 'trunk', 'trust', 'truth', 'twice', 'twist', 'ulcer', 'uncle', 'unify', 'union', 'unite', 'unity', 'upper', 'upset', 'upset', 'urban', 'usage', 'usher', 'usher', 'usual', 'utter', 'utter', 'vague', 'valid', 'value', 'vapor', 'verge', 'verse', 'vigor', 'virus', 'visit', 'vista', 'vital', 'vivid', 'vogue', 'voice', 'vouch', 'wages', 'waste', 'watch', 'water', 'weary', 'weave', 'wedge', 'wedge', 'weigh', 'weird', 'wheel', 'whole', 'whore', 'widen', 'width', 'witch', 'witty', 'world', 'worry', 'worse', 'worst', 'worth', 'wound', 'wound', 'wrath', 'wreck', 'wring', 'write', 'wrong', 'yearn', 'yield', 'yield', 'yield', 'young', 'youth']\n"
          ]
        }
      ]
    },
    {
      "cell_type": "markdown",
      "metadata": {
        "id": "ysmjBqkZPPpL"
      },
      "source": [
        "５文字の長さの英単語だけを大量に抽出し、まとめる。これも数値に変換。"
      ]
    },
    {
      "cell_type": "code",
      "metadata": {
        "colab": {
          "base_uri": "https://localhost:8080/"
        },
        "id": "J00DjuNp41h6",
        "outputId": "fea6cd2d-e656-4991-c86b-47a75f4a4d4a"
      },
      "source": [
        "import re\n",
        "def correct_generate(data_size=10000,length=5):\n",
        "  alpha_data=[]\n",
        "  for word in data:\n",
        "    word=word.lower()\n",
        "    res = re.sub(r'[^a-zA-Z]', '', word)\n",
        "    if len(res)==length:\n",
        "      alpha_data.append(res)\n",
        "\n",
        "  beta_data=[]\n",
        "  for word in alpha_data:\n",
        "    num=[]\n",
        "    for id in range(len(word)):\n",
        "      c=word[id]\n",
        "      num.append(dic[c])\n",
        "    beta_data.append(num)\n",
        "  size=len(alpha_data)\n",
        "  return alpha_data, beta_data, size\n",
        "\n",
        "alpha,beta,_=correct_generate()\n",
        "print(beta)"
      ],
      "execution_count": 108,
      "outputs": [
        {
          "output_type": "stream",
          "name": "stdout",
          "text": [
            "[[13, 11, 0, 18, 18], [12, 2, 1, 11, 19], [0, 11, 4, 6, 9], [4, 19, 7, 3, 10], [19, 7, 3, 1, 10], [18, 19, 0, 10, 19], [21, 4, 10, 11, 14], [12, 4, 0, 19, 18], [6, 0, 20, 0, 11], [12, 4, 0, 19, 18], [3, 6, 3, 5, 8], [15, 11, 3, 3, 19], [19, 7, 3, 18, 3], [6, 3, 21, 11, 8], [18, 19, 0, 19, 3], [18, 3, 10, 12, 18], [0, 20, 4, 1, 14], [18, 7, 1, 17, 18], [16, 6, 4, 21, 6], [6, 4, 10, 19, 7], [5, 0, 24, 4, 10], [5, 1, 6, 4, 10], [5, 1, 11, 3, 18], [19, 7, 1, 10, 14], [19, 4, 19, 0, 11], [0, 10, 3, 0, 14], [6, 4, 10, 19, 7], [18, 4, 2, 19, 7], [19, 7, 1, 10, 14], [21, 4, 10, 11, 14], [6, 4, 10, 19, 7], [11, 3, 0, 18, 19], [8, 3, 0, 10, 18], [12, 3, 9, 0, 6], [0, 11, 4, 6, 9], [13, 4, 0, 18, 19], [9, 10, 3, 0, 19], [21, 7, 1, 13, 7], [12, 3, 9, 0, 6], [6, 4, 10, 19, 7], [11, 3, 9, 0, 11], [2, 6, 19, 1, 11], [13, 1, 20, 1, 11], [21, 4, 10, 11, 14], [21, 4, 10, 11, 14], [17, 4, 21, 3, 10], [21, 4, 10, 11, 14], [2, 6, 1, 4, 6], [18, 17, 0, 13, 3], [15, 1, 10, 18, 19], [3, 6, 14, 3, 14], [19, 7, 10, 3, 3], [21, 4, 10, 11, 14], [4, 19, 7, 3, 10], [10, 0, 6, 16, 18], [7, 2, 5, 0, 6], [10, 0, 19, 3, 18], [10, 0, 19, 3, 18], [20, 0, 11, 2, 3], [9, 4, 4, 14, 18], [19, 4, 19, 0, 11], [7, 4, 11, 14, 18], [19, 4, 19, 0, 11], [21, 4, 10, 11, 14], [18, 7, 0, 10, 3], [19, 7, 1, 10, 14], [17, 4, 21, 3, 10], [21, 4, 10, 11, 14], [15, 4, 10, 13, 3], [6, 0, 5, 3, 18], [6, 0, 5, 3, 18], [15, 1, 10, 18, 19], [16, 6, 4, 21, 6], [14, 0, 19, 3, 18], [21, 4, 10, 11, 14], [18, 7, 4, 21, 6], [11, 0, 10, 9, 3], [21, 4, 2, 11, 14], [18, 4, 2, 19, 7], [7, 4, 6, 4, 10], [15, 1, 10, 18, 19], [0, 18, 1, 0, 18], [11, 1, 5, 1, 19], [21, 4, 10, 11, 14], [15, 1, 10, 18, 19], [14, 0, 19, 3, 18], [0, 5, 17, 11, 3], [18, 17, 0, 1, 6], [15, 1, 10, 18, 19], [16, 6, 4, 21, 6], [3, 18, 18, 0, 8], [0, 17, 10, 1, 11], [14, 10, 0, 15, 19], [11, 0, 19, 3, 10], [18, 7, 0, 11, 11], [15, 1, 6, 0, 11], [18, 19, 1, 11, 3], [18, 7, 0, 11, 11], [21, 10, 4, 19, 3], [10, 4, 2, 9, 7], [14, 10, 0, 15, 19], [2, 6, 19, 1, 11], [0, 15, 19, 3, 10], [14, 10, 0, 15, 19], [18, 7, 4, 10, 19], [4, 19, 7, 3, 10], [15, 4, 10, 5, 18], [6, 0, 5, 3, 18], [18, 4, 6, 9, 18], [18, 4, 2, 19, 7], [6, 0, 5, 3, 18], [10, 1, 20, 3, 10], [2, 18, 0, 9, 3], [0, 15, 19, 3, 10], [13, 1, 20, 1, 11], [2, 18, 0, 9, 3], [10, 3, 15, 3, 10], [13, 11, 1, 15, 15], [13, 11, 1, 15, 15], [12, 2, 1, 11, 19], [15, 1, 10, 18, 19], [6, 4, 10, 19, 7], [11, 3, 0, 18, 19], [8, 3, 0, 10, 18], [21, 7, 1, 13, 7], [15, 1, 10, 18, 19], [7, 2, 5, 0, 6], [15, 1, 10, 18, 19], [19, 7, 10, 3, 3], [5, 0, 24, 4, 10], [21, 0, 20, 3, 18], [6, 4, 10, 19, 7], [11, 0, 19, 3, 10], [21, 0, 20, 3, 18], [6, 4, 10, 19, 7], [9, 10, 3, 0, 19], [11, 0, 16, 3, 18], [17, 4, 1, 6, 19], [0, 11, 4, 6, 9], [13, 4, 0, 18, 19], [0, 11, 4, 6, 9], [6, 4, 10, 19, 7], [19, 7, 3, 10, 3], [18, 4, 2, 19, 7], [7, 3, 6, 10, 8], [0, 11, 4, 6, 9], [3, 0, 10, 11, 8], [6, 4, 10, 18, 3], [15, 1, 10, 18, 19], [17, 4, 6, 13, 3], [15, 1, 10, 18, 19], [11, 0, 19, 3, 10], [15, 1, 10, 18, 19], [18, 0, 1, 6, 19], [4, 15, 19, 3, 6], [18, 0, 6, 19, 0], [19, 7, 3, 1, 10], [0, 11, 4, 6, 9], [10, 1, 20, 3, 10], [13, 4, 0, 18, 19], [6, 4, 10, 19, 7], [12, 3, 9, 0, 6], [15, 1, 10, 18, 19], [7, 4, 2, 18, 3], [21, 4, 2, 11, 14], [15, 1, 10, 18, 19], [19, 7, 10, 3, 3], [18, 19, 0, 19, 3], [3, 0, 10, 11, 8], [4, 15, 19, 3, 6], [13, 0, 18, 3, 18], [17, 3, 11, 19, 18], [19, 4, 4, 11, 18], [4, 19, 7, 3, 10], [9, 4, 4, 14, 18], [12, 3, 0, 6, 18], [4, 19, 7, 3, 10], [2, 10, 9, 3, 14], [0, 14, 4, 17, 19], [6, 4, 10, 19, 7], [4, 15, 19, 3, 6], [0, 15, 19, 3, 10], [0, 9, 3, 6, 19], [4, 15, 19, 3, 6], [15, 4, 10, 5, 18], [0, 9, 3, 6, 19], [12, 4, 14, 8, 18], [0, 9, 3, 6, 19], [0, 9, 3, 6, 19], [15, 1, 9, 7, 19], [4, 15, 15, 3, 10], [21, 7, 1, 13, 7], [17, 4, 11, 1, 4], [21, 4, 10, 11, 14], [21, 4, 10, 11, 14], [19, 3, 10, 5, 18], [15, 1, 10, 18, 19], [19, 1, 19, 11, 3], [16, 6, 4, 21, 6], [21, 7, 1, 13, 7], [7, 4, 6, 4, 10], [11, 4, 2, 1, 18], [19, 3, 10, 5, 18], [13, 4, 20, 3, 10], [12, 3, 1, 6, 9], [11, 0, 19, 1, 6], [0, 12, 4, 2, 19], [21, 4, 10, 11, 14], [10, 4, 4, 19, 18], [3, 9, 8, 17, 19], [19, 7, 3, 1, 10], [9, 10, 3, 3, 16], [21, 4, 10, 11, 14], [12, 0, 18, 3, 14], [0, 15, 19, 3, 10], [10, 4, 5, 0, 6], [9, 10, 3, 3, 16], [21, 4, 10, 11, 14], [3, 0, 10, 11, 8], [21, 4, 10, 11, 14], [9, 10, 3, 3, 16], [21, 4, 10, 16, 18], [21, 7, 1, 13, 7], [11, 0, 19, 3, 10], [12, 3, 9, 0, 6], [1, 14, 3, 0, 18], [9, 10, 3, 3, 16], [2, 6, 19, 1, 11], [12, 3, 9, 0, 6], [18, 7, 0, 17, 3], [0, 11, 4, 6, 9], [19, 7, 10, 3, 3], [5, 0, 24, 4, 10], [21, 7, 1, 13, 7], [18, 19, 2, 14, 8], [18, 3, 6, 18, 3], [21, 7, 1, 13, 7], [18, 19, 2, 14, 8], [11, 4, 9, 1, 13], [21, 7, 1, 13, 7], [10, 2, 11, 3, 18], [19, 7, 3, 10, 3], [0, 12, 4, 2, 19], [21, 4, 10, 11, 14], [18, 4, 11, 20, 3], [19, 3, 0, 5, 18], [19, 7, 3, 1, 10], [13, 10, 4, 21, 6], [8, 3, 0, 10, 18], [15, 4, 10, 5, 18], [9, 10, 3, 0, 19], [15, 1, 15, 19, 7], [12, 3, 1, 6, 9], [2, 6, 14, 3, 10], [0, 15, 19, 3, 10], [16, 6, 4, 21, 6], [2, 6, 19, 1, 11], [19, 0, 11, 3, 18], [18, 19, 1, 11, 11], [11, 0, 19, 1, 6], [17, 10, 3, 18, 18], [24, 0, 5, 3, 18], [12, 1, 12, 11, 3], [9, 10, 3, 0, 19], [20, 4, 21, 3, 11], [18, 7, 1, 15, 19], [17, 11, 0, 8, 18], [3, 20, 3, 10, 8], [5, 0, 24, 4, 10], [4, 15, 19, 3, 6], [19, 7, 4, 18, 3], [4, 19, 7, 3, 10], [21, 4, 10, 11, 14], [3, 0, 10, 11, 8], [21, 4, 10, 11, 14], [19, 7, 3, 18, 3], [19, 7, 3, 1, 10], [9, 10, 3, 0, 19], [6, 4, 12, 3, 11], [17, 10, 1, 22, 3], [21, 4, 10, 16, 18], [4, 19, 7, 3, 10], [0, 11, 1, 13, 3], [5, 0, 10, 13, 7], [18, 19, 4, 10, 8], [0, 11, 1, 13, 3], [0, 9, 0, 1, 6], [19, 3, 11, 11, 18], [21, 7, 1, 19, 3], [0, 11, 1, 13, 3], [21, 7, 1, 13, 7], [19, 3, 11, 11, 18], [8, 3, 0, 10, 18], [11, 0, 19, 3, 10], [0, 15, 19, 3, 10], [14, 3, 0, 19, 7], [0, 11, 1, 13, 3], [17, 0, 10, 19, 8], [18, 19, 0, 19, 3], [13, 11, 1, 15, 15], [21, 10, 4, 6, 9], [18, 1, 6, 13, 3], [19, 0, 16, 3, 18], [21, 4, 2, 11, 14], [15, 4, 10, 13, 3], [4, 19, 7, 3, 10], [21, 4, 2, 11, 14], [14, 3, 12, 19, 18], [10, 0, 19, 3, 18], [5, 4, 6, 3, 8], [11, 4, 0, 6, 18], [12, 1, 11, 11, 18], [21, 4, 2, 11, 14], [21, 4, 2, 11, 14], [19, 7, 3, 1, 10], [21, 4, 2, 11, 14], [13, 10, 0, 18, 7], [18, 1, 6, 13, 3], [13, 4, 2, 11, 14], [21, 4, 10, 11, 14], [19, 7, 3, 18, 3], [0, 15, 19, 3, 10], [6, 1, 9, 7, 19], [10, 0, 1, 18, 3], [18, 17, 10, 3, 3], [19, 7, 3, 1, 10], [18, 19, 0, 10, 19], [20, 4, 19, 3, 14], [19, 1, 5, 3, 18], [10, 0, 1, 18, 3], [11, 1, 5, 1, 19], [2, 6, 14, 3, 10], [11, 1, 5, 1, 19], [2, 6, 14, 3, 10], [19, 10, 2, 5, 17], [20, 3, 9, 0, 18], [19, 7, 3, 1, 10], [7, 0, 6, 14, 18], [12, 1, 14, 3, 6], [18, 19, 0, 16, 3], [11, 1, 5, 1, 19], [19, 7, 3, 1, 10], [17, 10, 1, 13, 3], [0, 11, 4, 6, 3], [21, 4, 10, 11, 14], [15, 1, 14, 3, 18], [17, 4, 1, 6, 19], [17, 11, 0, 13, 3], [0, 11, 4, 6, 9], [4, 19, 7, 3, 10], [18, 17, 0, 13, 3], [3, 0, 10, 11, 8], [6, 0, 5, 3, 14], [0, 15, 19, 3, 10], [9, 10, 3, 0, 19], [11, 0, 19, 3, 10], [19, 7, 3, 1, 10], [6, 0, 5, 3, 18], [21, 7, 1, 13, 7], [21, 7, 1, 13, 7], [3, 18, 18, 3, 23], [18, 0, 23, 4, 6], [21, 7, 1, 11, 3], [4, 19, 7, 3, 10], [6, 4, 10, 18, 3], [6, 4, 10, 19, 7], [11, 0, 19, 1, 6], [8, 3, 0, 10, 18], [15, 4, 10, 5, 18], [9, 10, 4, 2, 17], [9, 10, 3, 0, 19], [12, 3, 9, 0, 6], [21, 7, 1, 13, 7], [3, 0, 10, 11, 8], [12, 3, 9, 0, 6], [17, 10, 3, 18, 18], [24, 0, 5, 3, 18], [12, 1, 12, 11, 3], [18, 19, 0, 10, 19], [9, 10, 3, 0, 19], [20, 4, 21, 3, 11], [18, 7, 1, 15, 19], [21, 4, 10, 11, 14], [18, 1, 6, 13, 3], [19, 8, 17, 3, 18], [5, 3, 14, 1, 0], [19, 7, 3, 18, 3], [4, 10, 14, 3, 10], [15, 1, 23, 3, 14], [4, 10, 14, 3, 10], [20, 3, 10, 12, 18], [4, 10, 14, 3, 10], [21, 4, 10, 11, 14], [21, 4, 10, 11, 14], [0, 15, 19, 3, 10], [19, 7, 3, 10, 3], [19, 7, 3, 10, 3], [19, 7, 3, 10, 3], [0, 10, 3, 0, 18], [18, 4, 2, 19, 7], [2, 6, 1, 4, 6], [4, 19, 7, 3, 10], [21, 4, 10, 11, 14], [11, 3, 0, 18, 19], [19, 7, 3, 10, 3], [0, 5, 4, 6, 9], [19, 3, 10, 5, 18], [4, 19, 7, 3, 10], [4, 13, 13, 2, 10], [9, 10, 4, 2, 17], [0, 11, 4, 6, 9], [6, 4, 10, 19, 7], [13, 4, 0, 18, 19], [21, 7, 4, 18, 3], [1, 18, 11, 3, 18], [18, 0, 23, 4, 6], [21, 7, 1, 13, 7], [18, 0, 23, 4, 6], [6, 4, 10, 19, 7], [21, 7, 1, 13, 7], [4, 19, 7, 3, 10], [18, 13, 4, 19, 18], [15, 4, 10, 19, 7], [12, 0, 10, 9, 8], [1, 18, 11, 3, 18], [18, 1, 6, 13, 3], [19, 7, 3, 18, 3], [14, 2, 19, 13, 7], [21, 7, 1, 13, 7], [1, 18, 11, 3, 18], [4, 19, 7, 3, 10], [6, 4, 10, 18, 3], [19, 7, 3, 18, 3], [19, 7, 3, 1, 10], [18, 7, 4, 21, 18], [19, 7, 4, 18, 3], [5, 1, 23, 3, 14], [9, 10, 3, 0, 19], [19, 7, 3, 18, 3], [5, 1, 23, 3, 14], [4, 19, 7, 3, 10], [14, 2, 19, 13, 7], [19, 7, 3, 18, 3], [20, 3, 10, 12, 18], [5, 4, 14, 0, 11], [20, 3, 10, 12, 18], [18, 4, 2, 6, 14], [16, 6, 4, 21, 6], [18, 7, 0, 10, 3], [4, 19, 7, 3, 10], [20, 3, 11, 0, 10], [1, 6, 9, 0, 10], [14, 0, 9, 2, 5], [7, 3, 0, 10, 14], [9, 11, 4, 10, 8], [4, 15, 19, 3, 6], [6, 4, 10, 19, 7], [0, 11, 4, 6, 9], [11, 4, 21, 3, 10], [16, 6, 4, 21, 6], [24, 2, 19, 3, 18], [10, 4, 5, 0, 6], [10, 4, 5, 0, 6], [11, 0, 19, 1, 6], [10, 4, 5, 0, 6], [6, 0, 5, 3, 14], [0, 15, 19, 3, 10], [18, 0, 23, 4, 6], [18, 0, 23, 4, 6], [18, 0, 23, 4, 6], [18, 0, 23, 4, 6], [18, 13, 4, 19, 18], [18, 7, 4, 10, 19], [3, 0, 10, 11, 8], [2, 18, 1, 6, 9], [10, 2, 6, 1, 13], [11, 0, 19, 1, 6], [10, 2, 6, 1, 13], [19, 7, 4, 10, 6], [11, 0, 19, 1, 6], [6, 4, 2, 6, 18], [20, 3, 10, 12, 18], [15, 4, 10, 5, 18], [4, 10, 14, 3, 10], [15, 10, 3, 3, 10], [15, 4, 10, 5, 18], [18, 17, 3, 0, 16], [18, 17, 4, 16, 3], [6, 4, 2, 6, 18], [20, 3, 10, 12, 18], [18, 7, 4, 21, 18], [15, 4, 23, 0, 18], [7, 0, 12, 12, 0], [15, 4, 23, 0, 18], [7, 0, 12, 12, 0], [15, 4, 23, 3, 18], [7, 4, 11, 3, 18], [12, 1, 10, 14, 18], [6, 3, 18, 19, 18], [13, 4, 5, 3, 18], [17, 0, 10, 19, 18], [19, 1, 19, 11, 3], [3, 0, 10, 11, 8], [4, 19, 7, 3, 10], [3, 25, 2, 0, 11], [19, 3, 10, 5, 18], [18, 1, 14, 3, 18], [11, 0, 19, 1, 6], [11, 0, 19, 1, 6], [12, 4, 6, 3, 18], [15, 1, 10, 18, 19], [9, 11, 1, 14, 3], [18, 16, 1, 11, 11], [17, 11, 1, 3, 14], [21, 7, 1, 11, 3], [7, 0, 6, 14, 18], [9, 2, 1, 14, 3], [13, 10, 2, 3, 11], [19, 7, 10, 3, 3], [20, 4, 1, 13, 3], [0, 20, 0, 1, 11], [19, 7, 10, 3, 3], [17, 10, 1, 5, 0], [15, 4, 10, 19, 7], [3, 14, 1, 13, 19], [12, 3, 9, 1, 6], [7, 4, 17, 3, 18], [19, 7, 3, 10, 3], [21, 7, 1, 11, 3], [13, 10, 1, 5, 3], [3, 0, 10, 19, 7], [3, 0, 10, 19, 7], [3, 0, 10, 19, 7], [21, 7, 3, 10, 3], [17, 11, 0, 13, 3], [21, 7, 3, 10, 3], [13, 10, 1, 5, 3], [18, 19, 4, 10, 8], [3, 0, 10, 19, 7], [7, 3, 6, 13, 3], [19, 1, 19, 11, 3], [11, 0, 19, 3, 10], [3, 0, 10, 19, 7], [3, 0, 10, 19, 7], [19, 0, 16, 3, 18], [17, 11, 0, 13, 3], [17, 11, 0, 6, 3], [13, 10, 0, 18, 7], [21, 7, 3, 10, 3], [10, 1, 9, 7, 19], [19, 7, 3, 1, 10], [5, 4, 6, 3, 8], [19, 10, 2, 18, 19], [11, 3, 0, 14, 18], [4, 19, 7, 3, 10], [3, 0, 10, 19, 7], [7, 4, 2, 10, 18], [19, 7, 3, 1, 10], [21, 4, 10, 11, 14], [3, 0, 10, 19, 7], [13, 10, 1, 5, 3], [13, 0, 11, 11, 18], [21, 7, 1, 11, 3], [17, 4, 21, 3, 10], [25, 2, 1, 13, 16], [9, 10, 3, 3, 6], [15, 4, 10, 5, 18], [15, 4, 10, 13, 3], [15, 1, 3, 11, 14], [19, 7, 3, 1, 10], [11, 2, 6, 0, 10], [12, 3, 9, 1, 6], [21, 4, 10, 11, 14], [10, 1, 9, 7, 19], [21, 4, 10, 16, 18], [13, 11, 3, 0, 10], [13, 10, 1, 5, 3], [13, 7, 1, 3, 15], [21, 0, 8, 6, 3], [21, 7, 1, 11, 3], [12, 10, 2, 13, 3], [12, 10, 2, 13, 3], [13, 10, 1, 5, 3], [7, 4, 2, 10, 18], [0, 15, 19, 3, 10], [3, 0, 10, 19, 7], [3, 0, 10, 19, 7], [4, 10, 14, 3, 10], [21, 7, 1, 19, 3], [7, 4, 2, 18, 3], [3, 0, 10, 19, 7], [21, 4, 10, 11, 14], [5, 3, 0, 6, 18], [4, 10, 14, 3, 10], [3, 0, 10, 19, 7], [18, 17, 0, 13, 3], [4, 19, 7, 3, 10], [12, 3, 1, 6, 9], [19, 7, 3, 1, 10], [12, 3, 1, 6, 9], [21, 7, 3, 10, 3], [11, 3, 20, 3, 11], [13, 4, 2, 11, 14], [3, 0, 10, 19, 7], [21, 4, 5, 0, 6], [15, 11, 0, 18, 7], [19, 3, 0, 5, 18], [19, 7, 3, 1, 10], [9, 1, 20, 3, 18], [6, 3, 20, 3, 10], [17, 4, 18, 3, 18], [0, 9, 0, 1, 6], [19, 7, 3, 1, 10], [19, 7, 3, 1, 10], [4, 19, 7, 3, 10], [21, 4, 10, 11, 14], [21, 4, 10, 11, 14], [10, 2, 11, 3, 14], [11, 4, 10, 14, 18], [3, 0, 10, 19, 7], [21, 7, 1, 13, 7], [11, 4, 10, 14, 18], [15, 1, 6, 0, 11], [3, 0, 10, 19, 7], [13, 10, 1, 5, 3], [15, 0, 20, 4, 10], [11, 4, 10, 14, 18], [13, 1, 10, 13, 0], [21, 7, 1, 13, 7], [3, 0, 10, 19, 7], [21, 4, 2, 11, 14], [18, 7, 4, 21, 6], [13, 10, 1, 5, 3], [13, 4, 2, 11, 14], [15, 1, 10, 18, 19], [12, 10, 2, 13, 3], [3, 0, 10, 19, 7], [12, 0, 18, 3, 14], [3, 6, 14, 3, 14], [12, 3, 1, 6, 9], [3, 0, 10, 11, 8], [10, 7, 4, 14, 3], [18, 19, 0, 19, 3], [18, 7, 4, 10, 19], [18, 7, 4, 3, 18], [0, 5, 4, 6, 9], [6, 1, 16, 3, 18], [3, 11, 1, 19, 3], [8, 4, 2, 19, 7], [21, 7, 1, 11, 3], [5, 0, 24, 4, 10], [6, 4, 19, 10, 3], [13, 4, 0, 13, 7], [12, 0, 18, 3, 14], [6, 4, 19, 10, 3], [18, 19, 0, 15, 15], [6, 1, 16, 3, 18], [18, 19, 2, 14, 8], [5, 0, 24, 4, 10], [17, 1, 19, 13, 7], [1, 10, 1, 18, 7], [21, 4, 2, 11, 14], [21, 4, 2, 11, 14], [6, 4, 19, 10, 3], [6, 4, 19, 10, 3], [12, 3, 6, 13, 7], [17, 4, 1, 6, 19], [6, 0, 5, 3, 14], [6, 4, 19, 10, 3], [9, 0, 5, 3, 18], [15, 1, 10, 18, 19], [17, 4, 1, 6, 19], [6, 4, 19, 10, 3], [15, 1, 10, 18, 19], [6, 4, 19, 10, 3], [14, 0, 5, 3, 18], [6, 0, 5, 3, 14], [15, 1, 10, 18, 19], [15, 1, 10, 18, 19], [18, 1, 6, 13, 3], [17, 10, 1, 4, 10], [6, 0, 5, 3, 14], [17, 10, 3, 18, 18], [0, 15, 19, 3, 10], [9, 0, 5, 3, 18], [12, 10, 4, 16, 3], [0, 9, 0, 1, 6], [6, 4, 19, 10, 3], [14, 0, 5, 3, 18], [18, 19, 0, 19, 3], [0, 14, 14, 3, 14], [15, 1, 10, 18, 19], [15, 11, 4, 4, 10], [12, 2, 13, 16, 18], [2, 6, 14, 3, 10], [19, 3, 10, 5, 18], [18, 17, 11, 1, 19], [12, 2, 13, 16, 18], [14, 3, 12, 2, 19], [12, 2, 11, 11, 18], [19, 7, 10, 3, 3], [12, 2, 13, 16, 18], [5, 0, 10, 13, 7], [15, 1, 10, 18, 19], [7, 0, 21, 16, 18], [18, 13, 4, 10, 3], [12, 2, 13, 16, 18], [0, 17, 10, 1, 11], [6, 0, 5, 3, 14], [0, 15, 19, 3, 10], [18, 2, 17, 3, 10], [18, 19, 8, 11, 3], [18, 19, 4, 10, 8], [21, 7, 1, 11, 3], [19, 7, 10, 3, 3], [3, 0, 10, 11, 8], [16, 1, 6, 14, 18], [15, 2, 6, 16, 8], [18, 7, 4, 19, 18], [12, 3, 1, 6, 9], [15, 1, 6, 0, 11], [6, 4, 19, 10, 3], [12, 3, 9, 0, 6], [18, 16, 1, 11, 11], [6, 4, 19, 10, 3], [12, 3, 9, 0, 6], [18, 17, 3, 6, 19], [24, 0, 10, 3, 14], [16, 6, 4, 21, 6], [8, 4, 2, 6, 9], [21, 7, 1, 11, 3], [0, 12, 0, 19, 3], [0, 12, 12, 3, 8], [0, 12, 7, 4, 10], [0, 12, 1, 14, 3], [0, 12, 4, 10, 19], [0, 12, 2, 18, 3], [0, 12, 8, 18, 18], [0, 13, 4, 10, 6], [0, 13, 19, 4, 10], [0, 13, 2, 19, 3], [0, 14, 0, 9, 3], [0, 14, 0, 17, 19], [0, 14, 3, 17, 19], [0, 14, 5, 1, 19], [0, 14, 4, 17, 19], [0, 14, 4, 10, 3], [0, 14, 4, 10, 6], [0, 15, 15, 1, 23], [0, 9, 0, 1, 6], [0, 9, 1, 11, 3], [0, 9, 1, 6, 9], [0, 9, 4, 6, 8], [0, 9, 10, 3, 3], [0, 1, 18, 11, 3], [0, 11, 0, 10, 5], [0, 11, 3, 10, 19], [0, 11, 3, 10, 19], [0, 11, 1, 0, 18], [0, 11, 1, 12, 1], [0, 11, 1, 3, 6], [0, 11, 1, 9, 6], [0, 11, 1, 16, 3], [0, 11, 1, 20, 3], [0, 11, 11, 0, 8], [0, 11, 11, 3, 8], [0, 11, 11, 4, 19], [0, 11, 11, 4, 21], [0, 11, 11, 4, 8], [0, 11, 4, 15, 19], [0, 11, 4, 2, 14], [0, 11, 19, 0, 10], [0, 11, 19, 3, 10], [0, 11, 19, 3, 10], [0, 5, 0, 18, 18], [0, 5, 0, 22, 3], [0, 5, 12, 3, 10], [0, 5, 3, 6, 14], [0, 5, 17, 11, 3], [0, 5, 2, 18, 3], [0, 6, 9, 3, 10], [0, 6, 9, 10, 8], [0, 6, 16, 11, 3], [0, 6, 6, 3, 23], [0, 6, 6, 4, 8], [0, 6, 20, 1, 11], [0, 17, 0, 10, 19], [0, 17, 17, 11, 8], [0, 17, 17, 11, 8], [0, 17, 17, 11, 8], [0, 17, 10, 1, 11], [0, 10, 9, 2, 3], [0, 10, 1, 18, 3], [0, 10, 5, 3, 14], [0, 10, 5, 4, 10], [0, 10, 10, 0, 8], [0, 10, 18, 4, 6], [0, 18, 1, 14, 3], [0, 18, 17, 3, 6], [0, 18, 18, 3, 19], [0, 19, 11, 0, 18], [0, 19, 19, 1, 13], [0, 2, 10, 0, 11], [0, 20, 0, 1, 11], [0, 20, 3, 10, 19], [0, 20, 4, 1, 14], [0, 21, 0, 1, 19], [0, 21, 0, 16, 3], [0, 21, 0, 10, 14], [0, 21, 0, 10, 14], [0, 21, 0, 10, 3], [0, 21, 0, 18, 7], [0, 21, 15, 2, 11], [12, 0, 18, 1, 13], [12, 0, 18, 1, 18], [12, 0, 19, 7, 3], [12, 3, 0, 13, 7], [12, 3, 0, 10, 14], [12, 3, 0, 10, 14], [12, 3, 9, 1, 6], [12, 3, 11, 4, 21], [12, 3, 10, 19, 7], [12, 3, 18, 3, 19], [12, 1, 6, 9, 3], [12, 1, 10, 19, 7], [12, 1, 10, 19, 7], [12, 11, 0, 13, 16], [12, 11, 0, 5, 3], [12, 11, 0, 5, 3], [12, 11, 0, 6, 16], [12, 11, 0, 22, 3], [12, 11, 0, 22, 3], [12, 11, 3, 0, 16], [12, 11, 3, 6, 14], [12, 11, 3, 6, 14], [12, 11, 3, 18, 18], [12, 11, 1, 6, 14], [12, 11, 1, 6, 16], [12, 11, 1, 6, 16], [12, 11, 1, 18, 18], [12, 11, 4, 4, 14], [12, 11, 4, 4, 14], [12, 11, 4, 4, 5], [12, 11, 4, 4, 5], [12, 11, 2, 6, 19], [12, 11, 2, 6, 19], [12, 11, 2, 18, 7], [12, 4, 0, 10, 14], [12, 4, 0, 18, 19], [12, 4, 0, 18, 19], [12, 4, 4, 18, 19], [12, 4, 4, 18, 19], [12, 4, 4, 22, 3], [12, 4, 10, 3, 14], [12, 4, 18, 4, 5], [12, 4, 18, 4, 5], [12, 4, 2, 9, 7], [12, 4, 2, 6, 14], [12, 4, 2, 6, 14], [12, 4, 2, 6, 14], [12, 4, 21, 3, 11], [12, 10, 0, 13, 3], [12, 10, 0, 1, 6], [12, 10, 0, 1, 6], [12, 10, 0, 16, 3], [12, 10, 0, 6, 14], [12, 10, 0, 6, 14], [12, 10, 0, 18, 7], [12, 10, 0, 18, 18], [12, 10, 0, 20, 3], [12, 10, 0, 20, 3], [12, 10, 0, 20, 3], [12, 10, 0, 21, 6], [12, 10, 3, 0, 14], [12, 10, 3, 0, 16], [12, 10, 3, 3, 14], [12, 10, 3, 3, 14], [12, 10, 1, 12, 3], [12, 10, 1, 12, 3], [12, 10, 1, 13, 16], [12, 10, 1, 13, 16], [12, 10, 1, 14, 3], [12, 10, 1, 3, 15], [12, 10, 1, 3, 15], [12, 10, 1, 3, 15], [12, 10, 1, 6, 9], [12, 10, 1, 18, 16], [12, 10, 1, 18, 16], [12, 10, 4, 0, 14], [12, 10, 4, 0, 14], [12, 10, 4, 4, 16], [12, 10, 4, 4, 16], [12, 10, 2, 6, 19], [12, 10, 2, 18, 7], [12, 10, 2, 19, 3], [12, 10, 2, 19, 3], [12, 2, 1, 11, 14], [12, 2, 1, 11, 14], [12, 2, 11, 11, 8], [12, 2, 11, 11, 8], [12, 2, 6, 13, 7], [12, 2, 6, 13, 7], [12, 2, 10, 18, 19], [12, 2, 10, 18, 19], [13, 0, 12, 1, 6], [13, 0, 5, 3, 11], [13, 0, 6, 0, 11], [13, 0, 10, 10, 8], [13, 0, 19, 13, 7], [13, 0, 2, 18, 3], [13, 0, 2, 18, 3], [13, 3, 0, 18, 3], [13, 7, 0, 1, 10], [13, 7, 0, 6, 19], [13, 7, 0, 4, 18], [13, 7, 0, 10, 5], [13, 7, 0, 10, 19], [13, 7, 0, 18, 3], [13, 7, 0, 18, 5], [13, 7, 3, 0, 17], [13, 7, 3, 0, 19], [13, 7, 3, 3, 16], [13, 7, 3, 3, 10], [13, 7, 3, 18, 19], [13, 7, 1, 3, 15], [13, 7, 1, 3, 15], [13, 7, 1, 11, 14], [13, 7, 1, 11, 11], [13, 7, 4, 16, 3], [13, 7, 4, 10, 3], [13, 1, 20, 1, 13], [13, 1, 20, 1, 11], [13, 11, 0, 1, 5], [13, 11, 0, 18, 7], [13, 11, 0, 18, 18], [13, 11, 0, 18, 18], [13, 11, 3, 0, 6], [13, 11, 3, 0, 10], [13, 11, 3, 0, 10], [13, 11, 3, 10, 16], [13, 11, 1, 13, 16], [13, 11, 1, 15, 15], [13, 11, 1, 5, 12], [13, 11, 1, 6, 9], [13, 11, 4, 0, 16], [13, 11, 4, 18, 3], [13, 11, 4, 18, 3], [13, 11, 4, 19, 7], [13, 11, 4, 2, 14], [13, 4, 0, 13, 7], [13, 4, 0, 18, 19], [13, 4, 0, 18, 19], [13, 4, 11, 4, 10], [13, 4, 5, 3, 19], [13, 4, 2, 9, 7], [13, 4, 2, 6, 19], [13, 4, 2, 10, 19], [13, 10, 0, 13, 16], [13, 10, 0, 13, 16], [13, 10, 0, 15, 19], [13, 10, 0, 18, 7], [13, 10, 0, 18, 7], [13, 10, 0, 21, 11], [13, 10, 0, 22, 3], [13, 10, 0, 22, 8], [13, 10, 3, 3, 14], [13, 10, 3, 3, 16], [13, 10, 3, 3, 17], [13, 10, 3, 18, 19], [13, 10, 1, 5, 3], [13, 10, 1, 18, 17], [13, 10, 4, 13, 16], [13, 10, 4, 6, 3], [13, 10, 4, 6, 8], [13, 10, 4, 18, 18], [13, 10, 4, 21, 14], [13, 10, 4, 21, 6], [13, 10, 2, 14, 3], [13, 10, 2, 3, 11], [13, 10, 2, 5, 12], [13, 10, 2, 18, 7], [13, 1, 20, 1, 11], [13, 11, 0, 1, 5], [13, 11, 0, 18, 7], [13, 11, 0, 18, 18], [13, 11, 0, 18, 18], [13, 11, 3, 0, 6], [13, 11, 3, 0, 10], [13, 11, 3, 0, 10], [13, 11, 3, 10, 16], [13, 11, 1, 13, 16], [13, 11, 1, 15, 15], [13, 11, 1, 5, 12], [13, 11, 1, 6, 9], [13, 11, 4, 0, 16], [13, 11, 4, 18, 3], [13, 11, 4, 18, 3], [13, 11, 4, 19, 7], [13, 11, 4, 2, 14], [13, 4, 0, 13, 7], [13, 4, 0, 18, 19], [13, 4, 0, 18, 19], [13, 4, 11, 4, 10], [13, 4, 5, 3, 19], [13, 4, 2, 9, 7], [13, 4, 2, 6, 19], [13, 4, 2, 10, 19], [13, 10, 0, 13, 16], [13, 10, 0, 13, 16], [13, 10, 0, 15, 19], [13, 10, 0, 18, 7], [13, 10, 0, 18, 7], [13, 10, 0, 21, 11], [13, 10, 0, 22, 3], [13, 10, 0, 22, 8], [13, 10, 3, 3, 14], [13, 10, 3, 3, 16], [13, 10, 3, 3, 17], [13, 10, 3, 18, 19], [13, 10, 1, 5, 3], [13, 10, 1, 18, 17], [13, 10, 4, 13, 16], [13, 10, 4, 6, 3], [13, 10, 4, 6, 8], [13, 10, 4, 18, 18], [13, 10, 4, 21, 14], [13, 10, 4, 21, 6], [13, 10, 2, 14, 3], [13, 10, 2, 3, 11], [13, 10, 2, 5, 12], [13, 10, 2, 18, 7], [13, 1, 20, 1, 11], [13, 11, 0, 1, 5], [13, 11, 0, 18, 7], [13, 11, 0, 18, 18], [13, 11, 0, 18, 18], [13, 11, 3, 0, 6], [13, 11, 3, 0, 10], [13, 11, 3, 0, 10], [13, 11, 3, 10, 16], [13, 11, 1, 13, 16], [13, 11, 1, 15, 15], [13, 11, 1, 5, 12], [13, 11, 1, 6, 9], [13, 11, 4, 0, 16], [13, 11, 4, 18, 3], [13, 11, 4, 18, 3], [13, 11, 4, 19, 7], [13, 11, 4, 2, 14], [13, 4, 0, 13, 7], [13, 4, 0, 18, 19], [13, 4, 0, 18, 19], [13, 4, 11, 4, 10], [13, 4, 5, 3, 19], [13, 4, 2, 9, 7], [13, 4, 2, 6, 19], [13, 4, 2, 10, 19], [13, 10, 0, 13, 16], [13, 10, 0, 13, 16], [13, 10, 0, 15, 19], [13, 10, 0, 18, 7], [13, 10, 0, 18, 7], [13, 10, 0, 21, 11], [13, 10, 0, 22, 3], [13, 10, 0, 22, 8], [13, 10, 3, 3, 14], [13, 10, 3, 3, 16], [13, 10, 3, 3, 17], [13, 10, 3, 18, 19], [13, 10, 1, 5, 3], [13, 10, 1, 18, 17], [13, 10, 4, 13, 16], [13, 10, 4, 6, 3], [13, 10, 4, 6, 8], [13, 10, 4, 18, 18], [13, 10, 4, 21, 14], [13, 10, 4, 21, 6], [13, 10, 2, 14, 3], [13, 10, 2, 3, 11], [13, 10, 2, 5, 12], [13, 10, 2, 18, 7], [13, 10, 2, 18, 19], [13, 2, 12, 1, 13], [13, 2, 10, 1, 4], [13, 2, 10, 11, 8], [13, 2, 10, 18, 3], [13, 2, 10, 18, 3], [13, 8, 13, 11, 3], [14, 0, 1, 11, 8], [14, 0, 1, 10, 8], [14, 0, 2, 6, 19], [14, 3, 0, 19, 7], [14, 3, 12, 1, 19], [14, 3, 13, 0, 8], [14, 3, 13, 0, 8], [14, 3, 13, 4, 8], [14, 3, 15, 3, 10], [14, 3, 1, 19, 8], [14, 3, 11, 0, 8], [14, 3, 11, 0, 8], [14, 3, 11, 20, 3], [14, 3, 6, 18, 3], [14, 3, 17, 4, 19], [14, 3, 17, 19, 7], [14, 3, 19, 4, 23], [14, 3, 20, 1, 11], [14, 1, 9, 1, 19], [14, 1, 10, 19, 8], [14, 1, 19, 13, 7], [14, 1, 22, 22, 8], [14, 4, 1, 6, 9], [14, 4, 2, 12, 19], [14, 4, 2, 12, 19], [14, 4, 22, 3, 6], [14, 4, 22, 3, 6], [14, 10, 0, 15, 19], [14, 10, 0, 1, 6], [14, 10, 0, 1, 6], [14, 10, 3, 0, 14], [14, 10, 3, 0, 5], [14, 10, 1, 15, 19], [14, 10, 1, 15, 19], [14, 10, 1, 11, 11], [14, 10, 1, 11, 11], [14, 10, 1, 6, 16], [14, 10, 1, 20, 3], [14, 10, 1, 20, 3], [14, 10, 4, 4, 17], [14, 10, 4, 4, 17], [14, 10, 4, 21, 6], [14, 10, 2, 6, 16], [14, 2, 5, 5, 8], [14, 21, 3, 11, 11], [3, 0, 9, 3, 10], [3, 0, 10, 11, 8], [3, 0, 10, 11, 8], [3, 0, 10, 19, 7], [3, 14, 1, 13, 19], [3, 11, 14, 3, 10], [3, 11, 14, 3, 10], [3, 11, 3, 13, 19], [3, 11, 3, 13, 19], [3, 11, 1, 19, 3], [3, 11, 2, 14, 3], [3, 5, 17, 19, 8], [3, 5, 17, 19, 8], [3, 6, 0, 13, 19], [3, 6, 14, 4, 21], [3, 6, 3, 5, 8], [3, 6, 24, 4, 8], [3, 6, 19, 3, 10], [3, 17, 4, 13, 7], [3, 25, 2, 0, 11], [3, 25, 2, 1, 17], [3, 10, 0, 18, 3], [3, 10, 3, 13, 19], [3, 10, 3, 13, 19], [3, 10, 4, 14, 3], [3, 10, 10, 4, 10], [3, 10, 2, 17, 19], [3, 19, 7, 1, 13], [3, 19, 7, 4, 18], [3, 20, 3, 6, 19], [3, 20, 3, 10, 8], [3, 20, 4, 16, 3], [3, 23, 0, 13, 19], [3, 23, 0, 13, 19], [3, 23, 0, 11, 19], [3, 23, 13, 3, 11], [3, 23, 3, 10, 19], [3, 23, 1, 11, 3], [3, 23, 1, 11, 3], [3, 23, 1, 18, 19], [3, 23, 17, 3, 11], [3, 23, 19, 10, 0], [3, 23, 19, 10, 0], [3, 23, 19, 10, 0], [15, 0, 1, 6, 19], [15, 0, 1, 6, 19], [15, 0, 1, 6, 19], [15, 0, 1, 19, 7], [15, 0, 11, 18, 3], [15, 0, 5, 3, 14], [15, 0, 19, 0, 11], [15, 0, 19, 19, 8], [15, 0, 2, 11, 19], [15, 0, 2, 11, 19], [15, 0, 20, 4, 10], [15, 0, 20, 4, 10], [15, 3, 0, 18, 19], [15, 3, 0, 18, 19], [15, 3, 19, 13, 7], [15, 3, 20, 3, 10], [15, 1, 12, 3, 10], [15, 1, 3, 6, 14], [15, 1, 9, 7, 19], [15, 1, 11, 19, 7], [15, 1, 6, 0, 11], [15, 1, 6, 0, 11], [15, 1, 10, 18, 19], [15, 1, 23, 3, 14], [15, 11, 0, 5, 3], [15, 11, 0, 5, 3], [15, 11, 0, 10, 3], [15, 11, 0, 10, 3], [15, 11, 3, 18, 7], [15, 11, 1, 13, 16], [15, 11, 1, 13, 16], [15, 11, 1, 6, 9], [15, 11, 1, 6, 9], [15, 11, 1, 10, 19], [15, 11, 1, 10, 19], [15, 11, 4, 0, 19], [15, 11, 4, 0, 19], [15, 11, 4, 13, 16], [15, 11, 4, 13, 16], [15, 11, 4, 4, 14], [15, 11, 4, 4, 14], [15, 11, 4, 10, 0], [15, 11, 4, 2, 10], [15, 11, 2, 1, 14], [15, 11, 2, 1, 14], [15, 11, 2, 16, 3], [15, 11, 2, 16, 3], [15, 11, 2, 16, 3], [15, 11, 2, 6, 16], [15, 11, 2, 6, 16], [15, 11, 2, 18, 7], [15, 11, 2, 18, 7], [15, 4, 13, 2, 18], [15, 4, 13, 2, 18], [7, 4, 20, 3, 10], [7, 2, 5, 0, 6], [7, 2, 5, 0, 6], [7, 2, 5, 1, 14], [7, 2, 6, 13, 7], [7, 2, 6, 13, 7], [7, 2, 10, 10, 8], [7, 2, 10, 10, 8], [1, 14, 3, 0, 11], [1, 14, 3, 0, 11], [1, 14, 1, 4, 19], [1, 5, 17, 11, 8], [1, 6, 13, 2, 10], [1, 6, 14, 3, 23], [1, 6, 14, 3, 23], [1, 6, 3, 10, 19], [1, 6, 15, 3, 10], [1, 6, 11, 3, 19], [1, 6, 11, 3, 19], [1, 6, 6, 3, 10], [1, 6, 6, 3, 10], [1, 10, 4, 6, 8], [1, 18, 18, 2, 3], [1, 18, 18, 2, 3], [1, 20, 4, 10, 8], [24, 3, 21, 3, 11], [24, 4, 1, 6, 19], [24, 4, 1, 6, 19], [24, 4, 1, 6, 19], [24, 4, 11, 11, 8], [24, 4, 11, 11, 8], [24, 4, 11, 11, 8], [24, 4, 11, 11, 8], [24, 2, 14, 9, 3], [24, 2, 14, 9, 3], [16, 6, 3, 3, 11], [11, 0, 12, 4, 10], [11, 0, 12, 4, 10], [11, 0, 6, 13, 3], [11, 0, 17, 18, 3], [11, 0, 17, 18, 3], [11, 0, 10, 9, 3], [11, 0, 10, 9, 3], [11, 0, 10, 20, 0], [11, 0, 19, 3, 10], [11, 0, 2, 9, 7], [11, 0, 2, 9, 7], [11, 0, 8, 3, 10], [11, 0, 8, 3, 10], [11, 3, 0, 10, 6], [15, 4, 11, 11, 8], [15, 4, 10, 0, 8], [15, 4, 10, 0, 8], [15, 4, 10, 13, 3], [15, 4, 10, 13, 3], [15, 4, 2, 6, 14], [15, 10, 0, 1, 11], [15, 10, 0, 5, 3], [15, 10, 0, 5, 3], [15, 10, 0, 6, 16], [15, 10, 3, 18, 7], [15, 10, 3, 18, 7], [15, 10, 4, 6, 19], [15, 10, 4, 6, 19], [15, 10, 4, 6, 19], [15, 10, 4, 6, 19], [15, 10, 4, 21, 6], [15, 10, 4, 21, 6], [15, 2, 6, 6, 8], [15, 2, 6, 6, 8], [15, 2, 18, 18, 8], [15, 2, 22, 22, 8], [9, 0, 5, 2, 19], [9, 0, 2, 9, 3], [9, 0, 2, 9, 3], [9, 11, 0, 10, 3], [9, 11, 0, 10, 3], [9, 11, 3, 0, 5], [9, 11, 3, 0, 5], [9, 11, 4, 12, 3], [9, 11, 4, 12, 3], [9, 11, 4, 10, 8], [9, 11, 4, 10, 8], [9, 4, 4, 14, 18], [9, 4, 4, 14, 8], [9, 4, 4, 18, 3], [9, 4, 2, 10, 14], [9, 10, 0, 13, 3], [9, 10, 0, 13, 3], [9, 10, 0, 14, 3], [9, 10, 0, 14, 3], [9, 10, 0, 15, 19], [9, 10, 0, 15, 19], [9, 10, 0, 15, 19], [9, 10, 0, 1, 6], [9, 10, 0, 1, 6], [9, 10, 0, 6, 19], [9, 10, 0, 6, 19], [9, 10, 0, 18, 17], [9, 10, 0, 18, 17], [9, 10, 0, 18, 18], [9, 10, 0, 20, 3], [9, 10, 0, 20, 3], [9, 10, 0, 20, 3], [9, 10, 3, 0, 19], [9, 10, 3, 3, 14], [9, 10, 3, 3, 19], [9, 10, 1, 3, 15], [9, 10, 1, 6, 14], [9, 10, 1, 17, 3], [9, 10, 1, 17, 3], [9, 10, 4, 0, 6], [9, 10, 4, 0, 6], [9, 10, 4, 17, 3], [9, 10, 4, 18, 18], [9, 10, 4, 18, 18], [9, 10, 4, 20, 3], [9, 10, 4, 21, 11], [9, 10, 4, 21, 11], [9, 10, 4, 21, 6], [9, 2, 3, 18, 18], [9, 2, 3, 18, 18], [9, 2, 1, 11, 19], [9, 2, 18, 19, 4], [7, 0, 12, 1, 19], [7, 0, 17, 17, 8], [7, 0, 10, 18, 7], [7, 0, 18, 19, 3], [7, 0, 18, 19, 8], [7, 0, 19, 13, 7], [7, 0, 19, 13, 7], [7, 0, 19, 13, 7], [7, 0, 2, 6, 19], [7, 0, 2, 6, 19], [7, 3, 0, 20, 3], [7, 3, 0, 20, 3], [7, 3, 0, 20, 8], [7, 3, 6, 13, 3], [7, 1, 6, 9, 3], [7, 1, 6, 9, 3], [7, 4, 0, 10, 14], [7, 4, 0, 10, 14], [7, 4, 1, 18, 19], [7, 4, 1, 18, 19], [7, 4, 6, 4, 10], [7, 4, 6, 4, 10], [7, 4, 10, 18, 3], [7, 4, 19, 11, 8], [7, 4, 2, 18, 3], [7, 4, 20, 3, 10], [11, 3, 0, 18, 19], [11, 3, 0, 20, 3], [11, 3, 3, 13, 7], [11, 3, 15, 19, 8], [11, 3, 9, 0, 11], [11, 3, 9, 0, 11], [11, 3, 20, 3, 11], [11, 3, 20, 3, 11], [11, 3, 20, 3, 10], [11, 1, 9, 7, 19], [11, 1, 9, 7, 19], [11, 1, 9, 7, 19], [11, 1, 9, 7, 19], [11, 1, 9, 7, 19], [11, 1, 6, 3, 6], [11, 1, 20, 3, 10], [11, 4, 13, 0, 11], [11, 4, 13, 0, 11], [11, 4, 15, 19, 8], [11, 4, 9, 1, 13], [11, 4, 4, 18, 3], [11, 4, 4, 18, 3], [11, 4, 4, 18, 3], [11, 4, 2, 18, 8], [11, 4, 21, 3, 10], [11, 4, 21, 3, 10], [11, 4, 8, 0, 11], [11, 4, 8, 0, 11], [11, 2, 6, 0, 10], [11, 2, 6, 13, 7], [11, 8, 10, 1, 13], [5, 0, 24, 4, 10], [5, 0, 24, 4, 10], [5, 0, 17, 11, 3], [5, 0, 10, 10, 8], [5, 0, 19, 13, 7], [5, 0, 23, 1, 5], [5, 0, 8, 12, 3], [5, 0, 8, 4, 10], [5, 3, 0, 6, 18], [5, 3, 0, 6, 18], [5, 3, 10, 13, 8], [5, 3, 10, 9, 3], [5, 3, 10, 10, 8], [5, 1, 5, 1, 13], [5, 1, 5, 1, 13], [5, 1, 6, 4, 10], [5, 4, 1, 18, 19], [5, 4, 6, 3, 8], [5, 4, 6, 19, 7], [5, 4, 2, 6, 19], [5, 4, 2, 19, 7], [5, 2, 14, 14, 8], [5, 2, 5, 5, 8], [5, 2, 18, 1, 13], [6, 0, 16, 3, 14], [6, 0, 18, 19, 8], [6, 3, 10, 20, 3], [6, 3, 20, 3, 10], [6, 1, 3, 13, 3], [6, 1, 9, 7, 19], [6, 4, 12, 11, 3], [6, 4, 12, 11, 3], [6, 4, 1, 18, 3], [6, 4, 20, 3, 11], [6, 4, 20, 3, 11], [6, 2, 14, 9, 3], [4, 13, 13, 2, 10], [4, 13, 3, 0, 6], [4, 15, 15, 3, 10], [4, 15, 19, 3, 6], [4, 17, 1, 2, 5], [4, 10, 12, 1, 19], [4, 10, 14, 3, 10], [4, 10, 14, 3, 10], [4, 10, 9, 0, 6], [4, 10, 9, 0, 6], [4, 19, 7, 3, 10], [4, 2, 19, 3, 10], [4, 20, 3, 10, 19], [4, 23, 1, 14, 3], [17, 0, 19, 13, 7], [17, 3, 0, 13, 3], [17, 3, 10, 1, 11], [17, 3, 19, 0, 11], [17, 3, 19, 19, 8], [17, 7, 0, 18, 3], [17, 1, 3, 13, 3], [17, 1, 3, 19, 8], [17, 1, 11, 4, 19], [17, 1, 6, 13, 7], [17, 1, 4, 2, 18], [17, 1, 25, 2, 3], [17, 11, 0, 13, 3], [17, 11, 0, 13, 3], [17, 11, 0, 1, 6], [17, 11, 0, 6, 3], [17, 11, 0, 6, 3], [17, 11, 0, 6, 3], [17, 11, 0, 6, 19], [17, 11, 0, 19, 3], [17, 11, 3, 0, 14], [17, 11, 2, 13, 16], [17, 11, 2, 13, 16], [17, 11, 2, 5, 12], [17, 11, 2, 5, 12], [17, 11, 2, 5, 17], [17, 4, 1, 6, 19], [17, 4, 2, 6, 14], [17, 4, 21, 3, 10], [17, 10, 0, 21, 6], [17, 10, 3, 18, 18], [17, 10, 1, 13, 16], [17, 10, 1, 13, 16], [17, 10, 1, 5, 3], [17, 10, 1, 4, 10], [17, 10, 1, 22, 3], [17, 10, 4, 12, 3], [17, 10, 4, 12, 3], [17, 10, 4, 6, 3], [17, 10, 4, 4, 15], [17, 10, 4, 18, 3], [17, 10, 4, 2, 14], [17, 10, 4, 20, 3], [17, 2, 11, 18, 3], [17, 2, 17, 1, 11], [17, 2, 17, 17, 8], [25, 2, 0, 1, 11], [25, 2, 0, 16, 3], [25, 2, 3, 3, 10], [25, 2, 3, 11, 11], [25, 2, 3, 18, 19], [25, 2, 1, 13, 16], [25, 2, 1, 3, 19], [25, 2, 1, 19, 3], [25, 2, 4, 19, 0], [25, 2, 4, 19, 3], [10, 0, 1, 6, 8], [10, 0, 1, 18, 3], [10, 0, 6, 9, 3], [10, 0, 6, 9, 3], [10, 0, 17, 1, 14], [10, 0, 19, 1, 4], [10, 3, 0, 13, 7], [10, 3, 0, 13, 7], [10, 3, 0, 13, 19], [10, 3, 0, 14, 8], [10, 3, 0, 11, 5], [10, 3, 12, 3, 11], [10, 3, 12, 3, 11], [10, 3, 13, 2, 10], [10, 3, 15, 3, 10], [10, 3, 1, 9, 6], [10, 3, 11, 0, 23], [10, 3, 11, 0, 8], [10, 3, 11, 0, 8], [10, 3, 11, 1, 13], [10, 3, 5, 1, 19], [10, 3, 6, 3, 21], [10, 3, 17, 3, 11], [10, 3, 17, 11, 8], [10, 7, 8, 5, 3], [10, 1, 9, 7, 19], [10, 1, 9, 1, 14], [10, 1, 9, 4, 10], [10, 1, 18, 16, 8], [10, 1, 20, 0, 11], [10, 1, 20, 3, 10], [10, 4, 2, 9, 7], [10, 4, 2, 6, 14], [10, 4, 2, 18, 3], [10, 4, 8, 0, 11], [10, 2, 11, 3, 10], [10, 2, 5, 4, 10], [10, 2, 10, 0, 11], [10, 2, 18, 19, 8], [18, 0, 14, 11, 8], [18, 0, 1, 6, 19], [18, 13, 0, 11, 3], [18, 13, 0, 10, 3], [18, 13, 0, 10, 8], [18, 13, 3, 6, 3], [18, 13, 3, 6, 19], [18, 13, 3, 6, 19], [18, 13, 4, 17, 3], [18, 13, 4, 10, 3], [18, 13, 4, 10, 3], [18, 13, 4, 10, 6], [18, 13, 4, 10, 6], [18, 13, 10, 3, 21], [18, 13, 10, 2, 12], [18, 3, 1, 22, 3], [18, 3, 6, 18, 3], [18, 3, 10, 20, 3], [18, 3, 20, 3, 10], [18, 3, 21, 3, 10], [18, 7, 0, 14, 3], [18, 7, 0, 14, 3], [18, 7, 0, 15, 19], [18, 7, 0, 16, 3], [18, 7, 0, 5, 3], [18, 7, 0, 17, 3], [18, 7, 0, 17, 3], [18, 7, 0, 10, 3], [18, 7, 0, 10, 16], [18, 7, 0, 10, 17], [18, 7, 3, 0, 10], [18, 7, 3, 3, 10], [18, 7, 3, 3, 10], [18, 7, 3, 11, 15], [18, 7, 3, 11, 11], [18, 7, 1, 15, 19], [18, 7, 1, 6, 3], [18, 7, 1, 6, 8], [18, 7, 4, 10, 3], [18, 7, 4, 10, 19], [18, 7, 4, 2, 19], [18, 7, 4, 20, 3], [18, 1, 9, 7, 19], [18, 1, 11, 11, 8], [18, 1, 11, 11, 8], [18, 16, 1, 11, 11], [18, 11, 0, 13, 16], [18, 11, 0, 13, 16], [18, 11, 0, 6, 19], [18, 11, 0, 20, 3], [18, 11, 3, 3, 17], [18, 11, 1, 14, 3], [18, 5, 0, 13, 16], [18, 5, 0, 11, 11], [18, 5, 0, 10, 19], [18, 5, 0, 10, 19], [18, 5, 0, 10, 19], [18, 5, 3, 0, 10], [18, 5, 3, 11, 11], [18, 5, 3, 11, 11], [18, 5, 1, 11, 3], [18, 6, 0, 10, 3], [18, 6, 3, 0, 16], [18, 6, 3, 3, 10], [18, 4, 12, 3, 10], [18, 4, 11, 0, 10], [18, 4, 11, 1, 14], [18, 4, 11, 20, 3], [18, 4, 10, 10, 8], [18, 4, 2, 6, 14], [18, 4, 2, 6, 14], [18, 4, 2, 6, 14], [18, 17, 0, 13, 3], [18, 17, 0, 10, 3], [18, 17, 0, 10, 3], [18, 17, 3, 0, 16], [18, 17, 3, 13, 16], [18, 17, 3, 11, 11], [18, 17, 3, 11, 11], [18, 17, 3, 11, 11], [18, 17, 3, 6, 14], [18, 17, 1, 13, 3], [18, 17, 1, 11, 11], [18, 17, 1, 6, 3], [18, 17, 1, 19, 3], [18, 17, 11, 1, 19], [18, 17, 4, 1, 11], [18, 17, 4, 4, 16], [18, 17, 4, 10, 19], [18, 17, 2, 10, 19], [18, 19, 0, 1, 6], [18, 19, 0, 1, 10], [18, 19, 0, 16, 3], [18, 19, 0, 11, 3], [18, 19, 0, 6, 14], [18, 19, 0, 10, 3], [18, 19, 0, 10, 19], [18, 19, 0, 10, 19], [18, 19, 0, 19, 3], [18, 19, 0, 19, 3], [18, 19, 3, 0, 11], [18, 19, 3, 0, 5], [18, 19, 3, 3, 11], [18, 19, 3, 3, 17], [18, 19, 3, 3, 10], [18, 19, 3, 10, 6], [18, 19, 1, 13, 16], [18, 19, 1, 13, 16], [18, 19, 1, 15, 15], [18, 19, 1, 11, 11], [18, 19, 1, 11, 11], [18, 19, 1, 6, 9], [18, 19, 1, 6, 9], [18, 19, 1, 6, 16], [18, 19, 4, 13, 16], [18, 19, 4, 13, 16], [18, 19, 4, 4, 17], [18, 19, 4, 10, 3], [18, 19, 4, 10, 3], [18, 19, 4, 10, 5], [18, 19, 4, 2, 19], [18, 19, 10, 0, 21], [18, 19, 10, 1, 17], [18, 19, 10, 1, 17], [18, 19, 2, 15, 15], [18, 19, 2, 5, 17], [18, 19, 2, 5, 17], [18, 2, 0, 20, 3], [18, 2, 1, 19, 3], [18, 2, 6, 6, 8], [18, 21, 0, 10, 5], [18, 21, 3, 0, 10], [18, 21, 3, 0, 19], [18, 21, 3, 3, 17], [18, 21, 3, 11, 11], [18, 21, 1, 15, 19], [18, 21, 1, 6, 9], [18, 21, 1, 10, 11], [18, 21, 1, 18, 7], [19, 0, 12, 11, 3], [19, 0, 13, 1, 19], [19, 0, 13, 16, 8], [19, 0, 18, 19, 3], [19, 0, 18, 19, 8], [19, 0, 2, 6, 19], [19, 3, 0, 18, 3], [19, 3, 5, 17, 19], [19, 3, 6, 18, 3], [19, 3, 10, 5, 18], [19, 7, 0, 6, 16], [19, 7, 1, 13, 16], [19, 7, 1, 3, 15], [19, 7, 1, 6, 9], [19, 7, 1, 6, 16], [19, 7, 1, 10, 14], [19, 7, 10, 4, 12], [19, 7, 10, 4, 21], [19, 7, 2, 5, 12], [19, 1, 9, 7, 19], [19, 1, 5, 1, 14], [19, 1, 10, 3, 14], [19, 4, 16, 3, 6], [19, 4, 16, 3, 6], [19, 4, 4, 19, 7], [19, 4, 19, 0, 11], [19, 4, 19, 0, 11], [19, 4, 2, 9, 7], [19, 4, 23, 1, 13], [19, 10, 0, 13, 3], [19, 10, 0, 13, 3], [19, 10, 0, 13, 16], [19, 10, 0, 14, 3], [19, 10, 0, 14, 3], [19, 10, 0, 1, 6], [19, 10, 0, 1, 6], [19, 10, 0, 1, 19], [19, 10, 0, 5, 17], [19, 10, 0, 5, 17], [19, 10, 0, 18, 7], [19, 10, 3, 0, 14], [19, 10, 3, 0, 19], [19, 10, 3, 6, 14], [19, 10, 1, 0, 11], [19, 10, 1, 12, 3], [19, 10, 4, 4, 17], [19, 10, 2, 11, 8], [19, 10, 2, 6, 16], [19, 10, 2, 18, 19], [19, 10, 2, 19, 7], [19, 21, 1, 13, 3], [19, 21, 1, 18, 19], [2, 11, 13, 3, 10], [2, 6, 13, 11, 3], [2, 6, 1, 15, 8], [2, 6, 1, 4, 6], [2, 6, 1, 19, 3], [2, 6, 1, 19, 8], [2, 17, 17, 3, 10], [2, 17, 18, 3, 19], [2, 17, 18, 3, 19], [2, 10, 12, 0, 6], [2, 18, 0, 9, 3], [2, 18, 7, 3, 10], [2, 18, 7, 3, 10], [2, 18, 2, 0, 11], [2, 19, 19, 3, 10], [2, 19, 19, 3, 10], [20, 0, 9, 2, 3], [20, 0, 11, 1, 14], [20, 0, 11, 2, 3], [20, 0, 17, 4, 10], [20, 3, 10, 9, 3], [20, 3, 10, 18, 3], [20, 1, 9, 4, 10], [20, 1, 10, 2, 18], [20, 1, 18, 1, 19], [20, 1, 18, 19, 0], [20, 1, 19, 0, 11], [20, 1, 20, 1, 14], [20, 4, 9, 2, 3], [20, 4, 1, 13, 3], [20, 4, 2, 13, 7], [21, 0, 9, 3, 18], [21, 0, 18, 19, 3], [21, 0, 19, 13, 7], [21, 0, 19, 3, 10], [21, 3, 0, 10, 8], [21, 3, 0, 20, 3], [21, 3, 14, 9, 3], [21, 3, 14, 9, 3], [21, 3, 1, 9, 7], [21, 3, 1, 10, 14], [21, 7, 3, 3, 11], [21, 7, 4, 11, 3], [21, 7, 4, 10, 3], [21, 1, 14, 3, 6], [21, 1, 14, 19, 7], [21, 1, 19, 13, 7], [21, 1, 19, 19, 8], [21, 4, 10, 11, 14], [21, 4, 10, 10, 8], [21, 4, 10, 18, 3], [21, 4, 10, 18, 19], [21, 4, 10, 19, 7], [21, 4, 2, 6, 14], [21, 4, 2, 6, 14], [21, 10, 0, 19, 7], [21, 10, 3, 13, 16], [21, 10, 1, 6, 9], [21, 10, 1, 19, 3], [21, 10, 4, 6, 9], [8, 3, 0, 10, 6], [8, 1, 3, 11, 14], [8, 1, 3, 11, 14], [8, 1, 3, 11, 14], [8, 4, 2, 6, 9], [8, 4, 2, 19, 7]]\n"
          ]
        }
      ]
    },
    {
      "cell_type": "markdown",
      "metadata": {
        "id": "R8FrppwtPryp"
      },
      "source": [
        "訓練データの生成（上で作った２つを繋げるだけ）"
      ]
    },
    {
      "cell_type": "code",
      "metadata": {
        "id": "QtAJ1L8863Ek"
      },
      "source": [
        "x_train_list=lists+beta\n",
        "y_train_list=[]\n",
        "for i in range(len(lists)):\n",
        "  y_train_list.append(0)\n",
        "for i in range(len(beta)):\n",
        "  y_train_list.append(1)"
      ],
      "execution_count": 72,
      "outputs": []
    },
    {
      "cell_type": "markdown",
      "metadata": {
        "id": "mWC4iY4FPtW7"
      },
      "source": [
        "訓練データのリストをnumpyに変換。正解ラベルを生成"
      ]
    },
    {
      "cell_type": "code",
      "metadata": {
        "colab": {
          "base_uri": "https://localhost:8080/"
        },
        "id": "-lBGCnS7Hq6S",
        "outputId": "b388dbce-8324-4df7-8a0f-5d37a0ec0392"
      },
      "source": [
        "import numpy as np\n",
        "x_train=np.array(x_train_list)\n",
        "y_train=np.array(y_train_list)\n",
        "print(x_train,y_train)"
      ],
      "execution_count": 73,
      "outputs": [
        {
          "output_type": "stream",
          "name": "stdout",
          "text": [
            "[[19 14 23 22  4]\n",
            " [ 4 20 10 16  7]\n",
            " [13  8 13 11 12]\n",
            " ...\n",
            " [ 8  1  3 11 14]\n",
            " [ 8  4  2  6  9]\n",
            " [ 8  4  2 19  7]] [0 0 0 ... 1 1 1]\n"
          ]
        }
      ]
    },
    {
      "cell_type": "markdown",
      "metadata": {
        "id": "MXdrbTQ7P1S3"
      },
      "source": [
        "ディープラーニングモデルを作る"
      ]
    },
    {
      "cell_type": "code",
      "metadata": {
        "colab": {
          "base_uri": "https://localhost:8080/"
        },
        "id": "cXqsjsKAHTzi",
        "outputId": "617dee4a-d659-45d3-f73f-7852edba9704"
      },
      "source": [
        "import tensorflow as tf\n",
        "from tensorflow.keras.models import Sequential\n",
        "model_1 = tf.keras.Sequential(name='my_model')\n",
        "model_1.add(tf.keras.layers.Flatten(input_shape=(5,), name='flatten_layer_1'))\n",
        "model_1.add(tf.keras.layers.Dense(128, activation='relu'))\n",
        "model_1.add(tf.keras.layers.Dropout(0.2))\n",
        "model_1.add(tf.keras.layers.Dense(128, activation='relu'))\n",
        "model_1.add(tf.keras.layers.Dropout(0.2))\n",
        "model_1.add(tf.keras.layers.Dense(128, activation='relu'))\n",
        "model_1.add(tf.keras.layers.Dropout(0.2))\n",
        "model_1.add(tf.keras.layers.Dense(128, activation='relu'))\n",
        "model_1.add(tf.keras.layers.Dropout(0.2))\n",
        "model_1.add(tf.keras.layers.Dense(128, activation='relu'))\n",
        "model_1.add(tf.keras.layers.Dropout(0.2))\n",
        "model_1.add(tf.keras.layers.Dense(128, activation='relu'))\n",
        "model_1.add(tf.keras.layers.Dropout(0.2))\n",
        "model_1.add(tf.keras.layers.Dense(2, activation='softmax'))\n",
        "\n",
        "model_1.summary()"
      ],
      "execution_count": 84,
      "outputs": [
        {
          "output_type": "stream",
          "name": "stdout",
          "text": [
            "Model: \"my_model\"\n",
            "_________________________________________________________________\n",
            "Layer (type)                 Output Shape              Param #   \n",
            "=================================================================\n",
            "flatten_layer_1 (Flatten)    (None, 5)                 0         \n",
            "_________________________________________________________________\n",
            "dense_18 (Dense)             (None, 128)               768       \n",
            "_________________________________________________________________\n",
            "dropout_11 (Dropout)         (None, 128)               0         \n",
            "_________________________________________________________________\n",
            "dense_19 (Dense)             (None, 128)               16512     \n",
            "_________________________________________________________________\n",
            "dropout_12 (Dropout)         (None, 128)               0         \n",
            "_________________________________________________________________\n",
            "dense_20 (Dense)             (None, 128)               16512     \n",
            "_________________________________________________________________\n",
            "dropout_13 (Dropout)         (None, 128)               0         \n",
            "_________________________________________________________________\n",
            "dense_21 (Dense)             (None, 128)               16512     \n",
            "_________________________________________________________________\n",
            "dropout_14 (Dropout)         (None, 128)               0         \n",
            "_________________________________________________________________\n",
            "dense_22 (Dense)             (None, 128)               16512     \n",
            "_________________________________________________________________\n",
            "dropout_15 (Dropout)         (None, 128)               0         \n",
            "_________________________________________________________________\n",
            "dense_23 (Dense)             (None, 128)               16512     \n",
            "_________________________________________________________________\n",
            "dropout_16 (Dropout)         (None, 128)               0         \n",
            "_________________________________________________________________\n",
            "dense_24 (Dense)             (None, 2)                 258       \n",
            "=================================================================\n",
            "Total params: 83,586\n",
            "Trainable params: 83,586\n",
            "Non-trainable params: 0\n",
            "_________________________________________________________________\n"
          ]
        }
      ]
    },
    {
      "cell_type": "markdown",
      "metadata": {
        "id": "vKZjTLA_P5Mf"
      },
      "source": [
        "モデルのコンパイル"
      ]
    },
    {
      "cell_type": "code",
      "metadata": {
        "id": "BAM2I8V8JxXV"
      },
      "source": [
        "model_1.compile(optimizer='adam',\n",
        "              loss='sparse_categorical_crossentropy',\n",
        "              metrics=['accuracy'])"
      ],
      "execution_count": 85,
      "outputs": []
    },
    {
      "cell_type": "markdown",
      "metadata": {
        "id": "7vcxNH2-P8D5"
      },
      "source": [
        "学習！"
      ]
    },
    {
      "cell_type": "code",
      "metadata": {
        "colab": {
          "base_uri": "https://localhost:8080/"
        },
        "id": "PckYyy8iJ6y7",
        "outputId": "d5b0539a-0d99-4e70-90c8-fff5196028ee"
      },
      "source": [
        "history = model_1.fit(x_train, y_train, batch_size=1000, epochs=100,\n",
        "                    validation_split=0.1)"
      ],
      "execution_count": 86,
      "outputs": [
        {
          "output_type": "stream",
          "name": "stdout",
          "text": [
            "Epoch 1/100\n",
            "4/4 [==============================] - 1s 75ms/step - loss: 0.7902 - accuracy: 0.5289 - val_loss: 0.6751 - val_accuracy: 0.6198\n",
            "Epoch 2/100\n",
            "4/4 [==============================] - 0s 24ms/step - loss: 0.6853 - accuracy: 0.5617 - val_loss: 0.7494 - val_accuracy: 0.2645\n",
            "Epoch 3/100\n",
            "4/4 [==============================] - 0s 27ms/step - loss: 0.6631 - accuracy: 0.5715 - val_loss: 0.8473 - val_accuracy: 0.0358\n",
            "Epoch 4/100\n",
            "4/4 [==============================] - 0s 28ms/step - loss: 0.6491 - accuracy: 0.5770 - val_loss: 0.7858 - val_accuracy: 0.2948\n",
            "Epoch 5/100\n",
            "4/4 [==============================] - 0s 25ms/step - loss: 0.6362 - accuracy: 0.5997 - val_loss: 0.7109 - val_accuracy: 0.5152\n",
            "Epoch 6/100\n",
            "4/4 [==============================] - 0s 24ms/step - loss: 0.6154 - accuracy: 0.6337 - val_loss: 0.6949 - val_accuracy: 0.5730\n",
            "Epoch 7/100\n",
            "4/4 [==============================] - 0s 25ms/step - loss: 0.6010 - accuracy: 0.6576 - val_loss: 0.6936 - val_accuracy: 0.6061\n",
            "Epoch 8/100\n",
            "4/4 [==============================] - 0s 22ms/step - loss: 0.5791 - accuracy: 0.6821 - val_loss: 0.6518 - val_accuracy: 0.6474\n",
            "Epoch 9/100\n",
            "4/4 [==============================] - 0s 25ms/step - loss: 0.5722 - accuracy: 0.6922 - val_loss: 0.6283 - val_accuracy: 0.6804\n",
            "Epoch 10/100\n",
            "4/4 [==============================] - 0s 24ms/step - loss: 0.5621 - accuracy: 0.6971 - val_loss: 0.6200 - val_accuracy: 0.7163\n",
            "Epoch 11/100\n",
            "4/4 [==============================] - 0s 21ms/step - loss: 0.5484 - accuracy: 0.7057 - val_loss: 0.6753 - val_accuracy: 0.6942\n",
            "Epoch 12/100\n",
            "4/4 [==============================] - 0s 21ms/step - loss: 0.5432 - accuracy: 0.7093 - val_loss: 0.5926 - val_accuracy: 0.7438\n",
            "Epoch 13/100\n",
            "4/4 [==============================] - 0s 22ms/step - loss: 0.5344 - accuracy: 0.7191 - val_loss: 0.5838 - val_accuracy: 0.7658\n",
            "Epoch 14/100\n",
            "4/4 [==============================] - 0s 24ms/step - loss: 0.5306 - accuracy: 0.7237 - val_loss: 0.5451 - val_accuracy: 0.8072\n",
            "Epoch 15/100\n",
            "4/4 [==============================] - 0s 25ms/step - loss: 0.5191 - accuracy: 0.7317 - val_loss: 0.5356 - val_accuracy: 0.8237\n",
            "Epoch 16/100\n",
            "4/4 [==============================] - 0s 23ms/step - loss: 0.5034 - accuracy: 0.7458 - val_loss: 0.5340 - val_accuracy: 0.8430\n",
            "Epoch 17/100\n",
            "4/4 [==============================] - 0s 25ms/step - loss: 0.5051 - accuracy: 0.7397 - val_loss: 0.4998 - val_accuracy: 0.8815\n",
            "Epoch 18/100\n",
            "4/4 [==============================] - 0s 25ms/step - loss: 0.5011 - accuracy: 0.7547 - val_loss: 0.5261 - val_accuracy: 0.8623\n",
            "Epoch 19/100\n",
            "4/4 [==============================] - 0s 21ms/step - loss: 0.4980 - accuracy: 0.7458 - val_loss: 0.5316 - val_accuracy: 0.8733\n",
            "Epoch 20/100\n",
            "4/4 [==============================] - 0s 21ms/step - loss: 0.5008 - accuracy: 0.7482 - val_loss: 0.4476 - val_accuracy: 0.9201\n",
            "Epoch 21/100\n",
            "4/4 [==============================] - 0s 22ms/step - loss: 0.4951 - accuracy: 0.7528 - val_loss: 0.5386 - val_accuracy: 0.8512\n",
            "Epoch 22/100\n",
            "4/4 [==============================] - 0s 24ms/step - loss: 0.4909 - accuracy: 0.7516 - val_loss: 0.4776 - val_accuracy: 0.8843\n",
            "Epoch 23/100\n",
            "4/4 [==============================] - 0s 23ms/step - loss: 0.4764 - accuracy: 0.7629 - val_loss: 0.4368 - val_accuracy: 0.9063\n",
            "Epoch 24/100\n",
            "4/4 [==============================] - 0s 21ms/step - loss: 0.4765 - accuracy: 0.7605 - val_loss: 0.4923 - val_accuracy: 0.8733\n",
            "Epoch 25/100\n",
            "4/4 [==============================] - 0s 24ms/step - loss: 0.4726 - accuracy: 0.7675 - val_loss: 0.4521 - val_accuracy: 0.8843\n",
            "Epoch 26/100\n",
            "4/4 [==============================] - 0s 24ms/step - loss: 0.4610 - accuracy: 0.7773 - val_loss: 0.4256 - val_accuracy: 0.8926\n",
            "Epoch 27/100\n",
            "4/4 [==============================] - 0s 27ms/step - loss: 0.4675 - accuracy: 0.7697 - val_loss: 0.4563 - val_accuracy: 0.8705\n",
            "Epoch 28/100\n",
            "4/4 [==============================] - 0s 26ms/step - loss: 0.4658 - accuracy: 0.7783 - val_loss: 0.3951 - val_accuracy: 0.9394\n",
            "Epoch 29/100\n",
            "4/4 [==============================] - 0s 25ms/step - loss: 0.4601 - accuracy: 0.7752 - val_loss: 0.4012 - val_accuracy: 0.9284\n",
            "Epoch 30/100\n",
            "4/4 [==============================] - 0s 23ms/step - loss: 0.4552 - accuracy: 0.7795 - val_loss: 0.4180 - val_accuracy: 0.9008\n",
            "Epoch 31/100\n",
            "4/4 [==============================] - 0s 24ms/step - loss: 0.4594 - accuracy: 0.7776 - val_loss: 0.3565 - val_accuracy: 0.9449\n",
            "Epoch 32/100\n",
            "4/4 [==============================] - 0s 24ms/step - loss: 0.4543 - accuracy: 0.7795 - val_loss: 0.3659 - val_accuracy: 0.9339\n",
            "Epoch 33/100\n",
            "4/4 [==============================] - 0s 24ms/step - loss: 0.4523 - accuracy: 0.7865 - val_loss: 0.3508 - val_accuracy: 0.9366\n",
            "Epoch 34/100\n",
            "4/4 [==============================] - 0s 21ms/step - loss: 0.4464 - accuracy: 0.7862 - val_loss: 0.3196 - val_accuracy: 0.9394\n",
            "Epoch 35/100\n",
            "4/4 [==============================] - 0s 24ms/step - loss: 0.4518 - accuracy: 0.7783 - val_loss: 0.3036 - val_accuracy: 0.9504\n",
            "Epoch 36/100\n",
            "4/4 [==============================] - 0s 24ms/step - loss: 0.4413 - accuracy: 0.7911 - val_loss: 0.2934 - val_accuracy: 0.9532\n",
            "Epoch 37/100\n",
            "4/4 [==============================] - 0s 24ms/step - loss: 0.4267 - accuracy: 0.7997 - val_loss: 0.3396 - val_accuracy: 0.9311\n",
            "Epoch 38/100\n",
            "4/4 [==============================] - 0s 24ms/step - loss: 0.4315 - accuracy: 0.7933 - val_loss: 0.3084 - val_accuracy: 0.9449\n",
            "Epoch 39/100\n",
            "4/4 [==============================] - 0s 24ms/step - loss: 0.4288 - accuracy: 0.8025 - val_loss: 0.2902 - val_accuracy: 0.9504\n",
            "Epoch 40/100\n",
            "4/4 [==============================] - 0s 26ms/step - loss: 0.4157 - accuracy: 0.8037 - val_loss: 0.2942 - val_accuracy: 0.9532\n",
            "Epoch 41/100\n",
            "4/4 [==============================] - 0s 24ms/step - loss: 0.4272 - accuracy: 0.7975 - val_loss: 0.3056 - val_accuracy: 0.9366\n",
            "Epoch 42/100\n",
            "4/4 [==============================] - 0s 26ms/step - loss: 0.4189 - accuracy: 0.8083 - val_loss: 0.2818 - val_accuracy: 0.9449\n",
            "Epoch 43/100\n",
            "4/4 [==============================] - 0s 24ms/step - loss: 0.4189 - accuracy: 0.8040 - val_loss: 0.2883 - val_accuracy: 0.9284\n",
            "Epoch 44/100\n",
            "4/4 [==============================] - 0s 26ms/step - loss: 0.4119 - accuracy: 0.8064 - val_loss: 0.2691 - val_accuracy: 0.9366\n",
            "Epoch 45/100\n",
            "4/4 [==============================] - 0s 25ms/step - loss: 0.4140 - accuracy: 0.8058 - val_loss: 0.2423 - val_accuracy: 0.9559\n",
            "Epoch 46/100\n",
            "4/4 [==============================] - 0s 24ms/step - loss: 0.4112 - accuracy: 0.8046 - val_loss: 0.2572 - val_accuracy: 0.9504\n",
            "Epoch 47/100\n",
            "4/4 [==============================] - 0s 25ms/step - loss: 0.4070 - accuracy: 0.8098 - val_loss: 0.2283 - val_accuracy: 0.9642\n",
            "Epoch 48/100\n",
            "4/4 [==============================] - 0s 26ms/step - loss: 0.4078 - accuracy: 0.8089 - val_loss: 0.2284 - val_accuracy: 0.9642\n",
            "Epoch 49/100\n",
            "4/4 [==============================] - 0s 22ms/step - loss: 0.4061 - accuracy: 0.8123 - val_loss: 0.2597 - val_accuracy: 0.9532\n",
            "Epoch 50/100\n",
            "4/4 [==============================] - 0s 24ms/step - loss: 0.4088 - accuracy: 0.8107 - val_loss: 0.2357 - val_accuracy: 0.9669\n",
            "Epoch 51/100\n",
            "4/4 [==============================] - 0s 26ms/step - loss: 0.3938 - accuracy: 0.8227 - val_loss: 0.2374 - val_accuracy: 0.9614\n",
            "Epoch 52/100\n",
            "4/4 [==============================] - 0s 21ms/step - loss: 0.4002 - accuracy: 0.8208 - val_loss: 0.2385 - val_accuracy: 0.9532\n",
            "Epoch 53/100\n",
            "4/4 [==============================] - 0s 23ms/step - loss: 0.3916 - accuracy: 0.8239 - val_loss: 0.2478 - val_accuracy: 0.9504\n",
            "Epoch 54/100\n",
            "4/4 [==============================] - 0s 24ms/step - loss: 0.3919 - accuracy: 0.8202 - val_loss: 0.2071 - val_accuracy: 0.9642\n",
            "Epoch 55/100\n",
            "4/4 [==============================] - 0s 21ms/step - loss: 0.4011 - accuracy: 0.8187 - val_loss: 0.2376 - val_accuracy: 0.9504\n",
            "Epoch 56/100\n",
            "4/4 [==============================] - 0s 21ms/step - loss: 0.3923 - accuracy: 0.8156 - val_loss: 0.2214 - val_accuracy: 0.9559\n",
            "Epoch 57/100\n",
            "4/4 [==============================] - 0s 21ms/step - loss: 0.3966 - accuracy: 0.8199 - val_loss: 0.2037 - val_accuracy: 0.9669\n",
            "Epoch 58/100\n",
            "4/4 [==============================] - 0s 25ms/step - loss: 0.3977 - accuracy: 0.8098 - val_loss: 0.2322 - val_accuracy: 0.9559\n",
            "Epoch 59/100\n",
            "4/4 [==============================] - 0s 23ms/step - loss: 0.3931 - accuracy: 0.8266 - val_loss: 0.2512 - val_accuracy: 0.9421\n",
            "Epoch 60/100\n",
            "4/4 [==============================] - 0s 21ms/step - loss: 0.3919 - accuracy: 0.8230 - val_loss: 0.2224 - val_accuracy: 0.9669\n",
            "Epoch 61/100\n",
            "4/4 [==============================] - 0s 24ms/step - loss: 0.3890 - accuracy: 0.8147 - val_loss: 0.2481 - val_accuracy: 0.9532\n",
            "Epoch 62/100\n",
            "4/4 [==============================] - 0s 24ms/step - loss: 0.3841 - accuracy: 0.8297 - val_loss: 0.2128 - val_accuracy: 0.9669\n",
            "Epoch 63/100\n",
            "4/4 [==============================] - 0s 24ms/step - loss: 0.3840 - accuracy: 0.8285 - val_loss: 0.2450 - val_accuracy: 0.9504\n",
            "Epoch 64/100\n",
            "4/4 [==============================] - 0s 23ms/step - loss: 0.3798 - accuracy: 0.8266 - val_loss: 0.2042 - val_accuracy: 0.9697\n",
            "Epoch 65/100\n",
            "4/4 [==============================] - 0s 26ms/step - loss: 0.3861 - accuracy: 0.8279 - val_loss: 0.2176 - val_accuracy: 0.9642\n",
            "Epoch 66/100\n",
            "4/4 [==============================] - 0s 24ms/step - loss: 0.3777 - accuracy: 0.8291 - val_loss: 0.2798 - val_accuracy: 0.9366\n",
            "Epoch 67/100\n",
            "4/4 [==============================] - 0s 23ms/step - loss: 0.3815 - accuracy: 0.8337 - val_loss: 0.2175 - val_accuracy: 0.9614\n",
            "Epoch 68/100\n",
            "4/4 [==============================] - 0s 26ms/step - loss: 0.3825 - accuracy: 0.8303 - val_loss: 0.2444 - val_accuracy: 0.9504\n",
            "Epoch 69/100\n",
            "4/4 [==============================] - 0s 25ms/step - loss: 0.3651 - accuracy: 0.8361 - val_loss: 0.2186 - val_accuracy: 0.9587\n",
            "Epoch 70/100\n",
            "4/4 [==============================] - 0s 23ms/step - loss: 0.3760 - accuracy: 0.8306 - val_loss: 0.2070 - val_accuracy: 0.9725\n",
            "Epoch 71/100\n",
            "4/4 [==============================] - 0s 25ms/step - loss: 0.3756 - accuracy: 0.8303 - val_loss: 0.2355 - val_accuracy: 0.9559\n",
            "Epoch 72/100\n",
            "4/4 [==============================] - 0s 24ms/step - loss: 0.3763 - accuracy: 0.8309 - val_loss: 0.1830 - val_accuracy: 0.9752\n",
            "Epoch 73/100\n",
            "4/4 [==============================] - 0s 23ms/step - loss: 0.3779 - accuracy: 0.8325 - val_loss: 0.1734 - val_accuracy: 0.9752\n",
            "Epoch 74/100\n",
            "4/4 [==============================] - 0s 21ms/step - loss: 0.3655 - accuracy: 0.8340 - val_loss: 0.2167 - val_accuracy: 0.9559\n",
            "Epoch 75/100\n",
            "4/4 [==============================] - 0s 24ms/step - loss: 0.3760 - accuracy: 0.8346 - val_loss: 0.1910 - val_accuracy: 0.9752\n",
            "Epoch 76/100\n",
            "4/4 [==============================] - 0s 24ms/step - loss: 0.3728 - accuracy: 0.8294 - val_loss: 0.2118 - val_accuracy: 0.9669\n",
            "Epoch 77/100\n",
            "4/4 [==============================] - 0s 21ms/step - loss: 0.3787 - accuracy: 0.8343 - val_loss: 0.2079 - val_accuracy: 0.9697\n",
            "Epoch 78/100\n",
            "4/4 [==============================] - 0s 27ms/step - loss: 0.3733 - accuracy: 0.8297 - val_loss: 0.2012 - val_accuracy: 0.9697\n",
            "Epoch 79/100\n",
            "4/4 [==============================] - 0s 25ms/step - loss: 0.3753 - accuracy: 0.8319 - val_loss: 0.1939 - val_accuracy: 0.9697\n",
            "Epoch 80/100\n",
            "4/4 [==============================] - 0s 24ms/step - loss: 0.3769 - accuracy: 0.8263 - val_loss: 0.1998 - val_accuracy: 0.9642\n",
            "Epoch 81/100\n",
            "4/4 [==============================] - 0s 25ms/step - loss: 0.3604 - accuracy: 0.8453 - val_loss: 0.2054 - val_accuracy: 0.9614\n",
            "Epoch 82/100\n",
            "4/4 [==============================] - 0s 21ms/step - loss: 0.3611 - accuracy: 0.8328 - val_loss: 0.2230 - val_accuracy: 0.9504\n",
            "Epoch 83/100\n",
            "4/4 [==============================] - 0s 27ms/step - loss: 0.3615 - accuracy: 0.8319 - val_loss: 0.1989 - val_accuracy: 0.9614\n",
            "Epoch 84/100\n",
            "4/4 [==============================] - 0s 23ms/step - loss: 0.3698 - accuracy: 0.8368 - val_loss: 0.2118 - val_accuracy: 0.9504\n",
            "Epoch 85/100\n",
            "4/4 [==============================] - 0s 25ms/step - loss: 0.3735 - accuracy: 0.8254 - val_loss: 0.1918 - val_accuracy: 0.9642\n",
            "Epoch 86/100\n",
            "4/4 [==============================] - 0s 24ms/step - loss: 0.3639 - accuracy: 0.8358 - val_loss: 0.1774 - val_accuracy: 0.9725\n",
            "Epoch 87/100\n",
            "4/4 [==============================] - 0s 23ms/step - loss: 0.3631 - accuracy: 0.8346 - val_loss: 0.2258 - val_accuracy: 0.9504\n",
            "Epoch 88/100\n",
            "4/4 [==============================] - 0s 21ms/step - loss: 0.3677 - accuracy: 0.8423 - val_loss: 0.2036 - val_accuracy: 0.9669\n",
            "Epoch 89/100\n",
            "4/4 [==============================] - 0s 25ms/step - loss: 0.3688 - accuracy: 0.8398 - val_loss: 0.1869 - val_accuracy: 0.9697\n",
            "Epoch 90/100\n",
            "4/4 [==============================] - 0s 26ms/step - loss: 0.3581 - accuracy: 0.8438 - val_loss: 0.2312 - val_accuracy: 0.9477\n",
            "Epoch 91/100\n",
            "4/4 [==============================] - 0s 24ms/step - loss: 0.3556 - accuracy: 0.8432 - val_loss: 0.1727 - val_accuracy: 0.9780\n",
            "Epoch 92/100\n",
            "4/4 [==============================] - 0s 22ms/step - loss: 0.3596 - accuracy: 0.8423 - val_loss: 0.1799 - val_accuracy: 0.9725\n",
            "Epoch 93/100\n",
            "4/4 [==============================] - 0s 28ms/step - loss: 0.3473 - accuracy: 0.8469 - val_loss: 0.2321 - val_accuracy: 0.9477\n",
            "Epoch 94/100\n",
            "4/4 [==============================] - 0s 24ms/step - loss: 0.3535 - accuracy: 0.8466 - val_loss: 0.1811 - val_accuracy: 0.9669\n",
            "Epoch 95/100\n",
            "4/4 [==============================] - 0s 25ms/step - loss: 0.3570 - accuracy: 0.8380 - val_loss: 0.1727 - val_accuracy: 0.9725\n",
            "Epoch 96/100\n",
            "4/4 [==============================] - 0s 28ms/step - loss: 0.3586 - accuracy: 0.8349 - val_loss: 0.1857 - val_accuracy: 0.9697\n",
            "Epoch 97/100\n",
            "4/4 [==============================] - 0s 27ms/step - loss: 0.3590 - accuracy: 0.8389 - val_loss: 0.1917 - val_accuracy: 0.9614\n",
            "Epoch 98/100\n",
            "4/4 [==============================] - 0s 24ms/step - loss: 0.3564 - accuracy: 0.8435 - val_loss: 0.2179 - val_accuracy: 0.9532\n",
            "Epoch 99/100\n",
            "4/4 [==============================] - 0s 25ms/step - loss: 0.3555 - accuracy: 0.8447 - val_loss: 0.1878 - val_accuracy: 0.9642\n",
            "Epoch 100/100\n",
            "4/4 [==============================] - 0s 26ms/step - loss: 0.3488 - accuracy: 0.8456 - val_loss: 0.1939 - val_accuracy: 0.9642\n"
          ]
        }
      ]
    },
    {
      "cell_type": "code",
      "metadata": {
        "colab": {
          "base_uri": "https://localhost:8080/"
        },
        "id": "OPTiEHHSLosQ",
        "outputId": "8fa8f3f2-4804-4ee3-fb91-c94a25d4dcdc"
      },
      "source": [
        "def nothing_val(word):#元データ内にその単語が存在するか確認\n",
        "  for w in alpha:\n",
        "    if word==w:\n",
        "      return False\n",
        "  return True\n",
        "nothing_val('blade')"
      ],
      "execution_count": 101,
      "outputs": [
        {
          "output_type": "execute_result",
          "data": {
            "text/plain": [
              "True"
            ]
          },
          "metadata": {},
          "execution_count": 101
        }
      ]
    },
    {
      "cell_type": "code",
      "metadata": {
        "colab": {
          "base_uri": "https://localhost:8080/"
        },
        "id": "jtRkMIKrMtU2",
        "outputId": "b0a4d1d4-5d1d-4534-89e6-bf079e8d1e0e"
      },
      "source": [
        "def word2num(word):\n",
        "  num=[]\n",
        "  for id in range(len(word)):\n",
        "    num.append(dic[word[id]])\n",
        "  return num\n",
        "def num2word(nums):\n",
        "  word=''\n",
        "  for i in nums:\n",
        "    word+=char[i]\n",
        "  return word\n",
        "print(num2word([12, 3, 0, 18, 19]))\n",
        "print(word2num(\"beast\"))"
      ],
      "execution_count": 99,
      "outputs": [
        {
          "output_type": "stream",
          "name": "stdout",
          "text": [
            "beast\n",
            "[12, 3, 0, 18, 19]\n"
          ]
        }
      ]
    },
    {
      "cell_type": "markdown",
      "metadata": {
        "id": "pjHRERjtQCd_"
      },
      "source": [
        "テスト"
      ]
    },
    {
      "cell_type": "code",
      "metadata": {
        "colab": {
          "base_uri": "https://localhost:8080/"
        },
        "id": "GymoFQ25NpuI",
        "outputId": "476e7fa1-cc8b-4d74-d9af-5922348fcc13"
      },
      "source": [
        "test_words=[\"beast\",\"blade\",\"shddf\",\"adjsa\"]\n",
        "y_test=[1,1,0,0]\n",
        "x_test=[]\n",
        "for word in test_words:\n",
        "  num=word2num(word)\n",
        "  x_test.append(num)\n",
        "\n",
        "test_loss, test_acc = model_1.evaluate(x_test, y_test, verbose=0)\n",
        "print(test_loss)\n",
        "print(test_acc)\n",
        "predictions = model_1.predict(x_test)\n",
        "print(predictions)"
      ],
      "execution_count": 110,
      "outputs": [
        {
          "output_type": "stream",
          "name": "stdout",
          "text": [
            "0.04766419902443886\n",
            "1.0\n",
            "[[0.07801969 0.92198026]\n",
            " [0.06646299 0.93353707]\n",
            " [0.98020303 0.01979694]\n",
            " [0.9795567  0.02044335]]\n"
          ]
        }
      ]
    },
    {
      "cell_type": "code",
      "metadata": {
        "id": "kLmqoFb3UmpW"
      },
      "source": [
        "randomlist,randomword=generate(data_size=300000)\n",
        "r_pred=model_1.predict(randomlist)\n",
        "item=[]\n",
        "for i in range(len(r_pred)):\n",
        "  res=[i,r_pred[i][0]]\n",
        "  item.append(res)\n",
        "item.sort(key=lambda item:item[1])"
      ],
      "execution_count": 129,
      "outputs": []
    },
    {
      "cell_type": "code",
      "metadata": {
        "colab": {
          "base_uri": "https://localhost:8080/"
        },
        "id": "2rC4ZIKNOM-Q",
        "outputId": "1c251b84-ca57-4051-c9fd-c7035e8f0071"
      },
      "source": [
        "top=30\n",
        "ans=[]\n",
        "for i in range(top):\n",
        "  id=item[i][0]\n",
        "  ans.append([randomword[id],item[i][1]])\n",
        "  print([randomword[id],item[i][1]])"
      ],
      "execution_count": 131,
      "outputs": [
        {
          "output_type": "stream",
          "name": "stdout",
          "text": [
            "['axaic', 0.051334687]\n",
            "['ajabl', 0.05201237]\n",
            "['ajiik', 0.053448316]\n",
            "['ajiik', 0.053448316]\n",
            "['axail', 0.053809475]\n",
            "['iwaac', 0.0541633]\n",
            "['azaik', 0.054410905]\n",
            "['ataul', 0.054576315]\n",
            "['ijaib', 0.05459246]\n",
            "['awaeb', 0.0551941]\n",
            "['adaag', 0.05522654]\n",
            "['ixail', 0.055347003]\n",
            "['iqacr', 0.055372324]\n",
            "['aqael', 0.055384837]\n",
            "['axafg', 0.055492993]\n",
            "['aqiup', 0.055934507]\n",
            "['ijabg', 0.05603107]\n",
            "['aqiad', 0.056035113]\n",
            "['axaef', 0.05616152]\n",
            "['iqaub', 0.056484368]\n",
            "['ataby', 0.056601558]\n",
            "['aqafb', 0.057224784]\n",
            "['azaob', 0.05754608]\n",
            "['azagb', 0.058025137]\n",
            "['flaxo', 0.058090407]\n",
            "['aqaky', 0.05811206]\n",
            "['blijo', 0.058158726]\n",
            "['lruze', 0.058521673]\n",
            "['iziaf', 0.05858904]\n",
            "['izabg', 0.058601838]\n"
          ]
        }
      ]
    }
  ]
}