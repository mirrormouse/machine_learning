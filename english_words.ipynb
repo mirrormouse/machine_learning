{
  "nbformat": 4,
  "nbformat_minor": 0,
  "metadata": {
    "colab": {
      "name": "english_words.ipynb",
      "provenance": [],
      "collapsed_sections": [],
      "authorship_tag": "ABX9TyPeM0Somj72EY4/64kRgGzJ",
      "include_colab_link": true
    },
    "kernelspec": {
      "name": "python3",
      "display_name": "Python 3"
    },
    "language_info": {
      "name": "python"
    }
  },
  "cells": [
    {
      "cell_type": "markdown",
      "metadata": {
        "id": "view-in-github",
        "colab_type": "text"
      },
      "source": [
        "<a href=\"https://colab.research.google.com/github/mirrormouse/machine_learning/blob/main/english_words.ipynb\" target=\"_parent\"><img src=\"https://colab.research.google.com/assets/colab-badge.svg\" alt=\"Open In Colab\"/></a>"
      ]
    },
    {
      "cell_type": "markdown",
      "metadata": {
        "id": "ugazApsSPAwx"
      },
      "source": [
        "アルファベットと数字の変換準備（母音->子音に並べた。後は割とランダム）"
      ]
    },
    {
      "cell_type": "code",
      "metadata": {
        "colab": {
          "base_uri": "https://localhost:8080/"
        },
        "id": "RlLgzl_htT7V",
        "outputId": "5cadd7e0-e7d5-4fb1-cafd-e14b334386ca"
      },
      "source": [
        "import random\n",
        "char=\"aiueomnhygrlbcdfkpstvwzxjq\"\n",
        "dic={}\n",
        "for i in range(len(char)):\n",
        "  dic[char[i]]=i\n",
        "print(dic['c'])"
      ],
      "execution_count": 306,
      "outputs": [
        {
          "output_type": "stream",
          "name": "stdout",
          "text": [
            "13\n"
          ]
        }
      ]
    },
    {
      "cell_type": "markdown",
      "metadata": {
        "id": "VM_FPnhRPCqh"
      },
      "source": [
        "ドライブをインポート"
      ]
    },
    {
      "cell_type": "code",
      "metadata": {
        "colab": {
          "base_uri": "https://localhost:8080/"
        },
        "id": "zPL4SZ9oxGWS",
        "outputId": "c7d71df2-8e8e-4751-e74d-2efed9374b64"
      },
      "source": [
        "from google.colab import drive\n",
        "drive.mount('/content/drive')"
      ],
      "execution_count": 307,
      "outputs": [
        {
          "output_type": "stream",
          "name": "stdout",
          "text": [
            "Drive already mounted at /content/drive; to attempt to forcibly remount, call drive.mount(\"/content/drive\", force_remount=True).\n"
          ]
        }
      ]
    },
    {
      "cell_type": "markdown",
      "metadata": {
        "id": "jj6NOPBKO_Rt"
      },
      "source": [
        "でたらめな５文字からなる「英単語もどき」を生成。これを数値に変換\n",
        "例）[\"aiueq\",...]->[[0,1,2,3,25],...]"
      ]
    },
    {
      "cell_type": "code",
      "metadata": {
        "id": "Y-y14Hz-uPu2"
      },
      "source": [
        "def generate(data_size=1814,length=5):\n",
        "  random_list=[]\n",
        "  random_words=[]\n",
        "  for i in range(data_size):\n",
        "    word=''\n",
        "    num=[]\n",
        "    for j in range(length):\n",
        "      a=random.randrange(26)\n",
        "      c=char[a]\n",
        "      word+=c\n",
        "      num.append(a)\n",
        "    random_list.append(num)\n",
        "    random_words.append(word)\n",
        "  return random_list,random_words\n",
        "\n",
        "lists,word=generate(data_size=1814)\n"
      ],
      "execution_count": 308,
      "outputs": []
    },
    {
      "cell_type": "markdown",
      "metadata": {
        "id": "10LnnM3LPMa0"
      },
      "source": [
        "英文データの読み込み"
      ]
    },
    {
      "cell_type": "code",
      "metadata": {
        "colab": {
          "base_uri": "https://localhost:8080/"
        },
        "id": "TgTsxOv3xPeo",
        "outputId": "f6bbeeff-acba-4d71-fc20-c7a15908266e"
      },
      "source": [
        "base='drive/MyDrive/ML/train/'\n",
        "f = open(base+'train.txt', 'r')\n",
        "rawdata = f.read()\n",
        "data=rawdata.split()\n",
        "print(data[:5])\n",
        "f.close()"
      ],
      "execution_count": 309,
      "outputs": [
        {
          "output_type": "stream",
          "name": "stdout",
          "text": [
            "['The', 'two', 'submarines', 'of', 'the']\n"
          ]
        }
      ]
    },
    {
      "cell_type": "markdown",
      "metadata": {
        "id": "ysmjBqkZPPpL"
      },
      "source": [
        "５文字の長さの英単語だけを大量に抽出し、「存在する英単語」としてまとめる。これも数値に変換。"
      ]
    },
    {
      "cell_type": "code",
      "metadata": {
        "colab": {
          "base_uri": "https://localhost:8080/"
        },
        "id": "J00DjuNp41h6",
        "outputId": "25cdbc37-44e8-466e-eef8-4be75c29e76c"
      },
      "source": [
        "import re\n",
        "def correct_generate(data_size=10000,length=5):\n",
        "  alpha_data=[]\n",
        "  for word in data:\n",
        "    word=word.lower()\n",
        "    res = re.sub(r'[^a-zA-Z]', '', word)\n",
        "    if len(res)==length:\n",
        "      alpha_data.append(res)\n",
        "\n",
        "  beta_data=[]\n",
        "  for word in alpha_data:\n",
        "    num=[]\n",
        "    for id in range(len(word)):\n",
        "      c=word[id]\n",
        "      num.append(dic[c])\n",
        "    beta_data.append(num)\n",
        "  size=len(alpha_data)\n",
        "  return alpha_data, beta_data, size\n",
        "\n",
        "alpha,beta,_=correct_generate()\n",
        "print(beta[:5])"
      ],
      "execution_count": 310,
      "outputs": [
        {
          "output_type": "stream",
          "name": "stdout",
          "text": [
            "[[13, 11, 0, 18, 18], [12, 2, 1, 11, 19], [0, 11, 4, 6, 9], [4, 19, 7, 3, 10], [19, 7, 3, 1, 10]]\n"
          ]
        }
      ]
    },
    {
      "cell_type": "markdown",
      "metadata": {
        "id": "R8FrppwtPryp"
      },
      "source": [
        "訓練データの生成（上で作った２つを繋げるだけ）"
      ]
    },
    {
      "cell_type": "code",
      "metadata": {
        "id": "QtAJ1L8863Ek"
      },
      "source": [
        "x_train_list=lists+beta\n",
        "y_train_list=[]\n",
        "for i in range(len(lists)):\n",
        "  y_train_list.append(0)\n",
        "for i in range(len(beta)):\n",
        "  y_train_list.append(1)"
      ],
      "execution_count": 311,
      "outputs": []
    },
    {
      "cell_type": "markdown",
      "metadata": {
        "id": "mWC4iY4FPtW7"
      },
      "source": [
        "訓練データのリストをnumpyに変換。正解ラベルを生成"
      ]
    },
    {
      "cell_type": "code",
      "metadata": {
        "colab": {
          "base_uri": "https://localhost:8080/"
        },
        "id": "-lBGCnS7Hq6S",
        "outputId": "23f06503-6885-42f2-c881-561bc88406d0"
      },
      "source": [
        "import numpy as np\n",
        "x_train=np.array(x_train_list)\n",
        "y_train=np.array(y_train_list)\n",
        "print(x_train[:5],y_train[:5])"
      ],
      "execution_count": 312,
      "outputs": [
        {
          "output_type": "stream",
          "name": "stdout",
          "text": [
            "[[13 10  3 16 15]\n",
            " [14 24 11  9 12]\n",
            " [15 13 22  3 12]\n",
            " [ 3  2  8 10 20]\n",
            " [ 7 22  5  2 11]] [0 0 0 0 0]\n"
          ]
        }
      ]
    },
    {
      "cell_type": "markdown",
      "metadata": {
        "id": "MXdrbTQ7P1S3"
      },
      "source": [
        "ディープラーニングモデルを作る"
      ]
    },
    {
      "cell_type": "code",
      "metadata": {
        "colab": {
          "base_uri": "https://localhost:8080/"
        },
        "id": "cXqsjsKAHTzi",
        "outputId": "1c57cb2f-e421-4776-9566-d5b4425817f0"
      },
      "source": [
        "import tensorflow as tf\n",
        "from tensorflow.keras.models import Sequential\n",
        "model_1 = tf.keras.Sequential(name='my_model')\n",
        "model_1.add(tf.keras.layers.Flatten(input_shape=(5,), name='flatten_layer_1'))\n",
        "model_1.add(tf.keras.layers.Dense(128, activation='relu'))\n",
        "model_1.add(tf.keras.layers.Dropout(0.2))\n",
        "model_1.add(tf.keras.layers.Dense(128, activation='relu'))\n",
        "model_1.add(tf.keras.layers.Dropout(0.2))\n",
        "model_1.add(tf.keras.layers.Dense(128, activation='relu'))\n",
        "model_1.add(tf.keras.layers.Dropout(0.2))\n",
        "model_1.add(tf.keras.layers.Dense(128, activation='relu'))\n",
        "model_1.add(tf.keras.layers.Dropout(0.2))\n",
        "model_1.add(tf.keras.layers.Dense(128, activation='relu'))\n",
        "model_1.add(tf.keras.layers.Dropout(0.2))\n",
        "model_1.add(tf.keras.layers.Dense(128, activation='relu'))\n",
        "model_1.add(tf.keras.layers.Dropout(0.2))\n",
        "model_1.add(tf.keras.layers.Dense(2, activation='softmax'))\n",
        "\n",
        "model_1.summary()"
      ],
      "execution_count": 313,
      "outputs": [
        {
          "output_type": "stream",
          "name": "stdout",
          "text": [
            "Model: \"my_model\"\n",
            "_________________________________________________________________\n",
            "Layer (type)                 Output Shape              Param #   \n",
            "=================================================================\n",
            "flatten_layer_1 (Flatten)    (None, 5)                 0         \n",
            "_________________________________________________________________\n",
            "dense_87 (Dense)             (None, 128)               768       \n",
            "_________________________________________________________________\n",
            "dropout_70 (Dropout)         (None, 128)               0         \n",
            "_________________________________________________________________\n",
            "dense_88 (Dense)             (None, 128)               16512     \n",
            "_________________________________________________________________\n",
            "dropout_71 (Dropout)         (None, 128)               0         \n",
            "_________________________________________________________________\n",
            "dense_89 (Dense)             (None, 128)               16512     \n",
            "_________________________________________________________________\n",
            "dropout_72 (Dropout)         (None, 128)               0         \n",
            "_________________________________________________________________\n",
            "dense_90 (Dense)             (None, 128)               16512     \n",
            "_________________________________________________________________\n",
            "dropout_73 (Dropout)         (None, 128)               0         \n",
            "_________________________________________________________________\n",
            "dense_91 (Dense)             (None, 128)               16512     \n",
            "_________________________________________________________________\n",
            "dropout_74 (Dropout)         (None, 128)               0         \n",
            "_________________________________________________________________\n",
            "dense_92 (Dense)             (None, 128)               16512     \n",
            "_________________________________________________________________\n",
            "dropout_75 (Dropout)         (None, 128)               0         \n",
            "_________________________________________________________________\n",
            "dense_93 (Dense)             (None, 2)                 258       \n",
            "=================================================================\n",
            "Total params: 83,586\n",
            "Trainable params: 83,586\n",
            "Non-trainable params: 0\n",
            "_________________________________________________________________\n"
          ]
        }
      ]
    },
    {
      "cell_type": "markdown",
      "metadata": {
        "id": "vKZjTLA_P5Mf"
      },
      "source": [
        "モデルのコンパイル"
      ]
    },
    {
      "cell_type": "code",
      "metadata": {
        "id": "BAM2I8V8JxXV"
      },
      "source": [
        "model_1.compile(optimizer='sgd',\n",
        "              loss='sparse_categorical_crossentropy',\n",
        "              metrics=['accuracy'])"
      ],
      "execution_count": 321,
      "outputs": []
    },
    {
      "cell_type": "markdown",
      "metadata": {
        "id": "7vcxNH2-P8D5"
      },
      "source": [
        "学習！"
      ]
    },
    {
      "cell_type": "code",
      "metadata": {
        "colab": {
          "base_uri": "https://localhost:8080/"
        },
        "id": "PckYyy8iJ6y7",
        "outputId": "b60c4933-c2dc-4e1a-ad09-3156ff0a073b"
      },
      "source": [
        "history = model_1.fit(x_train, y_train, batch_size=1000, epochs=100,\n",
        "                    validation_split=0.1)"
      ],
      "execution_count": 322,
      "outputs": [
        {
          "output_type": "stream",
          "name": "stdout",
          "text": [
            "Epoch 1/100\n",
            "4/4 [==============================] - 1s 66ms/step - loss: 0.3477 - accuracy: 0.8487 - val_loss: 0.1711 - val_accuracy: 0.9559\n",
            "Epoch 2/100\n",
            "4/4 [==============================] - 0s 24ms/step - loss: 0.3426 - accuracy: 0.8496 - val_loss: 0.1839 - val_accuracy: 0.9504\n",
            "Epoch 3/100\n",
            "4/4 [==============================] - 0s 20ms/step - loss: 0.3357 - accuracy: 0.8530 - val_loss: 0.1801 - val_accuracy: 0.9504\n",
            "Epoch 4/100\n",
            "4/4 [==============================] - 0s 20ms/step - loss: 0.3525 - accuracy: 0.8484 - val_loss: 0.1785 - val_accuracy: 0.9559\n",
            "Epoch 5/100\n",
            "4/4 [==============================] - 0s 20ms/step - loss: 0.3444 - accuracy: 0.8499 - val_loss: 0.1662 - val_accuracy: 0.9587\n",
            "Epoch 6/100\n",
            "4/4 [==============================] - 0s 20ms/step - loss: 0.3361 - accuracy: 0.8570 - val_loss: 0.1733 - val_accuracy: 0.9559\n",
            "Epoch 7/100\n",
            "4/4 [==============================] - 0s 20ms/step - loss: 0.3480 - accuracy: 0.8478 - val_loss: 0.1794 - val_accuracy: 0.9559\n",
            "Epoch 8/100\n",
            "4/4 [==============================] - 0s 23ms/step - loss: 0.3380 - accuracy: 0.8554 - val_loss: 0.1726 - val_accuracy: 0.9532\n",
            "Epoch 9/100\n",
            "4/4 [==============================] - 0s 20ms/step - loss: 0.3374 - accuracy: 0.8499 - val_loss: 0.1758 - val_accuracy: 0.9559\n",
            "Epoch 10/100\n",
            "4/4 [==============================] - 0s 21ms/step - loss: 0.3367 - accuracy: 0.8521 - val_loss: 0.1787 - val_accuracy: 0.9559\n",
            "Epoch 11/100\n",
            "4/4 [==============================] - 0s 20ms/step - loss: 0.3461 - accuracy: 0.8466 - val_loss: 0.1739 - val_accuracy: 0.9559\n",
            "Epoch 12/100\n",
            "4/4 [==============================] - 0s 20ms/step - loss: 0.3324 - accuracy: 0.8560 - val_loss: 0.1860 - val_accuracy: 0.9504\n",
            "Epoch 13/100\n",
            "4/4 [==============================] - 0s 19ms/step - loss: 0.3421 - accuracy: 0.8505 - val_loss: 0.1845 - val_accuracy: 0.9532\n",
            "Epoch 14/100\n",
            "4/4 [==============================] - 0s 19ms/step - loss: 0.3402 - accuracy: 0.8548 - val_loss: 0.1845 - val_accuracy: 0.9587\n",
            "Epoch 15/100\n",
            "4/4 [==============================] - 0s 19ms/step - loss: 0.3429 - accuracy: 0.8478 - val_loss: 0.1853 - val_accuracy: 0.9504\n",
            "Epoch 16/100\n",
            "4/4 [==============================] - 0s 19ms/step - loss: 0.3409 - accuracy: 0.8496 - val_loss: 0.1840 - val_accuracy: 0.9504\n",
            "Epoch 17/100\n",
            "4/4 [==============================] - 0s 20ms/step - loss: 0.3364 - accuracy: 0.8533 - val_loss: 0.1747 - val_accuracy: 0.9587\n",
            "Epoch 18/100\n",
            "4/4 [==============================] - 0s 19ms/step - loss: 0.3353 - accuracy: 0.8527 - val_loss: 0.1767 - val_accuracy: 0.9587\n",
            "Epoch 19/100\n",
            "4/4 [==============================] - 0s 22ms/step - loss: 0.3407 - accuracy: 0.8515 - val_loss: 0.1826 - val_accuracy: 0.9559\n",
            "Epoch 20/100\n",
            "4/4 [==============================] - 0s 20ms/step - loss: 0.3421 - accuracy: 0.8462 - val_loss: 0.1884 - val_accuracy: 0.9504\n",
            "Epoch 21/100\n",
            "4/4 [==============================] - 0s 19ms/step - loss: 0.3406 - accuracy: 0.8502 - val_loss: 0.1819 - val_accuracy: 0.9504\n",
            "Epoch 22/100\n",
            "4/4 [==============================] - 0s 19ms/step - loss: 0.3314 - accuracy: 0.8597 - val_loss: 0.1868 - val_accuracy: 0.9504\n",
            "Epoch 23/100\n",
            "4/4 [==============================] - 0s 25ms/step - loss: 0.3371 - accuracy: 0.8499 - val_loss: 0.1835 - val_accuracy: 0.9532\n",
            "Epoch 24/100\n",
            "4/4 [==============================] - 0s 27ms/step - loss: 0.3352 - accuracy: 0.8521 - val_loss: 0.1800 - val_accuracy: 0.9587\n",
            "Epoch 25/100\n",
            "4/4 [==============================] - 0s 21ms/step - loss: 0.3378 - accuracy: 0.8588 - val_loss: 0.1696 - val_accuracy: 0.9587\n",
            "Epoch 26/100\n",
            "4/4 [==============================] - 0s 20ms/step - loss: 0.3398 - accuracy: 0.8533 - val_loss: 0.1713 - val_accuracy: 0.9587\n",
            "Epoch 27/100\n",
            "4/4 [==============================] - 0s 21ms/step - loss: 0.3414 - accuracy: 0.8567 - val_loss: 0.1761 - val_accuracy: 0.9587\n",
            "Epoch 28/100\n",
            "4/4 [==============================] - 0s 24ms/step - loss: 0.3429 - accuracy: 0.8524 - val_loss: 0.1744 - val_accuracy: 0.9587\n",
            "Epoch 29/100\n",
            "4/4 [==============================] - 0s 19ms/step - loss: 0.3395 - accuracy: 0.8505 - val_loss: 0.1818 - val_accuracy: 0.9587\n",
            "Epoch 30/100\n",
            "4/4 [==============================] - 0s 20ms/step - loss: 0.3356 - accuracy: 0.8530 - val_loss: 0.1787 - val_accuracy: 0.9587\n",
            "Epoch 31/100\n",
            "4/4 [==============================] - 0s 20ms/step - loss: 0.3376 - accuracy: 0.8524 - val_loss: 0.1792 - val_accuracy: 0.9587\n",
            "Epoch 32/100\n",
            "4/4 [==============================] - 0s 19ms/step - loss: 0.3315 - accuracy: 0.8557 - val_loss: 0.1821 - val_accuracy: 0.9587\n",
            "Epoch 33/100\n",
            "4/4 [==============================] - 0s 21ms/step - loss: 0.3481 - accuracy: 0.8438 - val_loss: 0.1826 - val_accuracy: 0.9587\n",
            "Epoch 34/100\n",
            "4/4 [==============================] - 0s 20ms/step - loss: 0.3334 - accuracy: 0.8588 - val_loss: 0.1870 - val_accuracy: 0.9532\n",
            "Epoch 35/100\n",
            "4/4 [==============================] - 0s 21ms/step - loss: 0.3359 - accuracy: 0.8564 - val_loss: 0.1816 - val_accuracy: 0.9587\n",
            "Epoch 36/100\n",
            "4/4 [==============================] - 0s 20ms/step - loss: 0.3362 - accuracy: 0.8557 - val_loss: 0.1826 - val_accuracy: 0.9532\n",
            "Epoch 37/100\n",
            "4/4 [==============================] - 0s 20ms/step - loss: 0.3306 - accuracy: 0.8591 - val_loss: 0.1785 - val_accuracy: 0.9587\n",
            "Epoch 38/100\n",
            "4/4 [==============================] - 0s 19ms/step - loss: 0.3392 - accuracy: 0.8524 - val_loss: 0.1890 - val_accuracy: 0.9532\n",
            "Epoch 39/100\n",
            "4/4 [==============================] - 0s 24ms/step - loss: 0.3393 - accuracy: 0.8560 - val_loss: 0.1765 - val_accuracy: 0.9587\n",
            "Epoch 40/100\n",
            "4/4 [==============================] - 0s 19ms/step - loss: 0.3303 - accuracy: 0.8579 - val_loss: 0.1912 - val_accuracy: 0.9504\n",
            "Epoch 41/100\n",
            "4/4 [==============================] - 0s 19ms/step - loss: 0.3319 - accuracy: 0.8597 - val_loss: 0.1830 - val_accuracy: 0.9587\n",
            "Epoch 42/100\n",
            "4/4 [==============================] - 0s 21ms/step - loss: 0.3386 - accuracy: 0.8472 - val_loss: 0.1860 - val_accuracy: 0.9587\n",
            "Epoch 43/100\n",
            "4/4 [==============================] - 0s 23ms/step - loss: 0.3415 - accuracy: 0.8524 - val_loss: 0.1838 - val_accuracy: 0.9587\n",
            "Epoch 44/100\n",
            "4/4 [==============================] - 0s 19ms/step - loss: 0.3438 - accuracy: 0.8484 - val_loss: 0.1854 - val_accuracy: 0.9587\n",
            "Epoch 45/100\n",
            "4/4 [==============================] - 0s 21ms/step - loss: 0.3363 - accuracy: 0.8567 - val_loss: 0.1809 - val_accuracy: 0.9587\n",
            "Epoch 46/100\n",
            "4/4 [==============================] - 0s 20ms/step - loss: 0.3427 - accuracy: 0.8515 - val_loss: 0.1898 - val_accuracy: 0.9504\n",
            "Epoch 47/100\n",
            "4/4 [==============================] - 0s 22ms/step - loss: 0.3232 - accuracy: 0.8646 - val_loss: 0.1840 - val_accuracy: 0.9587\n",
            "Epoch 48/100\n",
            "4/4 [==============================] - 0s 20ms/step - loss: 0.3384 - accuracy: 0.8518 - val_loss: 0.1831 - val_accuracy: 0.9587\n",
            "Epoch 49/100\n",
            "4/4 [==============================] - 0s 20ms/step - loss: 0.3344 - accuracy: 0.8542 - val_loss: 0.1730 - val_accuracy: 0.9587\n",
            "Epoch 50/100\n",
            "4/4 [==============================] - 0s 20ms/step - loss: 0.3368 - accuracy: 0.8539 - val_loss: 0.1812 - val_accuracy: 0.9587\n",
            "Epoch 51/100\n",
            "4/4 [==============================] - 0s 21ms/step - loss: 0.3321 - accuracy: 0.8557 - val_loss: 0.1799 - val_accuracy: 0.9587\n",
            "Epoch 52/100\n",
            "4/4 [==============================] - 0s 21ms/step - loss: 0.3363 - accuracy: 0.8496 - val_loss: 0.1773 - val_accuracy: 0.9587\n",
            "Epoch 53/100\n",
            "4/4 [==============================] - 0s 21ms/step - loss: 0.3396 - accuracy: 0.8472 - val_loss: 0.1777 - val_accuracy: 0.9587\n",
            "Epoch 54/100\n",
            "4/4 [==============================] - 0s 20ms/step - loss: 0.3320 - accuracy: 0.8564 - val_loss: 0.1658 - val_accuracy: 0.9587\n",
            "Epoch 55/100\n",
            "4/4 [==============================] - 0s 23ms/step - loss: 0.3383 - accuracy: 0.8570 - val_loss: 0.1678 - val_accuracy: 0.9587\n",
            "Epoch 56/100\n",
            "4/4 [==============================] - 0s 20ms/step - loss: 0.3328 - accuracy: 0.8567 - val_loss: 0.1733 - val_accuracy: 0.9587\n",
            "Epoch 57/100\n",
            "4/4 [==============================] - 0s 20ms/step - loss: 0.3390 - accuracy: 0.8564 - val_loss: 0.1774 - val_accuracy: 0.9587\n",
            "Epoch 58/100\n",
            "4/4 [==============================] - 0s 23ms/step - loss: 0.3475 - accuracy: 0.8518 - val_loss: 0.1772 - val_accuracy: 0.9559\n",
            "Epoch 59/100\n",
            "4/4 [==============================] - 0s 24ms/step - loss: 0.3431 - accuracy: 0.8560 - val_loss: 0.1800 - val_accuracy: 0.9559\n",
            "Epoch 60/100\n",
            "4/4 [==============================] - 0s 23ms/step - loss: 0.3312 - accuracy: 0.8573 - val_loss: 0.1925 - val_accuracy: 0.9504\n",
            "Epoch 61/100\n",
            "4/4 [==============================] - 0s 21ms/step - loss: 0.3358 - accuracy: 0.8551 - val_loss: 0.1849 - val_accuracy: 0.9559\n",
            "Epoch 62/100\n",
            "4/4 [==============================] - 0s 20ms/step - loss: 0.3398 - accuracy: 0.8487 - val_loss: 0.1849 - val_accuracy: 0.9532\n",
            "Epoch 63/100\n",
            "4/4 [==============================] - 0s 20ms/step - loss: 0.3304 - accuracy: 0.8539 - val_loss: 0.1851 - val_accuracy: 0.9559\n",
            "Epoch 64/100\n",
            "4/4 [==============================] - 0s 20ms/step - loss: 0.3311 - accuracy: 0.8527 - val_loss: 0.1828 - val_accuracy: 0.9587\n",
            "Epoch 65/100\n",
            "4/4 [==============================] - 0s 21ms/step - loss: 0.3354 - accuracy: 0.8515 - val_loss: 0.1916 - val_accuracy: 0.9504\n",
            "Epoch 66/100\n",
            "4/4 [==============================] - 0s 20ms/step - loss: 0.3363 - accuracy: 0.8551 - val_loss: 0.1837 - val_accuracy: 0.9559\n",
            "Epoch 67/100\n",
            "4/4 [==============================] - 0s 20ms/step - loss: 0.3387 - accuracy: 0.8490 - val_loss: 0.1825 - val_accuracy: 0.9559\n",
            "Epoch 68/100\n",
            "4/4 [==============================] - 0s 20ms/step - loss: 0.3381 - accuracy: 0.8515 - val_loss: 0.1804 - val_accuracy: 0.9559\n",
            "Epoch 69/100\n",
            "4/4 [==============================] - 0s 21ms/step - loss: 0.3364 - accuracy: 0.8551 - val_loss: 0.1795 - val_accuracy: 0.9559\n",
            "Epoch 70/100\n",
            "4/4 [==============================] - 0s 24ms/step - loss: 0.3293 - accuracy: 0.8567 - val_loss: 0.1860 - val_accuracy: 0.9504\n",
            "Epoch 71/100\n",
            "4/4 [==============================] - 0s 20ms/step - loss: 0.3436 - accuracy: 0.8524 - val_loss: 0.1830 - val_accuracy: 0.9559\n",
            "Epoch 72/100\n",
            "4/4 [==============================] - 0s 23ms/step - loss: 0.3375 - accuracy: 0.8545 - val_loss: 0.1874 - val_accuracy: 0.9504\n",
            "Epoch 73/100\n",
            "4/4 [==============================] - 0s 24ms/step - loss: 0.3367 - accuracy: 0.8573 - val_loss: 0.1877 - val_accuracy: 0.9559\n",
            "Epoch 74/100\n",
            "4/4 [==============================] - 0s 24ms/step - loss: 0.3336 - accuracy: 0.8539 - val_loss: 0.1806 - val_accuracy: 0.9559\n",
            "Epoch 75/100\n",
            "4/4 [==============================] - 0s 20ms/step - loss: 0.3329 - accuracy: 0.8536 - val_loss: 0.1806 - val_accuracy: 0.9559\n",
            "Epoch 76/100\n",
            "4/4 [==============================] - 0s 23ms/step - loss: 0.3410 - accuracy: 0.8524 - val_loss: 0.1796 - val_accuracy: 0.9559\n",
            "Epoch 77/100\n",
            "4/4 [==============================] - 0s 20ms/step - loss: 0.3379 - accuracy: 0.8548 - val_loss: 0.1829 - val_accuracy: 0.9559\n",
            "Epoch 78/100\n",
            "4/4 [==============================] - 0s 20ms/step - loss: 0.3363 - accuracy: 0.8542 - val_loss: 0.1836 - val_accuracy: 0.9559\n",
            "Epoch 79/100\n",
            "4/4 [==============================] - 0s 21ms/step - loss: 0.3350 - accuracy: 0.8518 - val_loss: 0.1838 - val_accuracy: 0.9504\n",
            "Epoch 80/100\n",
            "4/4 [==============================] - 0s 20ms/step - loss: 0.3279 - accuracy: 0.8600 - val_loss: 0.1857 - val_accuracy: 0.9504\n",
            "Epoch 81/100\n",
            "4/4 [==============================] - 0s 24ms/step - loss: 0.3314 - accuracy: 0.8591 - val_loss: 0.1799 - val_accuracy: 0.9559\n",
            "Epoch 82/100\n",
            "4/4 [==============================] - 0s 20ms/step - loss: 0.3371 - accuracy: 0.8530 - val_loss: 0.1837 - val_accuracy: 0.9504\n",
            "Epoch 83/100\n",
            "4/4 [==============================] - 0s 21ms/step - loss: 0.3401 - accuracy: 0.8515 - val_loss: 0.1930 - val_accuracy: 0.9504\n",
            "Epoch 84/100\n",
            "4/4 [==============================] - 0s 20ms/step - loss: 0.3381 - accuracy: 0.8493 - val_loss: 0.1769 - val_accuracy: 0.9559\n",
            "Epoch 85/100\n",
            "4/4 [==============================] - 0s 20ms/step - loss: 0.3385 - accuracy: 0.8530 - val_loss: 0.1849 - val_accuracy: 0.9504\n",
            "Epoch 86/100\n",
            "4/4 [==============================] - 0s 20ms/step - loss: 0.3325 - accuracy: 0.8591 - val_loss: 0.1791 - val_accuracy: 0.9559\n",
            "Epoch 87/100\n",
            "4/4 [==============================] - 0s 20ms/step - loss: 0.3345 - accuracy: 0.8536 - val_loss: 0.1847 - val_accuracy: 0.9559\n",
            "Epoch 88/100\n",
            "4/4 [==============================] - 0s 20ms/step - loss: 0.3318 - accuracy: 0.8567 - val_loss: 0.1865 - val_accuracy: 0.9504\n",
            "Epoch 89/100\n",
            "4/4 [==============================] - 0s 26ms/step - loss: 0.3353 - accuracy: 0.8545 - val_loss: 0.1868 - val_accuracy: 0.9504\n",
            "Epoch 90/100\n",
            "4/4 [==============================] - 0s 22ms/step - loss: 0.3311 - accuracy: 0.8613 - val_loss: 0.1897 - val_accuracy: 0.9504\n",
            "Epoch 91/100\n",
            "4/4 [==============================] - 0s 21ms/step - loss: 0.3296 - accuracy: 0.8643 - val_loss: 0.1933 - val_accuracy: 0.9477\n",
            "Epoch 92/100\n",
            "4/4 [==============================] - 0s 22ms/step - loss: 0.3355 - accuracy: 0.8588 - val_loss: 0.1859 - val_accuracy: 0.9504\n",
            "Epoch 93/100\n",
            "4/4 [==============================] - 0s 20ms/step - loss: 0.3341 - accuracy: 0.8564 - val_loss: 0.1949 - val_accuracy: 0.9477\n",
            "Epoch 94/100\n",
            "4/4 [==============================] - 0s 19ms/step - loss: 0.3271 - accuracy: 0.8606 - val_loss: 0.1966 - val_accuracy: 0.9449\n",
            "Epoch 95/100\n",
            "4/4 [==============================] - 0s 19ms/step - loss: 0.3379 - accuracy: 0.8493 - val_loss: 0.1923 - val_accuracy: 0.9477\n",
            "Epoch 96/100\n",
            "4/4 [==============================] - 0s 21ms/step - loss: 0.3321 - accuracy: 0.8576 - val_loss: 0.1875 - val_accuracy: 0.9504\n",
            "Epoch 97/100\n",
            "4/4 [==============================] - 0s 21ms/step - loss: 0.3295 - accuracy: 0.8603 - val_loss: 0.1910 - val_accuracy: 0.9477\n",
            "Epoch 98/100\n",
            "4/4 [==============================] - 0s 20ms/step - loss: 0.3288 - accuracy: 0.8539 - val_loss: 0.1929 - val_accuracy: 0.9504\n",
            "Epoch 99/100\n",
            "4/4 [==============================] - 0s 21ms/step - loss: 0.3374 - accuracy: 0.8573 - val_loss: 0.1896 - val_accuracy: 0.9532\n",
            "Epoch 100/100\n",
            "4/4 [==============================] - 0s 20ms/step - loss: 0.3302 - accuracy: 0.8603 - val_loss: 0.1801 - val_accuracy: 0.9559\n"
          ]
        }
      ]
    },
    {
      "cell_type": "code",
      "metadata": {
        "colab": {
          "base_uri": "https://localhost:8080/"
        },
        "id": "OPTiEHHSLosQ",
        "outputId": "e2ad0fbe-a38a-4528-ac92-be1e0ebfaf47"
      },
      "source": [
        "def nothing_val(word):#元データ内にその単語が存在するか確認\n",
        "  for w in alpha:\n",
        "    if word==w:\n",
        "      return False\n",
        "  return True\n",
        "nothing_val('joker')"
      ],
      "execution_count": 329,
      "outputs": [
        {
          "output_type": "execute_result",
          "data": {
            "text/plain": [
              "True"
            ]
          },
          "metadata": {},
          "execution_count": 329
        }
      ]
    },
    {
      "cell_type": "markdown",
      "metadata": {
        "id": "VQJgA_TJYcrz"
      },
      "source": [
        "単語とベクトルの変換用関数"
      ]
    },
    {
      "cell_type": "code",
      "metadata": {
        "colab": {
          "base_uri": "https://localhost:8080/"
        },
        "id": "jtRkMIKrMtU2",
        "outputId": "b758b5da-19e9-4afc-96d9-d242dfd75372"
      },
      "source": [
        "def word2num(word):\n",
        "  num=[]\n",
        "  for id in range(len(word)):\n",
        "    num.append(dic[word[id]])\n",
        "  return num\n",
        "def num2word(nums):\n",
        "  word=''\n",
        "  for i in nums:\n",
        "    word+=char[i]\n",
        "  return word\n",
        "print(num2word([12, 3, 0, 18, 19]))\n",
        "print(word2num(\"beast\"))"
      ],
      "execution_count": 324,
      "outputs": [
        {
          "output_type": "stream",
          "name": "stdout",
          "text": [
            "beast\n",
            "[12, 3, 0, 18, 19]\n"
          ]
        }
      ]
    },
    {
      "cell_type": "markdown",
      "metadata": {
        "id": "pjHRERjtQCd_"
      },
      "source": [
        "テスト　訓練データに含めていない\"beast\"や\"blade\"を正しく「存在する英単語」と判断していることが分かる"
      ]
    },
    {
      "cell_type": "code",
      "metadata": {
        "colab": {
          "base_uri": "https://localhost:8080/"
        },
        "id": "GymoFQ25NpuI",
        "outputId": "f362b5c7-981d-496b-d9f2-6e941d207133"
      },
      "source": [
        "test_words=[\"beast\",\"blade\",\"joker\",\"kdjus\",\"adjsa\"]\n",
        "y_test=[1,1,1,0,0]\n",
        "x_test=[]\n",
        "for word in test_words:\n",
        "  num=word2num(word)\n",
        "  x_test.append(num)\n",
        "\n",
        "test_loss, test_acc = model_1.evaluate(x_test, y_test, verbose=0)\n",
        "print(test_loss)\n",
        "print(test_acc)\n",
        "predictions = model_1.predict(x_test)\n",
        "print(predictions)"
      ],
      "execution_count": 325,
      "outputs": [
        {
          "output_type": "stream",
          "name": "stdout",
          "text": [
            "0.053424347192049026\n",
            "1.0\n",
            "[[0.09505937 0.90494066]\n",
            " [0.04268322 0.95731676]\n",
            " [0.10374782 0.89625216]\n",
            " [0.99711215 0.00288786]\n",
            " [0.98887306 0.01112699]]\n"
          ]
        }
      ]
    },
    {
      "cell_type": "markdown",
      "metadata": {
        "id": "RsY1461EYiFp"
      },
      "source": [
        "大量のランダム文字列とペクトルを生成し、予測結果の「存在する単語」である確率が大きい順にソート"
      ]
    },
    {
      "cell_type": "code",
      "metadata": {
        "id": "kLmqoFb3UmpW"
      },
      "source": [
        "randomlist,randomword=generate(data_size=300000)\n",
        "r_pred=model_1.predict(randomlist)\n",
        "item=[]\n",
        "for i in range(len(r_pred)):\n",
        "  res=[i,r_pred[i][0]]\n",
        "  item.append(res)\n",
        "item.sort(key=lambda item:item[1])"
      ],
      "execution_count": 326,
      "outputs": []
    },
    {
      "cell_type": "markdown",
      "metadata": {
        "id": "NDJSVAl7Y4uM"
      },
      "source": [
        "予測結果が「正しい単語」に最も近い30単語を生成して表示。\n",
        "なんとなく「英単語にありそう」な雰囲気の文字列があることがわかる（？）\n",
        "(\"prase\"は「緑石英」という意味だそうです。元データには入っていません。やったね！)"
      ]
    },
    {
      "cell_type": "code",
      "metadata": {
        "colab": {
          "base_uri": "https://localhost:8080/"
        },
        "id": "2rC4ZIKNOM-Q",
        "outputId": "0e7318cf-84dc-47cd-8062-8b691e78ef36"
      },
      "source": [
        "top=30\n",
        "ans=[]\n",
        "for i in range(top):\n",
        "  id=item[i][0]\n",
        "  ans.append([randomword[id],item[i][1]])\n",
        "  print([randomword[id],item[i][1]])"
      ],
      "execution_count": 327,
      "outputs": [
        {
          "output_type": "stream",
          "name": "stdout",
          "text": [
            "['prase', 0.04011614]\n",
            "['plapo', 0.040139616]\n",
            "['dgace', 0.040400464]\n",
            "['byace', 0.040451527]\n",
            "['kgace', 0.040590085]\n",
            "['kgace', 0.040590085]\n",
            "['byafe', 0.040914893]\n",
            "['cyalu', 0.04107978]\n",
            "['zbavo', 0.041239113]\n",
            "['fbape', 0.04125736]\n",
            "['fraco', 0.0413994]\n",
            "['rhabe', 0.041451566]\n",
            "['sratm', 0.041512333]\n",
            "['acaki', 0.041539103]\n",
            "['byado', 0.041580204]\n",
            "['dgabo', 0.04161989]\n",
            "['prafm', 0.0417477]\n",
            "['spavo', 0.04181343]\n",
            "['flapm', 0.041819416]\n",
            "['trade', 0.041900836]\n",
            "['zcaxo', 0.042009134]\n",
            "['lgade', 0.042012855]\n",
            "['kcaso', 0.04204868]\n",
            "['adavu', 0.042108234]\n",
            "['jcawo', 0.04211275]\n",
            "['tcate', 0.042118844]\n",
            "['cgafm', 0.042122904]\n",
            "['fpate', 0.04216026]\n",
            "['tkavo', 0.042164136]\n",
            "['zrato', 0.0421809]\n"
          ]
        }
      ]
    }
  ]
}