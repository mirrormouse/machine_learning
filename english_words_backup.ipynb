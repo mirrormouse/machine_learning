{
  "nbformat": 4,
  "nbformat_minor": 0,
  "metadata": {
    "colab": {
      "name": "english_words_backup.ipynb",
      "provenance": [],
      "collapsed_sections": [],
      "authorship_tag": "ABX9TyNyr7dHhM5iq0n8bHckt1NX",
      "include_colab_link": true
    },
    "kernelspec": {
      "name": "python3",
      "display_name": "Python 3"
    },
    "language_info": {
      "name": "python"
    }
  },
  "cells": [
    {
      "cell_type": "markdown",
      "metadata": {
        "id": "view-in-github",
        "colab_type": "text"
      },
      "source": [
        "<a href=\"https://colab.research.google.com/github/mirrormouse/machine_learning/blob/main/english_words_backup.ipynb\" target=\"_parent\"><img src=\"https://colab.research.google.com/assets/colab-badge.svg\" alt=\"Open In Colab\"/></a>"
      ]
    },
    {
      "cell_type": "markdown",
      "metadata": {
        "id": "ugazApsSPAwx"
      },
      "source": [
        "アルファベットと数字の変換準備"
      ]
    },
    {
      "cell_type": "code",
      "metadata": {
        "colab": {
          "base_uri": "https://localhost:8080/"
        },
        "id": "RlLgzl_htT7V",
        "outputId": "9c4ecac7-b623-4555-f42e-5f18070028c8"
      },
      "source": [
        "char=\"abcdefghijklmnopqrstuvwxyz\"\n",
        "dic={}\n",
        "for i in range(len(char)):\n",
        "  dic[char[i]]=i\n",
        "print(dic['l'])"
      ],
      "execution_count": null,
      "outputs": [
        {
          "output_type": "stream",
          "name": "stdout",
          "text": [
            "11\n"
          ]
        }
      ]
    },
    {
      "cell_type": "markdown",
      "metadata": {
        "id": "VM_FPnhRPCqh"
      },
      "source": [
        "ドライブをインポート"
      ]
    },
    {
      "cell_type": "code",
      "metadata": {
        "colab": {
          "base_uri": "https://localhost:8080/"
        },
        "id": "zPL4SZ9oxGWS",
        "outputId": "5ec612ea-4b14-4676-b94a-00b1b184b04d"
      },
      "source": [
        "from google.colab import drive\n",
        "drive.mount('/content/drive')"
      ],
      "execution_count": null,
      "outputs": [
        {
          "output_type": "stream",
          "name": "stdout",
          "text": [
            "Drive already mounted at /content/drive; to attempt to forcibly remount, call drive.mount(\"/content/drive\", force_remount=True).\n"
          ]
        }
      ]
    },
    {
      "cell_type": "markdown",
      "metadata": {
        "id": "jj6NOPBKO_Rt"
      },
      "source": [
        "でたらめな５文字からなる「ランダム文字列」を生成。これを上のcharに対応させて数値に変換\n",
        "例）[\"abcdz\",...]->[[0,1,2,3,25],...]"
      ]
    },
    {
      "cell_type": "code",
      "metadata": {
        "id": "Y-y14Hz-uPu2"
      },
      "source": [
        "import random\n",
        "def generate(data_size=1000,length=5):\n",
        "  random_list=[]\n",
        "  random_words=[]\n",
        "  for i in range(data_size):\n",
        "    word=''\n",
        "    num=[]\n",
        "    for j in range(length):\n",
        "      a=random.randrange(26)\n",
        "      c=char[a]\n",
        "      word+=c\n",
        "      num.append(a)\n",
        "    random_list.append(num)\n",
        "    random_words.append(word)\n",
        "  return random_list,random_words\n",
        "\n",
        "lists,word=generate()"
      ],
      "execution_count": null,
      "outputs": []
    },
    {
      "cell_type": "markdown",
      "metadata": {
        "id": "10LnnM3LPMa0"
      },
      "source": [
        "英文データの読み込み"
      ]
    },
    {
      "cell_type": "code",
      "metadata": {
        "colab": {
          "base_uri": "https://localhost:8080/"
        },
        "id": "TgTsxOv3xPeo",
        "outputId": "ac99dbdc-bfc3-4056-bbff-436a89c4e2db"
      },
      "source": [
        "base='drive/MyDrive/ML/train/'\n",
        "f = open(base+'train.txt', 'r')\n",
        "rawdata = f.read()\n",
        "data=rawdata.split()\n",
        "print(data[:5])\n",
        "f.close()"
      ],
      "execution_count": null,
      "outputs": [
        {
          "output_type": "stream",
          "name": "stdout",
          "text": [
            "['The', 'two', 'submarines', 'of', 'the']\n"
          ]
        }
      ]
    },
    {
      "cell_type": "markdown",
      "metadata": {
        "id": "ysmjBqkZPPpL"
      },
      "source": [
        "５文字の長さの英単語だけを大量に抽出し、「存在する英単語」としてまとめる。これも数値に変換。"
      ]
    },
    {
      "cell_type": "code",
      "metadata": {
        "colab": {
          "base_uri": "https://localhost:8080/"
        },
        "id": "J00DjuNp41h6",
        "outputId": "a018ad10-01ed-4965-e5a5-c8a33e92c3f8"
      },
      "source": [
        "import re\n",
        "def correct_generate(rawdata,data_size=10000,length=5):\n",
        "  alpha_data=[]\n",
        "  for word in rawdata:\n",
        "    word=word.lower()\n",
        "    res = re.sub(r'[^a-zA-Z]', '', word)\n",
        "    if len(res)==length:\n",
        "      alpha_data.append(res)\n",
        "  set_alpha=list(set(alpha_data))\n",
        "\n",
        "  beta_data=[]\n",
        "  for word in set_alpha:\n",
        "    num=[]\n",
        "    for id in range(len(word)):\n",
        "      c=word[id]\n",
        "      num.append(dic[c])\n",
        "    beta_data.append(num)\n",
        "  size=len(beta_data)\n",
        "  print(size)\n",
        "  return set_alpha, beta_data, size\n",
        "\n",
        "_,beta,_=correct_generate(data)\n",
        "print(beta[:5])"
      ],
      "execution_count": null,
      "outputs": [
        {
          "output_type": "stream",
          "name": "stdout",
          "text": [
            "961\n",
            "[[2, 0, 19, 2, 7], [3, 17, 14, 22, 13], [2, 11, 14, 18, 4], [22, 0, 19, 2, 7], [1, 17, 8, 13, 6]]\n"
          ]
        }
      ]
    },
    {
      "cell_type": "markdown",
      "metadata": {
        "id": "R8FrppwtPryp"
      },
      "source": [
        "訓練データの生成（上で作った２つを繋げるだけ）"
      ]
    },
    {
      "cell_type": "code",
      "metadata": {
        "id": "QtAJ1L8863Ek",
        "colab": {
          "base_uri": "https://localhost:8080/"
        },
        "outputId": "84ddbcf4-595e-4cda-bc3a-de64f90a3446"
      },
      "source": [
        "x_train_rawlist=lists+beta\n",
        "y_train_list=[]\n",
        "for i in range(len(lists)):\n",
        "  y_train_list.append(0)\n",
        "for i in range(len(beta)):\n",
        "  y_train_list.append(1)\n",
        "print(x_train_rawlist[0])"
      ],
      "execution_count": null,
      "outputs": [
        {
          "output_type": "stream",
          "name": "stdout",
          "text": [
            "[11, 1, 22, 16, 10]\n"
          ]
        }
      ]
    },
    {
      "cell_type": "markdown",
      "metadata": {
        "id": "mWC4iY4FPtW7"
      },
      "source": [
        "訓練データのリストをnumpyに変換。正解ラベルを生成"
      ]
    },
    {
      "cell_type": "code",
      "metadata": {
        "colab": {
          "base_uri": "https://localhost:8080/"
        },
        "id": "-lBGCnS7Hq6S",
        "outputId": "e3bb5873-c1e9-42f9-8b55-a1d327cc30ee"
      },
      "source": [
        "import numpy as np\n",
        "x_train_list=[]\n",
        "for data in x_train_rawlist:\n",
        "  item=[]\n",
        "  for num in data:\n",
        "    one_hot=np.zeros(26)\n",
        "    one_hot[num]=1\n",
        "    one_hot_list=one_hot.tolist()\n",
        "    item.append(one_hot_list)\n",
        "  x_train_list.append(item)\n",
        "x_train=np.array(x_train_list)\n",
        "y_train=np.array(y_train_list)\n",
        "print(x_train[0])\n",
        "print(y_train[-5:])"
      ],
      "execution_count": null,
      "outputs": [
        {
          "output_type": "stream",
          "name": "stdout",
          "text": [
            "[[0. 0. 0. 0. 0. 0. 0. 0. 0. 0. 0. 1. 0. 0. 0. 0. 0. 0. 0. 0. 0. 0. 0. 0.\n",
            "  0. 0.]\n",
            " [0. 1. 0. 0. 0. 0. 0. 0. 0. 0. 0. 0. 0. 0. 0. 0. 0. 0. 0. 0. 0. 0. 0. 0.\n",
            "  0. 0.]\n",
            " [0. 0. 0. 0. 0. 0. 0. 0. 0. 0. 0. 0. 0. 0. 0. 0. 0. 0. 0. 0. 0. 0. 1. 0.\n",
            "  0. 0.]\n",
            " [0. 0. 0. 0. 0. 0. 0. 0. 0. 0. 0. 0. 0. 0. 0. 0. 1. 0. 0. 0. 0. 0. 0. 0.\n",
            "  0. 0.]\n",
            " [0. 0. 0. 0. 0. 0. 0. 0. 0. 0. 1. 0. 0. 0. 0. 0. 0. 0. 0. 0. 0. 0. 0. 0.\n",
            "  0. 0.]]\n",
            "[1 1 1 1 1]\n"
          ]
        }
      ]
    },
    {
      "cell_type": "code",
      "metadata": {
        "colab": {
          "base_uri": "https://localhost:8080/"
        },
        "id": "nzGnUsqxoI1_",
        "outputId": "fc7f3e0a-e881-463e-e6db-4fa0dd6fbe36"
      },
      "source": [
        "print(x_train.shape)\n",
        "print(y_train.shape)"
      ],
      "execution_count": null,
      "outputs": [
        {
          "output_type": "stream",
          "name": "stdout",
          "text": [
            "(1961, 5, 26)\n",
            "(1961,)\n"
          ]
        }
      ]
    },
    {
      "cell_type": "markdown",
      "metadata": {
        "id": "MXdrbTQ7P1S3"
      },
      "source": [
        "ディープラーニングモデルを作る"
      ]
    },
    {
      "cell_type": "code",
      "metadata": {
        "colab": {
          "base_uri": "https://localhost:8080/"
        },
        "id": "cXqsjsKAHTzi",
        "outputId": "19f44ef9-3a4b-4033-a252-73d1b4bf36bb"
      },
      "source": [
        "import tensorflow as tf\n",
        "from tensorflow.keras.models import Sequential\n",
        "model_1 = tf.keras.Sequential(name='my_model')\n",
        "model_1.add(tf.keras.layers.Flatten(input_shape=(5,26), name='flatten_layer_1'))\n",
        "model_1.add(tf.keras.layers.Dense(128, activation='relu'))\n",
        "model_1.add(tf.keras.layers.Dropout(0.2))\n",
        "model_1.add(tf.keras.layers.Dense(256, activation='relu'))\n",
        "model_1.add(tf.keras.layers.Dropout(0.2))\n",
        "model_1.add(tf.keras.layers.Dense(512, activation='relu'))\n",
        "model_1.add(tf.keras.layers.Dropout(0.2))\n",
        "model_1.add(tf.keras.layers.Dense(256, activation='relu'))\n",
        "model_1.add(tf.keras.layers.Dropout(0.1))\n",
        "model_1.add(tf.keras.layers.Dense(128, activation='relu'))\n",
        "model_1.add(tf.keras.layers.Dropout(0.1))\n",
        "model_1.add(tf.keras.layers.Dense(2, activation='softmax'))\n",
        "\n",
        "model_1.summary()"
      ],
      "execution_count": null,
      "outputs": [
        {
          "output_type": "stream",
          "name": "stdout",
          "text": [
            "Model: \"my_model\"\n",
            "_________________________________________________________________\n",
            "Layer (type)                 Output Shape              Param #   \n",
            "=================================================================\n",
            "flatten_layer_1 (Flatten)    (None, 130)               0         \n",
            "_________________________________________________________________\n",
            "dense_36 (Dense)             (None, 128)               16768     \n",
            "_________________________________________________________________\n",
            "dropout_30 (Dropout)         (None, 128)               0         \n",
            "_________________________________________________________________\n",
            "dense_37 (Dense)             (None, 256)               33024     \n",
            "_________________________________________________________________\n",
            "dropout_31 (Dropout)         (None, 256)               0         \n",
            "_________________________________________________________________\n",
            "dense_38 (Dense)             (None, 512)               131584    \n",
            "_________________________________________________________________\n",
            "dropout_32 (Dropout)         (None, 512)               0         \n",
            "_________________________________________________________________\n",
            "dense_39 (Dense)             (None, 256)               131328    \n",
            "_________________________________________________________________\n",
            "dropout_33 (Dropout)         (None, 256)               0         \n",
            "_________________________________________________________________\n",
            "dense_40 (Dense)             (None, 128)               32896     \n",
            "_________________________________________________________________\n",
            "dropout_34 (Dropout)         (None, 128)               0         \n",
            "_________________________________________________________________\n",
            "dense_41 (Dense)             (None, 2)                 258       \n",
            "=================================================================\n",
            "Total params: 345,858\n",
            "Trainable params: 345,858\n",
            "Non-trainable params: 0\n",
            "_________________________________________________________________\n"
          ]
        }
      ]
    },
    {
      "cell_type": "markdown",
      "metadata": {
        "id": "vKZjTLA_P5Mf"
      },
      "source": [
        "モデルのコンパイル"
      ]
    },
    {
      "cell_type": "code",
      "metadata": {
        "id": "BAM2I8V8JxXV"
      },
      "source": [
        "model_1.compile(optimizer='adam',\n",
        "              loss='sparse_categorical_crossentropy',\n",
        "              metrics=['accuracy'])"
      ],
      "execution_count": null,
      "outputs": []
    },
    {
      "cell_type": "markdown",
      "metadata": {
        "id": "7vcxNH2-P8D5"
      },
      "source": [
        "学習！"
      ]
    },
    {
      "cell_type": "code",
      "metadata": {
        "colab": {
          "base_uri": "https://localhost:8080/"
        },
        "id": "PckYyy8iJ6y7",
        "outputId": "8425a5a8-3574-4d1b-a246-76b5c1477c17"
      },
      "source": [
        "history = model_1.fit(x_train, y_train, batch_size=128, epochs=40,\n",
        "                    validation_split=0.1,shuffle=True )"
      ],
      "execution_count": null,
      "outputs": [
        {
          "output_type": "stream",
          "name": "stdout",
          "text": [
            "Epoch 1/40\n",
            "14/14 [==============================] - 1s 26ms/step - loss: 0.6508 - accuracy: 0.5737 - val_loss: 0.6018 - val_accuracy: 0.7716\n",
            "Epoch 2/40\n",
            "14/14 [==============================] - 0s 15ms/step - loss: 0.4178 - accuracy: 0.8282 - val_loss: 0.2213 - val_accuracy: 0.9340\n",
            "Epoch 3/40\n",
            "14/14 [==============================] - 0s 16ms/step - loss: 0.2845 - accuracy: 0.8810 - val_loss: 0.3820 - val_accuracy: 0.8680\n",
            "Epoch 4/40\n",
            "14/14 [==============================] - 0s 15ms/step - loss: 0.2266 - accuracy: 0.9167 - val_loss: 0.2369 - val_accuracy: 0.9239\n",
            "Epoch 5/40\n",
            "14/14 [==============================] - 0s 15ms/step - loss: 0.1838 - accuracy: 0.9286 - val_loss: 0.2018 - val_accuracy: 0.9289\n",
            "Epoch 6/40\n",
            "14/14 [==============================] - 0s 14ms/step - loss: 0.1578 - accuracy: 0.9450 - val_loss: 0.3543 - val_accuracy: 0.8782\n",
            "Epoch 7/40\n",
            "14/14 [==============================] - 0s 15ms/step - loss: 0.1413 - accuracy: 0.9501 - val_loss: 0.3748 - val_accuracy: 0.8782\n",
            "Epoch 8/40\n",
            "14/14 [==============================] - 0s 15ms/step - loss: 0.1225 - accuracy: 0.9558 - val_loss: 0.2476 - val_accuracy: 0.9188\n",
            "Epoch 9/40\n",
            "14/14 [==============================] - 0s 16ms/step - loss: 0.1181 - accuracy: 0.9552 - val_loss: 0.2366 - val_accuracy: 0.9289\n",
            "Epoch 10/40\n",
            "14/14 [==============================] - 0s 15ms/step - loss: 0.0947 - accuracy: 0.9660 - val_loss: 0.2403 - val_accuracy: 0.9289\n",
            "Epoch 11/40\n",
            "14/14 [==============================] - 0s 15ms/step - loss: 0.0859 - accuracy: 0.9705 - val_loss: 0.2938 - val_accuracy: 0.9137\n",
            "Epoch 12/40\n",
            "14/14 [==============================] - 0s 15ms/step - loss: 0.0666 - accuracy: 0.9779 - val_loss: 0.2522 - val_accuracy: 0.9289\n",
            "Epoch 13/40\n",
            "14/14 [==============================] - 0s 16ms/step - loss: 0.0606 - accuracy: 0.9756 - val_loss: 0.2816 - val_accuracy: 0.9289\n",
            "Epoch 14/40\n",
            "14/14 [==============================] - 0s 15ms/step - loss: 0.0464 - accuracy: 0.9836 - val_loss: 0.3847 - val_accuracy: 0.9188\n",
            "Epoch 15/40\n",
            "14/14 [==============================] - 0s 15ms/step - loss: 0.0528 - accuracy: 0.9819 - val_loss: 0.4265 - val_accuracy: 0.8985\n",
            "Epoch 16/40\n",
            "14/14 [==============================] - 0s 16ms/step - loss: 0.0450 - accuracy: 0.9836 - val_loss: 0.3023 - val_accuracy: 0.9340\n",
            "Epoch 17/40\n",
            "14/14 [==============================] - 0s 16ms/step - loss: 0.0502 - accuracy: 0.9819 - val_loss: 0.3010 - val_accuracy: 0.9239\n",
            "Epoch 18/40\n",
            "14/14 [==============================] - 0s 15ms/step - loss: 0.0406 - accuracy: 0.9864 - val_loss: 0.3791 - val_accuracy: 0.9188\n",
            "Epoch 19/40\n",
            "14/14 [==============================] - 0s 15ms/step - loss: 0.0277 - accuracy: 0.9904 - val_loss: 0.4763 - val_accuracy: 0.9036\n",
            "Epoch 20/40\n",
            "14/14 [==============================] - 0s 15ms/step - loss: 0.0344 - accuracy: 0.9892 - val_loss: 0.5156 - val_accuracy: 0.8680\n",
            "Epoch 21/40\n",
            "14/14 [==============================] - 0s 16ms/step - loss: 0.0317 - accuracy: 0.9892 - val_loss: 0.3382 - val_accuracy: 0.9239\n",
            "Epoch 22/40\n",
            "14/14 [==============================] - 0s 15ms/step - loss: 0.0279 - accuracy: 0.9909 - val_loss: 0.2813 - val_accuracy: 0.9239\n",
            "Epoch 23/40\n",
            "14/14 [==============================] - 0s 16ms/step - loss: 0.0168 - accuracy: 0.9938 - val_loss: 0.4405 - val_accuracy: 0.9137\n",
            "Epoch 24/40\n",
            "14/14 [==============================] - 0s 15ms/step - loss: 0.0201 - accuracy: 0.9943 - val_loss: 0.4108 - val_accuracy: 0.9239\n",
            "Epoch 25/40\n",
            "14/14 [==============================] - 0s 15ms/step - loss: 0.0273 - accuracy: 0.9887 - val_loss: 0.5662 - val_accuracy: 0.8934\n",
            "Epoch 26/40\n",
            "14/14 [==============================] - 0s 16ms/step - loss: 0.0152 - accuracy: 0.9938 - val_loss: 0.5408 - val_accuracy: 0.8832\n",
            "Epoch 27/40\n",
            "14/14 [==============================] - 0s 15ms/step - loss: 0.0237 - accuracy: 0.9915 - val_loss: 0.3618 - val_accuracy: 0.9086\n",
            "Epoch 28/40\n",
            "14/14 [==============================] - 0s 15ms/step - loss: 0.0185 - accuracy: 0.9938 - val_loss: 0.4381 - val_accuracy: 0.8985\n",
            "Epoch 29/40\n",
            "14/14 [==============================] - 0s 15ms/step - loss: 0.0150 - accuracy: 0.9960 - val_loss: 0.4112 - val_accuracy: 0.9036\n",
            "Epoch 30/40\n",
            "14/14 [==============================] - 0s 16ms/step - loss: 0.0179 - accuracy: 0.9949 - val_loss: 0.4454 - val_accuracy: 0.9036\n",
            "Epoch 31/40\n",
            "14/14 [==============================] - 0s 16ms/step - loss: 0.0103 - accuracy: 0.9972 - val_loss: 0.4778 - val_accuracy: 0.9086\n",
            "Epoch 32/40\n",
            "14/14 [==============================] - 0s 15ms/step - loss: 0.0129 - accuracy: 0.9938 - val_loss: 0.4972 - val_accuracy: 0.8985\n",
            "Epoch 33/40\n",
            "14/14 [==============================] - 0s 15ms/step - loss: 0.0078 - accuracy: 0.9972 - val_loss: 0.4064 - val_accuracy: 0.9239\n",
            "Epoch 34/40\n",
            "14/14 [==============================] - 0s 15ms/step - loss: 0.0122 - accuracy: 0.9955 - val_loss: 0.5238 - val_accuracy: 0.9086\n",
            "Epoch 35/40\n",
            "14/14 [==============================] - 0s 15ms/step - loss: 0.0176 - accuracy: 0.9943 - val_loss: 0.5398 - val_accuracy: 0.9086\n",
            "Epoch 36/40\n",
            "14/14 [==============================] - 0s 15ms/step - loss: 0.0144 - accuracy: 0.9949 - val_loss: 0.5214 - val_accuracy: 0.9036\n",
            "Epoch 37/40\n",
            "14/14 [==============================] - 0s 15ms/step - loss: 0.0112 - accuracy: 0.9955 - val_loss: 0.5673 - val_accuracy: 0.8985\n",
            "Epoch 38/40\n",
            "14/14 [==============================] - 0s 15ms/step - loss: 0.0084 - accuracy: 0.9966 - val_loss: 0.5874 - val_accuracy: 0.8985\n",
            "Epoch 39/40\n",
            "14/14 [==============================] - 0s 15ms/step - loss: 0.0112 - accuracy: 0.9960 - val_loss: 0.6715 - val_accuracy: 0.8883\n",
            "Epoch 40/40\n",
            "14/14 [==============================] - 0s 15ms/step - loss: 0.0099 - accuracy: 0.9949 - val_loss: 0.4469 - val_accuracy: 0.9188\n"
          ]
        }
      ]
    },
    {
      "cell_type": "code",
      "metadata": {
        "colab": {
          "base_uri": "https://localhost:8080/"
        },
        "id": "OPTiEHHSLosQ",
        "outputId": "9ba49c32-9c57-4c4e-a24d-4c68b8a232f1"
      },
      "source": [
        "def nothing_val(word):#元データ内にその単語が存在するか確認\n",
        "  for w in alpha:\n",
        "    if word==w:\n",
        "      return False\n",
        "  return True\n",
        "nothing_val('joker')\n",
        "nothing_val('beast')\n",
        "nothing_val('criry')"
      ],
      "execution_count": null,
      "outputs": [
        {
          "output_type": "execute_result",
          "data": {
            "text/plain": [
              "True"
            ]
          },
          "metadata": {},
          "execution_count": 99
        }
      ]
    },
    {
      "cell_type": "markdown",
      "metadata": {
        "id": "VQJgA_TJYcrz"
      },
      "source": [
        "単語とベクトルの変換用関数"
      ]
    },
    {
      "cell_type": "code",
      "metadata": {
        "colab": {
          "base_uri": "https://localhost:8080/"
        },
        "id": "jtRkMIKrMtU2",
        "outputId": "e7912944-be3f-4786-a7f1-d1473cf1f115"
      },
      "source": [
        "def word2num(word):\n",
        "  num=[]\n",
        "  for id in range(len(word)):\n",
        "    num.append(dic[word[id]])\n",
        "  return num\n",
        "def num2word(nums):\n",
        "  word=''\n",
        "  for i in nums:\n",
        "    word+=char[i]\n",
        "  return word\n",
        "print(num2word([1,4, 0, 18, 19]))\n",
        "print(word2num(\"beast\"))"
      ],
      "execution_count": null,
      "outputs": [
        {
          "output_type": "stream",
          "name": "stdout",
          "text": [
            "beast\n",
            "[1, 4, 0, 18, 19]\n"
          ]
        }
      ]
    },
    {
      "cell_type": "markdown",
      "metadata": {
        "id": "pjHRERjtQCd_"
      },
      "source": [
        "テスト　訓練データに含めていない\"beast\"や\"blade\"を正しく「存在する英単語」と判断していることが分かる"
      ]
    },
    {
      "cell_type": "code",
      "metadata": {
        "colab": {
          "base_uri": "https://localhost:8080/"
        },
        "id": "GymoFQ25NpuI",
        "outputId": "c64dbc6b-f207-4bc3-d775-9216d7d31df7"
      },
      "source": [
        "test_words=[\"beast\",\"blade\",\"joker\",\"kdjus\",\"adjsa\"]\n",
        "y_test=[1,1,1,0,0]\n",
        "x_test=[]\n",
        "for word in test_words:\n",
        "  vec=word2num(word)\n",
        "  item=[]\n",
        "  for num in vec:\n",
        "    data=np.zeros(26,dtype=int)\n",
        "    data[num]=1\n",
        "    data_list=data.tolist()\n",
        "    item.append(data_list)\n",
        "  x_test.append(item)\n",
        "print(x_test)\n",
        "test_loss, test_acc = model_1.evaluate(x_test, y_test, verbose=0)\n",
        "print(test_loss)\n",
        "print(test_acc)\n",
        "predictions = model_1.predict(x_test)\n",
        "print(predictions)"
      ],
      "execution_count": null,
      "outputs": [
        {
          "output_type": "stream",
          "name": "stdout",
          "text": [
            "[[[0, 1, 0, 0, 0, 0, 0, 0, 0, 0, 0, 0, 0, 0, 0, 0, 0, 0, 0, 0, 0, 0, 0, 0, 0, 0], [0, 0, 0, 0, 1, 0, 0, 0, 0, 0, 0, 0, 0, 0, 0, 0, 0, 0, 0, 0, 0, 0, 0, 0, 0, 0], [1, 0, 0, 0, 0, 0, 0, 0, 0, 0, 0, 0, 0, 0, 0, 0, 0, 0, 0, 0, 0, 0, 0, 0, 0, 0], [0, 0, 0, 0, 0, 0, 0, 0, 0, 0, 0, 0, 0, 0, 0, 0, 0, 0, 1, 0, 0, 0, 0, 0, 0, 0], [0, 0, 0, 0, 0, 0, 0, 0, 0, 0, 0, 0, 0, 0, 0, 0, 0, 0, 0, 1, 0, 0, 0, 0, 0, 0]], [[0, 1, 0, 0, 0, 0, 0, 0, 0, 0, 0, 0, 0, 0, 0, 0, 0, 0, 0, 0, 0, 0, 0, 0, 0, 0], [0, 0, 0, 0, 0, 0, 0, 0, 0, 0, 0, 1, 0, 0, 0, 0, 0, 0, 0, 0, 0, 0, 0, 0, 0, 0], [1, 0, 0, 0, 0, 0, 0, 0, 0, 0, 0, 0, 0, 0, 0, 0, 0, 0, 0, 0, 0, 0, 0, 0, 0, 0], [0, 0, 0, 1, 0, 0, 0, 0, 0, 0, 0, 0, 0, 0, 0, 0, 0, 0, 0, 0, 0, 0, 0, 0, 0, 0], [0, 0, 0, 0, 1, 0, 0, 0, 0, 0, 0, 0, 0, 0, 0, 0, 0, 0, 0, 0, 0, 0, 0, 0, 0, 0]], [[0, 0, 0, 0, 0, 0, 0, 0, 0, 1, 0, 0, 0, 0, 0, 0, 0, 0, 0, 0, 0, 0, 0, 0, 0, 0], [0, 0, 0, 0, 0, 0, 0, 0, 0, 0, 0, 0, 0, 0, 1, 0, 0, 0, 0, 0, 0, 0, 0, 0, 0, 0], [0, 0, 0, 0, 0, 0, 0, 0, 0, 0, 1, 0, 0, 0, 0, 0, 0, 0, 0, 0, 0, 0, 0, 0, 0, 0], [0, 0, 0, 0, 1, 0, 0, 0, 0, 0, 0, 0, 0, 0, 0, 0, 0, 0, 0, 0, 0, 0, 0, 0, 0, 0], [0, 0, 0, 0, 0, 0, 0, 0, 0, 0, 0, 0, 0, 0, 0, 0, 0, 1, 0, 0, 0, 0, 0, 0, 0, 0]], [[0, 0, 0, 0, 0, 0, 0, 0, 0, 0, 1, 0, 0, 0, 0, 0, 0, 0, 0, 0, 0, 0, 0, 0, 0, 0], [0, 0, 0, 1, 0, 0, 0, 0, 0, 0, 0, 0, 0, 0, 0, 0, 0, 0, 0, 0, 0, 0, 0, 0, 0, 0], [0, 0, 0, 0, 0, 0, 0, 0, 0, 1, 0, 0, 0, 0, 0, 0, 0, 0, 0, 0, 0, 0, 0, 0, 0, 0], [0, 0, 0, 0, 0, 0, 0, 0, 0, 0, 0, 0, 0, 0, 0, 0, 0, 0, 0, 0, 1, 0, 0, 0, 0, 0], [0, 0, 0, 0, 0, 0, 0, 0, 0, 0, 0, 0, 0, 0, 0, 0, 0, 0, 1, 0, 0, 0, 0, 0, 0, 0]], [[1, 0, 0, 0, 0, 0, 0, 0, 0, 0, 0, 0, 0, 0, 0, 0, 0, 0, 0, 0, 0, 0, 0, 0, 0, 0], [0, 0, 0, 1, 0, 0, 0, 0, 0, 0, 0, 0, 0, 0, 0, 0, 0, 0, 0, 0, 0, 0, 0, 0, 0, 0], [0, 0, 0, 0, 0, 0, 0, 0, 0, 1, 0, 0, 0, 0, 0, 0, 0, 0, 0, 0, 0, 0, 0, 0, 0, 0], [0, 0, 0, 0, 0, 0, 0, 0, 0, 0, 0, 0, 0, 0, 0, 0, 0, 0, 1, 0, 0, 0, 0, 0, 0, 0], [1, 0, 0, 0, 0, 0, 0, 0, 0, 0, 0, 0, 0, 0, 0, 0, 0, 0, 0, 0, 0, 0, 0, 0, 0, 0]]]\n",
            "0.000818554952275008\n",
            "1.0\n",
            "[[1.9652704e-09 1.0000000e+00]\n",
            " [1.7644927e-08 1.0000000e+00]\n",
            " [4.0833335e-03 9.9591666e-01]\n",
            " [1.0000000e+00 2.2184957e-11]\n",
            " [9.9999893e-01 1.0198289e-06]]\n"
          ]
        }
      ]
    },
    {
      "cell_type": "markdown",
      "metadata": {
        "id": "RsY1461EYiFp"
      },
      "source": [
        "大量のランダム文字列とペクトルを生成し、予測結果の「存在する単語」である確率が大きい順にソート"
      ]
    },
    {
      "cell_type": "code",
      "metadata": {
        "id": "kLmqoFb3UmpW"
      },
      "source": [
        "length=5\n",
        "randomlist,randomword=generate(data_size=100000)\n",
        "input=[]\n",
        "for vec in randomlist:\n",
        "  item=[]\n",
        "  for num in vec:\n",
        "    data=np.zeros(26,dtype=int)\n",
        "    data[num]=1\n",
        "    data_list=data.tolist()\n",
        "    item.append(data_list)\n",
        "  input.append(item)\n",
        "\n",
        "r_pred=model_1.predict(input)\n",
        "item=[]\n",
        "for i in range(len(r_pred)):\n",
        "  res=[i,r_pred[i][0]]\n",
        "  item.append(res)\n",
        "item.sort(key=lambda item:item[1])"
      ],
      "execution_count": null,
      "outputs": []
    },
    {
      "cell_type": "markdown",
      "metadata": {
        "id": "NDJSVAl7Y4uM"
      },
      "source": [
        "予測結果の「存在する単語」である確率が最も大きい30単語を表示。\n",
        "なんとなく「英単語にありそう」な雰囲気の文字列があることがわかる（？）"
      ]
    },
    {
      "cell_type": "code",
      "metadata": {
        "colab": {
          "base_uri": "https://localhost:8080/"
        },
        "id": "2rC4ZIKNOM-Q",
        "outputId": "c3a8629b-8e23-4830-f357-6eba9206e01c"
      },
      "source": [
        "top=30\n",
        "ans=[]\n",
        "for i in range(top):\n",
        "  id=item[i][0]\n",
        "  ans.append([randomword[id],item[i][1]])\n",
        "  print([randomword[id],item[i][1]])"
      ],
      "execution_count": null,
      "outputs": [
        {
          "output_type": "stream",
          "name": "stdout",
          "text": [
            "['aresn', 8.140479e-12]\n",
            "['fross', 9.360529e-11]\n",
            "['srirm', 1.4889086e-10]\n",
            "['siesd', 2.8570077e-10]\n",
            "['suand', 3.077406e-10]\n",
            "['sramn', 3.6880232e-10]\n",
            "['slosn', 3.9755757e-10]\n",
            "['coias', 6.4331496e-10]\n",
            "['bresn', 6.9942746e-10]\n",
            "['spise', 7.33037e-10]\n",
            "['suyse', 9.483382e-10]\n",
            "['sxaae', 9.978939e-10]\n",
            "['aposd', 1.1661512e-09]\n",
            "['sroks', 1.2433329e-09]\n",
            "['auese', 1.3839621e-09]\n",
            "['sracd', 1.4601056e-09]\n",
            "['srund', 1.9346504e-09]\n",
            "['crobs', 2.1252802e-09]\n",
            "['siiil', 2.2484026e-09]\n",
            "['aliad', 3.0197276e-09]\n",
            "['siind', 3.1254523e-09]\n",
            "['sioas', 3.6240808e-09]\n",
            "['arasc', 3.9477634e-09]\n",
            "['aoasm', 5.764397e-09]\n",
            "['criry', 6.511828e-09]\n",
            "['srimk', 6.735973e-09]\n",
            "['adind', 6.998508e-09]\n",
            "['shabt', 7.3702595e-09]\n",
            "['wuory', 7.948066e-09]\n",
            "['seacl', 8.938689e-09]\n"
          ]
        }
      ]
    }
  ]
}